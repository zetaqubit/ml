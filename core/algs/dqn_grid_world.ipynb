{
 "cells": [
  {
   "cell_type": "code",
   "execution_count": 0,
   "metadata": {
    "id": "gZakj9qdYiaH",
    "colab_type": "code",
    "colab": {}
   },
   "outputs": [],
   "source": [
    "%load_ext autoreload\n",
    "%autoreload 2\n",
    "\n",
    "import matplotlib\n",
    "from matplotlib import pyplot\n",
    "pyplot.ion()\n",
    "pyplot.style.use('dark_background')\n",
    "\n",
    "import torch as th\n",
    "from rl.core.algs.dqn import *"
   ]
  },
  {
   "cell_type": "code",
   "execution_count": 2,
   "metadata": {
    "id": "lZiraZqzYiaK",
    "colab_type": "code",
    "outputId": "3c5359cf-3283-48e8-9cf8-898ab277dbfd",
    "executionInfo": {
     "status": "ok",
     "timestamp": 1.543180294312E12,
     "user_tz": 480.0,
     "elapsed": 25978.0,
     "user": {
      "displayName": "Zhaoyang Xu",
      "photoUrl": "https://lh3.googleusercontent.com/-P706sVVgxyk/AAAAAAAAAAI/AAAAAAAAAEM/nAOSpZonVUE/s64/photo.jpg",
      "userId": "09107292472959224374"
     }
    },
    "colab": {
     "base_uri": "https://localhost:8080/",
     "height": 247.0
    }
   },
   "outputs": [
    {
     "name": "stdout",
     "output_type": "stream",
     "text": [
      "(1, 1, 32)\n",
      "QNetwork(\n",
      "  (convs): Sequential(\n",
      "    (0): Conv2d(1, 32, kernel_size=(4, 4), stride=(1, 1))\n",
      "    (1): ReLU()\n",
      "  )\n",
      "  (fc): Sequential(\n",
      "    (0): Linear(in_features=32, out_features=64, bias=True)\n",
      "    (1): ReLU()\n",
      "    (2): Linear(in_features=64, out_features=4, bias=True)\n",
      "  )\n",
      ")\n"
     ]
    }
   ],
   "source": [
    "from rl.core.algs import experiment\n",
    "from rl.core.algs import model\n",
    "from rl.core.envs import grid_world\n",
    "\n",
    "BATCH_SIZE = 32\n",
    "TRAIN_START_STEP = 3 * BATCH_SIZE\n",
    "NUM_TRAIN_STEPS = 10000 # 17\n",
    "REPLAY_SIZE = 100000\n",
    "TARGET_NETWORK_UPDATE_FREQ = 500\n",
    "\n",
    "\n",
    "env = environment.GridWorldWrapped(grid_shape=(4, 4, 1))\n",
    "conv_specs = {\n",
    "  model.ConvSpec(32, 4, 1),\n",
    "}\n",
    "fc_specs = (64,)\n",
    "model_params = {\n",
    "  'conv_specs': conv_specs,\n",
    "  'fc_specs': fc_specs,\n",
    "}\n",
    "\n",
    "EPS_DECAY = util.Schedule((0, TRAIN_START_STEP, NUM_TRAIN_STEPS / 1, NUM_TRAIN_STEPS),\n",
    "                          (1, 1, 0.0, 0.0))\n",
    "EPS_RANDOM = util.Schedule((0,), (1.0,))\n",
    "adam_params = {\n",
    "  'fn': th.optim.Adam,\n",
    "  'kwargs': {\n",
    "    'lr': 0.005,\n",
    "  }\n",
    "}\n",
    "rmsprop_params = {\n",
    "  'fn': th.optim.RMSprop,\n",
    "  'kwargs': {\n",
    "    'lr': 0.00025,\n",
    "    'momentum': 0.95,\n",
    "    'alpha': 0.95,\n",
    "    'eps': 0.01,\n",
    "  }\n",
    "}\n",
    "\n",
    "policy_params = {\n",
    "    'opt_params': rmsprop_params,\n",
    "    'eps_sched': EPS_DECAY,  # TODO: change\n",
    "    'target_update_freq': TARGET_NETWORK_UPDATE_FREQ,\n",
    "}\n",
    "exp = experiment.Experiment(env, model.QNetwork, model_params,\n",
    "                            Dqn, policy_params)\n",
    "\n",
    "print(exp.policy.model)\n",
    "\n",
    "rb = ReplayBuffer(REPLAY_SIZE)\n",
    "for step in range(TRAIN_START_STEP):\n",
    "  sars = env.step(exp.policy.get_action)\n",
    "  rb.add(sars)\n",
    "\n",
    "eps_rew = 0\n",
    "for step in range(TRAIN_START_STEP, NUM_TRAIN_STEPS):\n",
    "  sars = env.step(exp.policy.get_action)\n",
    "  rb.add(sars)\n",
    "    \n",
    "  experience_batch = rb.sample(BATCH_SIZE)\n",
    "  m = exp.policy.update(experience_batch)\n",
    "  \n",
    "  eps_rew += sars.r\n",
    "  if sars.s1 is None:\n",
    "    m['r_per_eps'] = eps_rew\n",
    "    eps_rew = 0\n",
    "  if step % 100 == 0 or sars.s1 is None:\n",
    "    for k, v in m.items():\n",
    "      exp.plt.add_data(k, step, v)\n",
    "      \n",
    "# Expect about r_per_eps=-50 in pure random agent."
   ]
  },
  {
   "cell_type": "code",
   "execution_count": 3,
   "metadata": {
    "id": "BeDMyfzVYiaN",
    "colab_type": "code",
    "outputId": "12b1c478-b4f9-4ef4-c74a-aacde2b62b61",
    "executionInfo": {
     "status": "ok",
     "timestamp": 1.54318029437E12,
     "user_tz": 480.0,
     "elapsed": 26021.0,
     "user": {
      "displayName": "Zhaoyang Xu",
      "photoUrl": "https://lh3.googleusercontent.com/-P706sVVgxyk/AAAAAAAAAAI/AAAAAAAAAEM/nAOSpZonVUE/s64/photo.jpg",
      "userId": "09107292472959224374"
     }
    },
    "colab": {
     "base_uri": "https://localhost:8080/",
     "height": 36.0
    }
   },
   "outputs": [
    {
     "name": "stdout",
     "output_type": "stream",
     "text": [
      "optimal expected r: 1.6666666666666665\n"
     ]
    }
   ],
   "source": [
    "opt = grid_world.GridWorld((4, 4)).optimal_expected_reward()\n",
    "print(f'optimal expected r: {opt}')"
   ]
  },
  {
   "cell_type": "code",
   "execution_count": 4,
   "metadata": {
    "id": "HDhC91uXYiaP",
    "colab_type": "code",
    "outputId": "d6756e69-988a-4d90-c3bc-08b01fabb8c8",
    "executionInfo": {
     "status": "ok",
     "timestamp": 1.543180294601E12,
     "user_tz": 480.0,
     "elapsed": 26232.0,
     "user": {
      "displayName": "Zhaoyang Xu",
      "photoUrl": "https://lh3.googleusercontent.com/-P706sVVgxyk/AAAAAAAAAAI/AAAAAAAAAEM/nAOSpZonVUE/s64/photo.jpg",
      "userId": "09107292472959224374"
     }
    },
    "colab": {
     "base_uri": "https://localhost:8080/",
     "height": 2474.0
    }
   },
   "outputs": [
    {
     "name": "stdout",
     "output_type": "stream",
     "text": [
      "[[ 0.         -0.03565243 -0.98968899 -1.94701207]\n",
      " [ 0.09208554 -0.94079018 -1.91302907 -2.97501612]\n",
      " [-0.96546632 -1.92566752 -2.88638926 -3.92972302]\n",
      " [-1.99731803 -3.00002432 -3.97250724 -4.70307589]]\n",
      "[['⟲' '←' '←' '←']\n",
      " ['↑' '↑' '←' '←']\n",
      " ['↑' '↑' '↑' '↑']\n",
      " ['↑' '↑' '←' '↑']]\n",
      "[[ 0.06983802  0.         -0.12369719 -1.0901283 ]\n",
      " [-0.92832971 -0.07376561 -1.05427289 -2.08433652]\n",
      " [-2.02989602 -1.02859521 -2.07932711 -3.0136981 ]\n",
      " [-2.99683666 -2.02935934 -3.03669262 -3.65212059]]\n",
      "[['→' '⟲' '←' '←']\n",
      " ['→' '↑' '↑' '←']\n",
      " ['↑' '↑' '←' '↑']\n",
      " ['↑' '↑' '↑' '↑']]\n",
      "[[-0.98799074 -0.17828527  0.         -0.00574729]\n",
      " [-1.89138412 -0.97470677  0.08617634 -0.95501506]\n",
      " [-2.89577818 -1.92607808 -0.90306997 -2.0723877 ]\n",
      " [-3.78357339 -2.87495208 -2.05026913 -2.85262084]]\n",
      "[['→' '→' '⟲' '←']\n",
      " ['↑' '↑' '↑' '←']\n",
      " ['↑' '↑' '↑' '↑']\n",
      " ['↑' '↑' '↑' '↑']]\n",
      "[[-1.90956759e+00 -1.08513665e+00 -1.04762822e-01  0.00000000e+00]\n",
      " [-2.87019324e+00 -1.88199759e+00 -1.02859175e+00 -1.06751919e-03]\n",
      " [-3.46420312e+00 -2.83611727e+00 -1.81295943e+00 -9.44086909e-01]\n",
      " [-4.69869328e+00 -3.57696605e+00 -2.91155195e+00 -1.94260502e+00]]\n",
      "[['→' '→' '→' '⟲']\n",
      " ['→' '↑' '↑' '↑']\n",
      " ['↑' '↑' '↑' '↑']\n",
      " ['↑' '↑' '↑' '↑']]\n",
      "[[ 0.03728595 -0.78569269 -2.02737069 -2.85347557]\n",
      " [ 0.          0.01766232 -0.92642295 -2.07845426]\n",
      " [ 0.00414678 -0.89605474 -1.96602368 -2.84295535]\n",
      " [-1.02523589 -1.92270827 -2.95600939 -3.99509645]]\n",
      "[['↓' '↓' '↓' '←']\n",
      " ['⟲' '←' '←' '←']\n",
      " ['↑' '↑' '↑' '←']\n",
      " ['↑' '↑' '↑' '↑']]\n",
      "[[-0.99731314  0.04601511 -1.04687333 -2.08838177]\n",
      " [ 0.02169058  0.         -0.0736765  -1.00879478]\n",
      " [-0.89368582 -0.06173018 -1.04593277 -1.92177439]\n",
      " [-2.05138659 -0.97963029 -1.89478111 -3.04737544]]\n",
      "[['↓' '↓' '↓' '←']\n",
      " ['→' '⟲' '←' '←']\n",
      " ['→' '↑' '↑' '←']\n",
      " ['↑' '↑' '↑' '←']]\n",
      "[[-2.02568221e+00 -1.05999768e+00 -1.31974310e-01 -1.03962135e+00]\n",
      " [-9.78742480e-01 -2.11634338e-02  0.00000000e+00 -2.58117616e-02]\n",
      " [-1.95537138e+00 -1.10669374e+00  1.99890137e-03 -1.00458193e+00]\n",
      " [-2.92474985e+00 -1.98887873e+00 -1.12156415e+00 -1.89035344e+00]]\n",
      "[['↓' '↓' '↓' '↓']\n",
      " ['→' '→' '⟲' '←']\n",
      " ['↑' '↑' '↑' '↑']\n",
      " ['↑' '↑' '↑' '↑']]\n",
      "[[-3.19718385 -2.15321708 -1.09070742 -0.47229776]\n",
      " [-2.11440253 -1.0590204  -0.02749535  0.        ]\n",
      " [-2.96645665 -2.03396559 -1.03881001 -0.11369592]\n",
      " [-3.9217422  -2.86821842 -2.16365886 -1.11979365]]\n",
      "[['↓' '↓' '↓' '↓']\n",
      " ['→' '→' '→' '⟲']\n",
      " ['→' '↑' '↑' '↑']\n",
      " ['→' '→' '↑' '↑']]\n",
      "[[-1.0208528  -1.79326582 -2.8038764  -3.67657447]\n",
      " [ 0.04997569 -0.96046448 -1.81258762 -2.72348237]\n",
      " [ 0.          0.0385513  -1.02679825 -1.89850128]\n",
      " [ 0.12992424 -0.91923463 -1.89784265 -2.92924094]]\n",
      "[['↓' '↓' '↓' '↓']\n",
      " ['↓' '←' '←' '←']\n",
      " ['⟲' '←' '←' '←']\n",
      " ['↑' '←' '↑' '←']]\n",
      "[[-2.1340518  -1.11846375 -2.14185882 -3.25968885]\n",
      " [-1.04435778 -0.01424643 -1.10250711 -2.03912592]\n",
      " [-0.03031197  0.         -0.00667587 -1.12542343]\n",
      " [-0.9879415   0.04842275 -0.93498755 -2.00970292]]\n",
      "[['→' '↓' '↓' '←']\n",
      " ['↓' '↓' '←' '←']\n",
      " ['→' '⟲' '←' '←']\n",
      " ['↑' '↑' '←' '←']]\n",
      "[[-2.88808012 -1.95388973 -1.00484335 -1.90625465]\n",
      " [-1.93833506 -0.9659065  -0.00366506 -0.93911946]\n",
      " [-1.00632799  0.02997437  0.         -0.08547568]\n",
      " [-1.88281512 -0.83428371  0.15168971 -0.94207448]]\n",
      "[['↓' '↓' '↓' '↓']\n",
      " ['→' '→' '↓' '↓']\n",
      " ['→' '→' '⟲' '←']\n",
      " ['→' '↑' '↑' '↑']]\n",
      "[[-3.89911246 -3.0122304  -1.78252017 -0.86350119]\n",
      " [-2.9215951  -1.83216524 -0.81476194  0.20926872]\n",
      " [-2.04159474 -0.92394733  0.05233857  0.        ]\n",
      " [-2.90468979 -1.90522194 -0.9620862  -0.06019258]]\n",
      "[['↓' '↓' '↓' '↓']\n",
      " ['↓' '→' '↓' '↓']\n",
      " ['→' '→' '→' '⟲']\n",
      " ['→' '→' '→' '↑']]\n",
      "[[-2.21138000e+00 -3.08756399e+00 -3.94017529e+00 -4.82142973e+00]\n",
      " [-1.08295202e+00 -1.96374393e+00 -2.95257878e+00 -4.06309605e+00]\n",
      " [ 4.18820977e-03 -1.10995388e+00 -1.95193398e+00 -3.04706120e+00]\n",
      " [ 0.00000000e+00 -2.91604698e-02 -1.18341768e+00 -2.09236240e+00]]\n",
      "[['↓' '↓' '↓' '↓']\n",
      " ['↓' '↓' '↓' '↓']\n",
      " ['↓' '←' '↓' '↓']\n",
      " ['⟲' '←' '←' '←']]\n",
      "[[-2.86733127 -2.06843972 -3.1343689  -3.97177792]\n",
      " [-1.93742895 -1.03995121 -2.01551509 -3.01209974]\n",
      " [-0.87735307  0.0390662  -1.04924607 -2.01979542]\n",
      " [-0.13777497  0.         -0.00915498 -1.09364891]]\n",
      "[['↓' '↓' '↓' '←']\n",
      " ['↓' '↓' '←' '↓']\n",
      " ['↓' '↓' '↓' '↓']\n",
      " ['→' '⟲' '←' '←']]\n",
      "[[-3.8366065  -2.89683867 -2.04689789 -2.74577475]\n",
      " [-2.93716788 -1.98008871 -1.0032717  -1.98262346]\n",
      " [-1.92721963 -0.9579947  -0.01193023 -0.81230575]\n",
      " [-1.12702334  0.00634521  0.          0.0527595 ]]\n",
      "[['↓' '↓' '↓' '↓']\n",
      " ['↓' '↓' '↓' '↓']\n",
      " ['↓' '→' '↓' '←']\n",
      " ['→' '→' '⟲' '←']]\n",
      "[[-4.78712368 -3.89177132 -2.77443457 -1.87311709]\n",
      " [-3.77140403 -2.82422876 -1.79681766 -0.89151835]\n",
      " [-2.9231689  -1.7913909  -0.8811065   0.08551785]\n",
      " [-1.95290256 -1.02493644 -0.04473013  0.        ]]\n",
      "[['→' '↓' '↓' '↓']\n",
      " ['↓' '↓' '↓' '↓']\n",
      " ['↓' '↓' '↓' '↓']\n",
      " ['→' '→' '→' '⟲']]\n"
     ]
    }
   ],
   "source": [
    "env.show_model_policy(exp.policy.model)"
   ]
  },
  {
   "cell_type": "code",
   "execution_count": 5,
   "metadata": {
    "id": "qyrBj6McYiaR",
    "colab_type": "code",
    "outputId": "e782c07c-7fef-422b-8057-758b6fd521e9",
    "executionInfo": {
     "status": "ok",
     "timestamp": 1.543180294607E12,
     "user_tz": 480.0,
     "elapsed": 26226.0,
     "user": {
      "displayName": "Zhaoyang Xu",
      "photoUrl": "https://lh3.googleusercontent.com/-P706sVVgxyk/AAAAAAAAAAI/AAAAAAAAAEM/nAOSpZonVUE/s64/photo.jpg",
      "userId": "09107292472959224374"
     }
    },
    "colab": {
     "base_uri": "https://localhost:8080/",
     "height": 94.0
    }
   },
   "outputs": [
    {
     "name": "stdout",
     "output_type": "stream",
     "text": [
      "tensor([[-2.0365, -2.1169, -0.0119, -1.9946]],\n",
      "       device='cuda:0', grad_fn=<ThAddmmBackward>)\n",
      "tensor([[-1.9510, -2.0999,  0.0151, -1.9945]],\n",
      "       device='cuda:0', grad_fn=<ThAddmmBackward>)\n"
     ]
    }
   ],
   "source": [
    "# Debug the action-value function for a given state.\n",
    "s = [[0, 0, 0, 0],\n",
    "     [0, 0, 0, 0],\n",
    "     [0, 0, 1, 0],\n",
    "     [0, 0, 2, 0]]\n",
    "s = np.expand_dims(np.expand_dims(s, 0), -1)\n",
    "print(exp.policy.model(util.to_tensor(s)))\n",
    "print(exp.policy.target_model(util.to_tensor(s)))"
   ]
  },
  {
   "cell_type": "code",
   "execution_count": 6,
   "metadata": {
    "id": "65Q_pbVPYiaT",
    "colab_type": "code",
    "outputId": "f138d6f6-faf3-481c-fa11-1ce734cf6f1d",
    "executionInfo": {
     "status": "ok",
     "timestamp": 1.543180294611E12,
     "user_tz": 480.0,
     "elapsed": 26221.0,
     "user": {
      "displayName": "Zhaoyang Xu",
      "photoUrl": "https://lh3.googleusercontent.com/-P706sVVgxyk/AAAAAAAAAAI/AAAAAAAAAEM/nAOSpZonVUE/s64/photo.jpg",
      "userId": "09107292472959224374"
     }
    },
    "colab": {
     "base_uri": "https://localhost:8080/",
     "height": 55.0
    }
   },
   "outputs": [
    {
     "name": "stdout",
     "output_type": "stream",
     "text": [
      "1673\n",
      "Num with (s): 75. Num with (s, a): 56\n"
     ]
    }
   ],
   "source": [
    "# Examine the replay buffer.\n",
    "terminals = rb.filter_by(sars_filter(r=0))\n",
    "print(len(terminals))\n",
    "\n",
    "# action-value at 's' was wrong. Search the replay buffer for occurrences of\n",
    "# the correct transition. It's likely missing, which led the NN to overfit\n",
    "# on missing data.\n",
    "trans_s = rb.filter_by(sars_filter(s=s))\n",
    "trans_s_a = rb.filter_by(sars_filter(s=s,a=2))\n",
    "print(f'Num with (s): {len(trans_s)}. Num with (s, a): {len(trans_s_a)}')\n"
   ]
  },
  {
   "cell_type": "code",
   "execution_count": 7,
   "metadata": {
    "id": "XoZsxQ4YYiaW",
    "colab_type": "code",
    "outputId": "7c18bd76-7794-4529-815c-f4536c18962a",
    "executionInfo": {
     "status": "ok",
     "timestamp": 1.543180294641E12,
     "user_tz": 480.0,
     "elapsed": 26233.0,
     "user": {
      "displayName": "Zhaoyang Xu",
      "photoUrl": "https://lh3.googleusercontent.com/-P706sVVgxyk/AAAAAAAAAAI/AAAAAAAAAEM/nAOSpZonVUE/s64/photo.jpg",
      "userId": "09107292472959224374"
     }
    },
    "colab": {
     "base_uri": "https://localhost:8080/",
     "height": 2167.0
    }
   },
   "outputs": [
    {
     "name": "stdout",
     "output_type": "stream",
     "text": [
      "array([[0, 0, 0, 0],\n",
      "       [0, 0, 0, 0],\n",
      "       [0, 0, 0, 0],\n",
      "       [1, 0, 0, 2]])\n",
      "array([[0, 0, 0, 0],\n",
      "       [0, 0, 0, 0],\n",
      "       [0, 0, 0, 0],\n",
      "       [0, 1, 0, 2]])\n",
      "array([[0, 0, 0, 0],\n",
      "       [0, 0, 0, 0],\n",
      "       [0, 0, 0, 0],\n",
      "       [0, 0, 1, 2]])\n",
      "array([[0, 0, 0, 0],\n",
      "       [0, 0, 0, 0],\n",
      "       [0, 0, 0, 0],\n",
      "       [0, 0, 0, 1]])\n",
      "array([[0, 0, 0, 2],\n",
      "       [0, 1, 0, 0],\n",
      "       [0, 0, 0, 0],\n",
      "       [0, 0, 0, 0]])\n",
      "array([[0, 1, 0, 2],\n",
      "       [0, 0, 0, 0],\n",
      "       [0, 0, 0, 0],\n",
      "       [0, 0, 0, 0]])\n",
      "array([[0, 0, 1, 2],\n",
      "       [0, 0, 0, 0],\n",
      "       [0, 0, 0, 0],\n",
      "       [0, 0, 0, 0]])\n",
      "array([[0, 0, 0, 1],\n",
      "       [0, 0, 0, 0],\n",
      "       [0, 0, 0, 0],\n",
      "       [0, 0, 0, 0]])\n",
      "array([[0, 0, 0, 0],\n",
      "       [0, 0, 1, 2],\n",
      "       [0, 0, 0, 0],\n",
      "       [0, 0, 0, 0]])\n",
      "array([[0, 0, 0, 0],\n",
      "       [0, 0, 0, 1],\n",
      "       [0, 0, 0, 0],\n",
      "       [0, 0, 0, 0]])\n",
      "array([[0, 0, 0, 0],\n",
      "       [1, 2, 0, 0],\n",
      "       [0, 0, 0, 0],\n",
      "       [0, 0, 0, 0]])\n",
      "array([[0, 0, 0, 0],\n",
      "       [0, 1, 0, 0],\n",
      "       [0, 0, 0, 0],\n",
      "       [0, 0, 0, 0]])\n",
      "array([[2, 0, 0, 0],\n",
      "       [0, 0, 0, 1],\n",
      "       [0, 0, 0, 0],\n",
      "       [0, 0, 0, 0]])\n",
      "array([[2, 0, 0, 0],\n",
      "       [0, 0, 1, 0],\n",
      "       [0, 0, 0, 0],\n",
      "       [0, 0, 0, 0]])\n",
      "array([[2, 0, 0, 0],\n",
      "       [0, 1, 0, 0],\n",
      "       [0, 0, 0, 0],\n",
      "       [0, 0, 0, 0]])\n",
      "array([[2, 1, 0, 0],\n",
      "       [0, 0, 0, 0],\n",
      "       [0, 0, 0, 0],\n",
      "       [0, 0, 0, 0]])\n",
      "array([[1, 0, 0, 0],\n",
      "       [0, 0, 0, 0],\n",
      "       [0, 0, 0, 0],\n",
      "       [0, 0, 0, 0]])\n",
      "array([[1, 0, 0, 0],\n",
      "       [0, 0, 0, 0],\n",
      "       [0, 0, 0, 0],\n",
      "       [0, 0, 2, 0]])\n",
      "array([[0, 0, 0, 0],\n",
      "       [1, 0, 0, 0],\n",
      "       [0, 0, 0, 0],\n",
      "       [0, 0, 2, 0]])\n",
      "array([[0, 0, 0, 0],\n",
      "       [0, 0, 0, 0],\n",
      "       [1, 0, 0, 0],\n",
      "       [0, 0, 2, 0]])\n",
      "array([[0, 0, 0, 0],\n",
      "       [0, 0, 0, 0],\n",
      "       [0, 0, 0, 0],\n",
      "       [1, 0, 2, 0]])\n",
      "array([[0, 0, 0, 0],\n",
      "       [0, 0, 0, 0],\n",
      "       [0, 0, 0, 0],\n",
      "       [0, 1, 2, 0]])\n",
      "array([[0, 0, 0, 0],\n",
      "       [0, 0, 0, 0],\n",
      "       [0, 0, 0, 0],\n",
      "       [0, 0, 1, 0]])\n",
      "array([[0, 0, 0, 0],\n",
      "       [0, 0, 0, 0],\n",
      "       [0, 0, 0, 1],\n",
      "       [0, 0, 0, 2]])\n",
      "array([[0, 0, 0, 0],\n",
      "       [0, 0, 0, 0],\n",
      "       [0, 0, 0, 0],\n",
      "       [0, 0, 0, 1]])\n",
      "array([[0, 0, 0, 0],\n",
      "       [0, 0, 0, 1],\n",
      "       [0, 0, 0, 0],\n",
      "       [2, 0, 0, 0]])\n",
      "array([[0, 0, 0, 0],\n",
      "       [0, 0, 0, 0],\n",
      "       [0, 0, 0, 1],\n",
      "       [2, 0, 0, 0]])\n",
      "array([[0, 0, 0, 0],\n",
      "       [0, 0, 0, 0],\n",
      "       [0, 0, 0, 0],\n",
      "       [2, 0, 0, 1]])\n"
     ]
    }
   ],
   "source": [
    "env.visualize(exp.policy, steps=20)"
   ]
  },
  {
   "cell_type": "code",
   "execution_count": 0,
   "metadata": {
    "id": "LhLBLpMhd0V2",
    "colab_type": "code",
    "colab": {}
   },
   "outputs": [],
   "source": [
    ""
   ]
  }
 ],
 "metadata": {
  "colab": {
   "name": "dqn_grid_world.ipynb",
   "version": "0.3.2",
   "provenance": [],
   "collapsed_sections": []
  },
  "kernelspec": {
   "display_name": "Python 3",
   "language": "python",
   "name": "python3"
  }
 },
 "nbformat": 4,
 "nbformat_minor": 0
}
