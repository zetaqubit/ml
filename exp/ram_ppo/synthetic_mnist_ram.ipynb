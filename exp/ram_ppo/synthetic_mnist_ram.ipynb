{
  "nbformat": 4,
  "nbformat_minor": 0,
  "metadata": {
    "colab": {
      "name": "synthetic_mnist_ram.ipynb",
      "version": "0.3.2",
      "provenance": [],
      "collapsed_sections": [],
      "toc_visible": true
    },
    "kernelspec": {
      "name": "python3",
      "display_name": "Python 3"
    },
    "accelerator": "GPU"
  },
  "cells": [
    {
      "metadata": {
        "id": "iAhwExDiZRsU",
        "colab_type": "text"
      },
      "cell_type": "markdown",
      "source": [
        "## Description"
      ]
    },
    {
      "metadata": {
        "id": "TdEX4i5BZgzK",
        "colab_type": "text"
      },
      "cell_type": "markdown",
      "source": [
        "**Dataset**\n",
        "\n",
        "Each example is a random pair of MNIST digits placed at random positions within a large black image, with the target label of the sum of the MNIST digits.\n",
        "\n",
        "**Model**\n",
        "\n",
        "A recurrent attention model that looks at the downsampled image and selects 2 high-res patches to look at before making a prediction.\n",
        "\n"
      ]
    },
    {
      "metadata": {
        "id": "aKIFn3pMc4_e",
        "colab_type": "text"
      },
      "cell_type": "markdown",
      "source": [
        "## Install"
      ]
    },
    {
      "metadata": {
        "id": "4c9zNSftc5Sv",
        "colab_type": "code",
        "outputId": "c89086fe-e808-47ae-f044-eb504bb972f5",
        "colab": {
          "base_uri": "https://localhost:8080/",
          "height": 152
        }
      },
      "cell_type": "code",
      "source": [
        "!pip3 install torch torchvision numpy"
      ],
      "execution_count": 1,
      "outputs": [
        {
          "output_type": "stream",
          "text": [
            "Requirement already satisfied: torch in /usr/lib/python3.6/site-packages (1.0.0)\r\n",
            "Requirement already satisfied: torchvision in /usr/lib/python3.6/site-packages (0.2.1)\r\n",
            "Requirement already satisfied: numpy in /usr/lib/python3.6/site-packages (1.14.1)\r\n",
            "Requirement already satisfied: six in /usr/lib/python3.6/site-packages (from torchvision) (1.11.0)\r\n",
            "Requirement already satisfied: pillow>=4.1.1 in /usr/lib/python3.6/site-packages (from torchvision) (5.0.0)\r\n",
            "Requirement already satisfied: tqdm in /usr/lib/python3.6/site-packages (from torchvision) (4.26.0)\r\n"
          ],
          "name": "stdout"
        }
      ]
    },
    {
      "metadata": {
        "id": "SxBzO4YPb1-r",
        "colab_type": "text"
      },
      "cell_type": "markdown",
      "source": [
        "## Imports"
      ]
    },
    {
      "metadata": {
        "id": "d0meQMvWbx1J",
        "colab_type": "code",
        "colab": {}
      },
      "cell_type": "code",
      "source": [
        "from matplotlib import pyplot as plt\n",
        "import numpy as np\n",
        "\n",
        "import torch as th\n",
        "from torch import nn\n",
        "import torchvision\n",
        "from torchvision import transforms\n",
        "\n",
        "%load_ext autoreload\n",
        "%autoreload 2\n",
        "\n",
        "def show_image(image):\n",
        "  image = image.squeeze()\n",
        "  plt.imshow(image, cmap='gray')\n",
        "  plt.axis('off')"
      ],
      "execution_count": 0,
      "outputs": []
    },
    {
      "metadata": {
        "id": "YUvDtaLcgN9c",
        "colab_type": "text"
      },
      "cell_type": "markdown",
      "source": [
        "## Config"
      ]
    },
    {
      "metadata": {
        "id": "iELDlX4IgRbf",
        "colab_type": "code",
        "outputId": "07bc09da-7792-4652-a142-6fcbed6821ed",
        "colab": {
          "base_uri": "https://localhost:8080/",
          "height": 36
        }
      },
      "cell_type": "code",
      "source": [
        "debug = False\n",
        "device = th.device('cuda' if th.cuda.is_available() and not debug else 'cpu')\n",
        "print(f'Using {device}')\n",
        "\n",
        "# Synthetic dataset\n",
        "width = 128\n",
        "height = 128\n",
        "num_images = 50000\n",
        "num_images_test = 10000\n",
        "tiles_per_image = 2\n",
        "num_classes = 1 + 9 * tiles_per_image  # [0, ..., 9 * n]\n",
        "\n",
        "# ImageWorld\n",
        "window_size = 32\n",
        "\n",
        "num_epochs = 10\n",
        "batch_size = 32\n",
        "learning_rate = 0.001"
      ],
      "execution_count": 16,
      "outputs": [
        {
          "output_type": "stream",
          "text": [
            "Using cuda\n"
          ],
          "name": "stdout"
        }
      ]
    },
    {
      "metadata": {
        "id": "BCGWvI2KKH9-",
        "colab_type": "text"
      },
      "cell_type": "markdown",
      "source": [
        "## Dataset: MNIST Pair Sum "
      ]
    },
    {
      "metadata": {
        "id": "nxMMkca8KH9-",
        "colab_type": "code",
        "colab": {}
      },
      "cell_type": "code",
      "source": [
        "from rl.core.envs import synthetic_dataset\n",
        "\n",
        "train_dataset = synthetic_dataset.MnistSyntheticDataset(\n",
        "    width=width, height=height, num_images=num_images,\n",
        "    tiles_per_image=tiles_per_image, train=True)\n",
        "\n",
        "train_loader = th.utils.data.DataLoader(\n",
        "    dataset=train_dataset, batch_size=batch_size, shuffle=True)\n",
        "\n",
        "test_dataset = synthetic_dataset.MnistSyntheticDataset(\n",
        "    width=width, height=height, num_images=num_images_test,\n",
        "    tiles_per_image=tiles_per_image, train=False)\n",
        "\n",
        "test_loader = th.utils.data.DataLoader(\n",
        "    dataset=test_dataset, batch_size= batch_size, shuffle=False)"
      ],
      "execution_count": 0,
      "outputs": []
    },
    {
      "metadata": {
        "id": "DojQGYn9IB9F",
        "colab_type": "text"
      },
      "cell_type": "markdown",
      "source": [
        "## Environment"
      ]
    },
    {
      "metadata": {
        "id": "2dVOFncmIDBU",
        "colab_type": "code",
        "colab": {}
      },
      "cell_type": "code",
      "source": [
        "from rl.core.envs import image_world\n",
        "\n",
        "train_env = image_world.ImageWorld(\n",
        "    window_size=window_size,\n",
        "    images=train_dataset.images,\n",
        "    labels=train_dataset.labels,\n",
        "    num_classes=num_classes)\n",
        "\n",
        "test_env = image_world.ImageWorld(\n",
        "    window_size=window_size,\n",
        "    images=test_dataset.images,\n",
        "    labels=test_dataset.labels,\n",
        "    num_classes=num_classes)"
      ],
      "execution_count": 0,
      "outputs": []
    },
    {
      "metadata": {
        "id": "1kjdLRyKKBd3",
        "colab_type": "code",
        "colab": {
          "base_uri": "https://localhost:8080/",
          "height": 269
        },
        "outputId": "42d1c7c7-fc16-42c6-e250-cb1a90633b6a"
      },
      "cell_type": "code",
      "source": [
        "show_image(train_env.image)"
      ],
      "execution_count": 35,
      "outputs": [
        {
          "output_type": "display_data",
          "data": {
            "text/plain": [
              "<matplotlib.figure.Figure at 0x7f59e806e400>"
            ],
            "image/png": "[encoded data removed]"
          },
          "metadata": {
            "tags": []
          }
        }
      ]
    },
    {
      "metadata": {
        "id": "qRHv57qCJo3h",
        "colab_type": "code",
        "colab": {
          "base_uri": "https://localhost:8080/",
          "height": 269
        },
        "outputId": "48935286-663b-4093-860f-87232db39115"
      },
      "cell_type": "code",
      "source": [
        "show_image(train_env.minimap)"
      ],
      "execution_count": 36,
      "outputs": [
        {
          "output_type": "display_data",
          "data": {
            "text/plain": [
              "<matplotlib.figure.Figure at 0x7f59e80da6a0>"
            ],
            "image/png": "[encoded data removed]"
          },
          "metadata": {
            "tags": []
          }
        }
      ]
    },
    {
      "metadata": {
        "id": "fcVkQX3WLZYH",
        "colab_type": "code",
        "colab": {
          "base_uri": "https://localhost:8080/",
          "height": 36
        },
        "outputId": "2089b039-17d3-41b5-e6d6-9e4501db305f"
      },
      "cell_type": "code",
      "source": [
        "train_env.label"
      ],
      "execution_count": 37,
      "outputs": [
        {
          "output_type": "execute_result",
          "data": {
            "text/plain": [
              "6.0"
            ]
          },
          "metadata": {
            "tags": []
          },
          "execution_count": 37
        }
      ]
    },
    {
      "metadata": {
        "id": "W76Cu2HGNOMd",
        "colab_type": "text"
      },
      "cell_type": "markdown",
      "source": [
        "## Model"
      ]
    },
    {
      "metadata": {
        "id": "Mkjmv-dHe0tt",
        "colab_type": "code",
        "colab": {}
      },
      "cell_type": "code",
      "source": [
        "# CNN over window\n",
        "class CNN(nn.Module):\n",
        "  def __init__(self, output_size):\n",
        "    super().__init__()\n",
        "    self.convs = nn.Sequential(\n",
        "        nn.Conv2d(1, 16, kernel_size=5, stride=1, padding=2),\n",
        "        nn.BatchNorm2d(16),\n",
        "        nn.ReLU(),\n",
        "\n",
        "        nn.Conv2d(16, 32, kernel_size=5, stride=2, padding=2),\n",
        "        nn.BatchNorm2d(32),\n",
        "        nn.ReLU(),\n",
        "\n",
        "        nn.Conv2d(32, 64, kernel_size=5, stride=2, padding=2),\n",
        "        nn.BatchNorm2d(64),\n",
        "        nn.ReLU(),\n",
        "\n",
        "        nn.Conv2d(64, 128, kernel_size=5, stride=2, padding=2),\n",
        "        nn.BatchNorm2d(128),\n",
        "        nn.ReLU(),\n",
        "        \n",
        "        nn.Conv2d(128, 256, kernel_size=5, stride=2, padding=2),\n",
        "        nn.BatchNorm2d(256),\n",
        "        nn.ReLU(),\n",
        "        \n",
        "        nn.Conv2d(256, 512, kernel_size=5, stride=2, padding=2),\n",
        "        nn.BatchNorm2d(512),\n",
        "        nn.ReLU(),\n",
        "    )\n",
        "    self.pooling = nn.AdaptiveAvgPool2d((1, 1))\n",
        "    self.fc = nn.Linear(512, output_size)\n",
        "    \n",
        "  def forward(self, x):\n",
        "    out = self.convs(x)\n",
        "    out = self.pooling(out)\n",
        "    out = out.reshape(out.size(0), -1)\n",
        "    out = self.fc(out)\n",
        "    return out\n"
      ],
      "execution_count": 0,
      "outputs": []
    },
    {
      "metadata": {
        "id": "RGekG8FbphzQ",
        "colab_type": "code",
        "colab": {}
      },
      "cell_type": "code",
      "source": [
        "# RNN Controller\n",
        "class RNN(nn.Module):\n",
        "  def __init__(self, input_size, hidden_size, num_layers, output_size):\n",
        "    super().__init__()\n",
        "    self.hidden_size = hidden_size\n",
        "    self.num_layers = num_layers\n",
        "    self.lstm = nn.LSTM(input_size, hidden_size, num_layers)\n",
        "    self.fc = nn.Linear(hidden_size, output_size)\n",
        "    \n",
        "  def forward(self, x):\n",
        "    \"\"\"\n",
        "    Args:\n",
        "      x: input tensor, shaped [seq_len, batch_size, input_size]\n",
        "    \"\"\"\n",
        "    if self.h_n is None:\n",
        "      # Set initial hidden and cell states.\n",
        "      self.h_n = th.zeros(self.num_layers, x.size(1), self.hidden_size).to(device)\n",
        "      self.c_n = th.zeros(self.num_layers, x.size(1), self.hidden_size).to(device)\n",
        "    \n",
        "    # Forward propagate LSTM.\n",
        "    # out shape (seq_len, batch_size, hid_size)\n",
        "    out, (self.h_n, self.c_n) = self.lstm(x, (self.h_n, self.c_n))\n",
        "    \n",
        "    # Decode the hidden state of the last time step.\n",
        "    out = self.fc(out[-1, :, :])\n",
        "    return out\n",
        "    \n",
        "  def reset(self):\n",
        "    self.h_n, self.c_n = None, None\n",
        "  \n",
        "  def step(self, x):\n",
        "    \"\"\"\n",
        "    Args:\n",
        "      x: input tensor, shaped [batch_size, input_size]\n",
        "    \"\"\"\n",
        "    return forward(x.unsqueeze(dim=0))"
      ],
      "execution_count": 0,
      "outputs": []
    },
    {
      "metadata": {
        "id": "u330-5smPRL-",
        "colab_type": "text"
      },
      "cell_type": "markdown",
      "source": [
        "## Algorithms"
      ]
    },
    {
      "metadata": {
        "id": "QH7kpJaOPTDC",
        "colab_type": "code",
        "colab": {}
      },
      "cell_type": "code",
      "source": [
        "from rl.core.algs import plotter\n",
        "\n",
        "def train(model, data_loader, name='', num_epochs=num_epochs):\n",
        "  plot = plotter.Plotter(log_dir='/tmp/tensorboard/' + name)\n",
        "  \n",
        "  # Loss and optimizer.\n",
        "  loss_fn = nn.CrossEntropyLoss()\n",
        "  optimizer = th.optim.Adam(model.parameters(), lr=learning_rate)\n",
        "\n",
        "\n",
        "  num_steps = len(data_loader)\n",
        "  for epoch in range(num_epochs):\n",
        "    for step, (images, labels) in enumerate(data_loader):\n",
        "      images, labels = images.to(device), labels.to(device, dtype=th.long)\n",
        "\n",
        "      # Forward\n",
        "      outputs = model(images)\n",
        "      loss = loss_fn(outputs, labels)\n",
        "\n",
        "      # Backward\n",
        "      optimizer.zero_grad()\n",
        "      loss.backward()\n",
        "      optimizer.step()\n",
        "\n",
        "      if step % 100 == 0:\n",
        "        plot.add_data('loss', epoch * num_steps + step,\n",
        "                         loss.detach().cpu().numpy())\n",
        "\n",
        "    print(f'Epoch [{epoch+1}/{num_epochs}], '\n",
        "          f'Loss: {loss.item():.4}')\n",
        "\n",
        "  plot.line_plot()\n",
        "  \n",
        "\n",
        "def eval(model, data_loader):\n",
        "  with th.no_grad():\n",
        "    correct, total = 0, 0\n",
        "    for images, labels in data_loader:\n",
        "      images, labels = images.to(device), labels.to(device, dtype=th.long)\n",
        "      outputs = model(images)\n",
        "      _, predicted = th.max(outputs.data, 1)\n",
        "      total += labels.size(0)\n",
        "      correct += (predicted == labels).sum().item()\n",
        "    accuracy = correct / total\n",
        "    print(f'Accuracy of model on {total} images: {100 * accuracy:0.2f}%')"
      ],
      "execution_count": 0,
      "outputs": []
    },
    {
      "metadata": {
        "id": "2j_uOsxfMF4E",
        "colab_type": "text"
      },
      "cell_type": "markdown",
      "source": [
        "## Baseline: CNN over minimaps\n",
        "\n",
        "Not expected to work well."
      ]
    },
    {
      "metadata": {
        "id": "cTL353p6fNeI",
        "colab_type": "code",
        "colab": {}
      },
      "cell_type": "code",
      "source": [
        "mini_train_ds = th.utils.data.TensorDataset(\n",
        "    th.Tensor(train_env._images_mini), th.Tensor(train_env._labels))\n",
        "mini_train_loader = th.utils.data.DataLoader(\n",
        "    dataset=mini_train_ds, batch_size=batch_size, shuffle=True)\n",
        "\n",
        "\n",
        "mini_test_ds = th.utils.data.TensorDataset(\n",
        "    th.Tensor(test_env._images_mini), th.Tensor(test_env._labels))\n",
        "mini_test_loader = th.utils.data.DataLoader(\n",
        "    dataset=mini_test_ds, batch_size=batch_size, shuffle=True)"
      ],
      "execution_count": 0,
      "outputs": []
    },
    {
      "metadata": {
        "id": "YOCPb7YxNcKc",
        "colab_type": "code",
        "colab": {
          "base_uri": "https://localhost:8080/",
          "height": 665
        },
        "outputId": "91984cbd-3c9c-452c-e871-33bc2cc5862f"
      },
      "cell_type": "code",
      "source": [
        "baseline_model = CNN(num_classes).to(device)\n",
        "train(baseline_model, mini_train_loader, 'synthetic_mnist_cnn_mini',\n",
        "      num_epochs=20)\n"
      ],
      "execution_count": 74,
      "outputs": [
        {
          "output_type": "stream",
          "text": [
            "Epoch [1/20], Loss: 2.45\n",
            "Epoch [2/20], Loss: 2.563\n",
            "Epoch [3/20], Loss: 1.995\n",
            "Epoch [4/20], Loss: 1.837\n",
            "Epoch [5/20], Loss: 1.722\n",
            "Epoch [6/20], Loss: 1.041\n",
            "Epoch [7/20], Loss: 1.36\n",
            "Epoch [8/20], Loss: 1.447\n",
            "Epoch [9/20], Loss: 0.8178\n",
            "Epoch [10/20], Loss: 0.5259\n",
            "Epoch [11/20], Loss: 1.231\n",
            "Epoch [12/20], Loss: 1.305\n",
            "Epoch [13/20], Loss: 0.5749\n",
            "Epoch [14/20], Loss: 0.3326\n",
            "Epoch [15/20], Loss: 0.2762\n",
            "Epoch [16/20], Loss: 0.8133\n",
            "Epoch [17/20], Loss: 0.3993\n",
            "Epoch [18/20], Loss: 0.7834\n",
            "Epoch [19/20], Loss: 0.1486\n",
            "Epoch [20/20], Loss: 0.851\n"
          ],
          "name": "stdout"
        },
        {
          "output_type": "display_data",
          "data": {
            "text/plain": [
              "<matplotlib.figure.Figure at 0x7f59e80347b8>"
            ],
            "image/png": "[encoded data removed]"
          },
          "metadata": {
            "tags": []
          }
        }
      ]
    },
    {
      "metadata": {
        "id": "pJG7mEgeN399",
        "colab_type": "code",
        "colab": {
          "base_uri": "https://localhost:8080/",
          "height": 36
        },
        "outputId": "e35d46ed-751b-451c-c018-7dfc99e9d359"
      },
      "cell_type": "code",
      "source": [
        "eval(baseline_model, mini_test_loader)"
      ],
      "execution_count": 78,
      "outputs": [
        {
          "output_type": "stream",
          "text": [
            "Accuracy of model on 10000 images: 60.08%\n"
          ],
          "name": "stdout"
        }
      ]
    },
    {
      "metadata": {
        "id": "A_DixywEPrX0",
        "colab_type": "code",
        "colab": {
          "base_uri": "https://localhost:8080/",
          "height": 36
        },
        "outputId": "611c6128-fc25-4026-aad1-576bf2fb7f94"
      },
      "cell_type": "code",
      "source": [
        "eval(baseline_model, mini_train_loader)"
      ],
      "execution_count": 79,
      "outputs": [
        {
          "output_type": "stream",
          "text": [
            "Accuracy of model on 50000 images: 92.18%\n"
          ],
          "name": "stdout"
        }
      ]
    },
    {
      "metadata": {
        "id": "ircl6QxuOwNh",
        "colab_type": "text"
      },
      "cell_type": "markdown",
      "source": [
        "## Train"
      ]
    },
    {
      "metadata": {
        "id": "s_ZPCh7OOx7T",
        "colab_type": "code",
        "outputId": "64eea1e3-e4e6-49f7-e6dc-441e2648f2ca",
        "colab": {
          "base_uri": "https://localhost:8080/",
          "height": 401
        }
      },
      "cell_type": "code",
      "source": [
        "from rl.core.algs import plotter\n",
        "\n",
        "plotter = plotter.Plotter(log_dir='/tmp/tensorboard/synthetic_mnist_ram')\n",
        "\n",
        "# Loss and optimizer.\n",
        "loss_fn = nn.CrossEntropyLoss()\n",
        "optimizer = th.optim.Adam(model.parameters(), lr=learning_rate)\n",
        "\n",
        "\n",
        "num_steps = len(train_loader)\n",
        "for epoch in range(num_epochs):\n",
        "  for step, (images, labels) in enumerate(train_loader):\n",
        "    images, labels = images.to(device), labels.to(device, dtype=th.long)\n",
        "\n",
        "    # Forward\n",
        "    outputs = model(images)\n",
        "    loss = loss_fn(outputs, labels)\n",
        "    \n",
        "    # Backward\n",
        "    optimizer.zero_grad()\n",
        "    loss.backward()\n",
        "    optimizer.step()\n",
        "    \n",
        "    if step % 100 == 0:\n",
        "      plotter.add_data('loss', epoch * num_steps + step,\n",
        "                       loss.detach().cpu().numpy())\n",
        "\n",
        "  print(f'Epoch [{epoch+1}/{num_epochs}], '\n",
        "        f'Loss: {loss.item():.4}')\n",
        "  \n",
        "plotter.line_plot()"
      ],
      "execution_count": 7,
      "outputs": [
        {
          "output_type": "stream",
          "text": [
            "Epoch [1/20], Loss: 1.687\n",
            "Epoch [2/20], Loss: 1.265\n",
            "Epoch [3/20], Loss: 0.1921\n",
            "Epoch [4/20], Loss: 0.8734\n",
            "Epoch [5/20], Loss: 0.7135\n",
            "Epoch [6/20], Loss: 0.4281\n",
            "Epoch [7/20], Loss: 0.3221\n",
            "Epoch [8/20], Loss: 0.2023\n",
            "Epoch [9/20], Loss: 0.1135\n",
            "Epoch [10/20], Loss: 0.3547\n",
            "Epoch [11/20], Loss: 0.01994\n",
            "Epoch [12/20], Loss: 0.007338\n",
            "Epoch [13/20], Loss: 0.1185\n",
            "Epoch [14/20], Loss: 0.004623\n",
            "Epoch [15/20], Loss: 0.02103\n",
            "Epoch [16/20], Loss: 0.06505\n",
            "Epoch [17/20], Loss: 0.006233\n",
            "Epoch [18/20], Loss: 0.06047\n",
            "Epoch [19/20], Loss: 0.1403\n",
            "Epoch [20/20], Loss: 0.004157\n"
          ],
          "name": "stdout"
        }
      ]
    },
    {
      "metadata": {
        "id": "1cQBpV7bDaBK",
        "colab_type": "code",
        "outputId": "225b14f0-6858-452f-fddb-fcd5f85f86f6",
        "colab": {
          "base_uri": "https://localhost:8080/",
          "height": 281
        }
      },
      "cell_type": "code",
      "source": [
        "plotter.line_plot()"
      ],
      "execution_count": 8,
      "outputs": [
        {
          "output_type": "display_data",
          "data": {
            "text/plain": [
              "<matplotlib.figure.Figure at 0x7f5d44c58d30>"
            ],
            "image/png": "[encoded data removed]"
          },
          "metadata": {
            "tags": []
          }
        }
      ]
    },
    {
      "metadata": {
        "id": "votDXSLhR8Be",
        "colab_type": "text"
      },
      "cell_type": "markdown",
      "source": [
        "## Test"
      ]
    },
    {
      "metadata": {
        "id": "6y216f2uR9VQ",
        "colab_type": "code",
        "outputId": "fe4e7070-e4ec-44a4-ae00-761d19d96b56",
        "colab": {
          "base_uri": "https://localhost:8080/",
          "height": 36
        }
      },
      "cell_type": "code",
      "source": [
        "with th.no_grad():\n",
        "  correct, total = 0, 0\n",
        "  for images, labels in test_loader:\n",
        "    images, labels = images.to(device), labels.to(device, dtype=th.long)\n",
        "    outputs = model(images)\n",
        "    _, predicted = th.max(outputs.data, 1)\n",
        "    total += labels.size(0)\n",
        "    correct += (predicted == labels).sum().item()\n",
        "  accuracy = correct / total\n",
        "  print(f'Accuracy of model on {total} test images: {100 * accuracy:0.2f}%')"
      ],
      "execution_count": 9,
      "outputs": [
        {
          "output_type": "stream",
          "text": [
            "Accuracy of model on 10000 test images: 92.71%\n"
          ],
          "name": "stdout"
        }
      ]
    },
    {
      "metadata": {
        "id": "2-WWQPXPyN7q",
        "colab_type": "code",
        "outputId": "bd729e17-52b1-4ee5-81fe-0993e088a101",
        "colab": {
          "base_uri": "https://localhost:8080/",
          "height": 36
        }
      },
      "cell_type": "code",
      "source": [
        "with th.no_grad():\n",
        "  correct, total = 0, 0\n",
        "  for images, labels in train_loader:\n",
        "    images, labels = images.to(device), labels.to(device, dtype=th.long)\n",
        "    outputs = model(images)\n",
        "    _, predicted = th.max(outputs.data, 1)\n",
        "    total += labels.size(0)\n",
        "    correct += (predicted == labels).sum().item()\n",
        "  accuracy = correct / total\n",
        "  print(f'Accuracy of model on {total} train images: {100 * accuracy:0.2f}%')"
      ],
      "execution_count": 10,
      "outputs": [
        {
          "output_type": "stream",
          "text": [
            "Accuracy of model on 50000 train images: 99.24%\n"
          ],
          "name": "stdout"
        }
      ]
    },
    {
      "metadata": {
        "id": "yEuasDWblPD1",
        "colab_type": "text"
      },
      "cell_type": "markdown",
      "source": [
        "## Visualize"
      ]
    },
    {
      "metadata": {
        "id": "Qi6OMFR0lP-g",
        "colab_type": "code",
        "colab": {}
      },
      "cell_type": "code",
      "source": [
        "with th.no_grad():\n",
        "  images, labels = next(iter(test_loader))\n",
        "  images, labels = images.to(device), labels.to(device, dtype=th.long)\n",
        "  preds = model(images)"
      ],
      "execution_count": 0,
      "outputs": []
    },
    {
      "metadata": {
        "id": "k4w5-ifTnY2h",
        "colab_type": "code",
        "outputId": "9c0241d9-675f-443e-daa2-8387ae43f6ea",
        "colab": {
          "base_uri": "https://localhost:8080/",
          "height": 346
        }
      },
      "cell_type": "code",
      "source": [
        "show_image(images[0].cpu())\n",
        "print(labels[0], th.argmax(preds[0]))\n",
        "print(preds[0])"
      ],
      "execution_count": 12,
      "outputs": [
        {
          "output_type": "stream",
          "text": [
            "tensor(7, device='cuda:0') tensor(7, device='cuda:0')\n",
            "tensor([-65.1824, -17.0377, -18.4109, -23.8195, -17.5708, -14.8207, -17.6504,\n",
            "         13.5137,  -7.6158, -12.6516, -13.4251, -16.3913, -18.0062,  -9.7191,\n",
            "        -31.7705, -22.9673, -44.8392, -66.1163, -88.2574], device='cuda:0')\n"
          ],
          "name": "stdout"
        },
        {
          "output_type": "display_data",
          "data": {
            "text/plain": [
              "<matplotlib.figure.Figure at 0x7f5cc03226a0>"
            ],
            "image/png": "[encoded data removed]"
          },
          "metadata": {
            "tags": []
          }
        }
      ]
    },
    {
      "metadata": {
        "id": "OxfPTbFgoIjo",
        "colab_type": "code",
        "outputId": "e3618d50-9fe1-4441-d337-c5287ff329b9",
        "colab": {
          "base_uri": "https://localhost:8080/",
          "height": 346
        }
      },
      "cell_type": "code",
      "source": [
        "show_image(images[-1].cpu())\n",
        "print(labels[-1], th.argmax(preds[-1]))\n",
        "print(preds[-1])"
      ],
      "execution_count": 13,
      "outputs": [
        {
          "output_type": "stream",
          "text": [
            "tensor(11, device='cuda:0') tensor(11, device='cuda:0')\n",
            "tensor([-69.5024, -49.4482, -36.4089, -27.7180, -23.8961, -16.9660, -12.2554,\n",
            "        -14.4462, -15.4553,  -9.9069,  -8.2601,  10.7134,  -6.8387,  -5.3839,\n",
            "        -16.5228, -12.9464,  -6.7946,  -5.1531,  -6.4700], device='cuda:0')\n"
          ],
          "name": "stdout"
        },
        {
          "output_type": "display_data",
          "data": {
            "text/plain": [
              "<matplotlib.figure.Figure at 0x7f5cc038da58>"
            ],
            "image/png": "[encoded data removed]"
          },
          "metadata": {
            "tags": []
          }
        }
      ]
    },
    {
      "metadata": {
        "id": "kWadwB94Wyqe",
        "colab_type": "text"
      },
      "cell_type": "markdown",
      "source": [
        "## Save model"
      ]
    },
    {
      "metadata": {
        "id": "7JzujefLWyGn",
        "colab_type": "code",
        "colab": {}
      },
      "cell_type": "code",
      "source": [
        "th.save(model.state_dict(), '/tmp/synthetic_mnist_conv.ckpt')"
      ],
      "execution_count": 0,
      "outputs": []
    }
  ]
}