{
 "cells": [
  {
   "cell_type": "code",
   "execution_count": 1,
   "metadata": {},
   "outputs": [],
   "source": [
    "from pprint import pprint"
   ]
  },
  {
   "cell_type": "code",
   "execution_count": 2,
   "metadata": {},
   "outputs": [],
   "source": [
    "import torch as th"
   ]
  },
  {
   "cell_type": "code",
   "execution_count": 2,
   "metadata": {},
   "outputs": [
    {
     "data": {
      "text/plain": [
       "\n",
       " 1  1  1\n",
       " 1  1  1\n",
       "[torch.FloatTensor of size 2x3]"
      ]
     },
     "execution_count": 2,
     "metadata": {},
     "output_type": "execute_result"
    }
   ],
   "source": [
    "th.ones(2, 3)"
   ]
  },
  {
   "cell_type": "code",
   "execution_count": 3,
   "metadata": {},
   "outputs": [
    {
     "data": {
      "text/plain": [
       "\n",
       " 1  2\n",
       " 3  4\n",
       "[torch.FloatTensor of size 2x2]"
      ]
     },
     "execution_count": 3,
     "metadata": {},
     "output_type": "execute_result"
    }
   ],
   "source": [
    "a = th.Tensor([[1, 2],[3, 4]])\n",
    "a"
   ]
  },
  {
   "cell_type": "code",
   "execution_count": 4,
   "metadata": {},
   "outputs": [
    {
     "name": "stdout",
     "output_type": "stream",
     "text": [
      "\n",
      " 1  2\n",
      " 3  4\n",
      "[torch.cuda.FloatTensor of size 2x2 (GPU 0)]\n",
      "\n",
      "\n",
      " 1  2\n",
      " 3  4\n",
      "[torch.FloatTensor of size 2x2]\n",
      "\n"
     ]
    }
   ],
   "source": [
    "a_gpu = a.cuda()\n",
    "print(a_gpu)\n",
    "a_cpu = a_gpu.cpu()\n",
    "print(a_cpu)"
   ]
  },
  {
   "cell_type": "code",
   "execution_count": 5,
   "metadata": {},
   "outputs": [
    {
     "data": {
      "text/plain": [
       "\n",
       " 1  2  3  4\n",
       "[torch.FloatTensor of size 1x4]"
      ]
     },
     "execution_count": 5,
     "metadata": {},
     "output_type": "execute_result"
    }
   ],
   "source": [
    "a.view(1, -1)"
   ]
  },
  {
   "cell_type": "code",
   "execution_count": 6,
   "metadata": {},
   "outputs": [
    {
     "name": "stdout",
     "output_type": "stream",
     "text": [
      "\n",
      " 2\n",
      " 3\n",
      "[torch.FloatTensor of size 2]\n",
      "\n",
      "\n",
      " 0.7071\n",
      " 0.7071\n",
      "[torch.FloatTensor of size 2]\n",
      "\n"
     ]
    }
   ],
   "source": [
    "print(a.mean(dim=0))\n",
    "print(a.std(dim=1))"
   ]
  },
  {
   "cell_type": "code",
   "execution_count": 7,
   "metadata": {},
   "outputs": [
    {
     "data": {
      "text/plain": [
       "torch.autograd.variable.Variable"
      ]
     },
     "execution_count": 7,
     "metadata": {},
     "output_type": "execute_result"
    }
   ],
   "source": [
    "from torch import autograd as tha\n",
    "tha.Variable"
   ]
  },
  {
   "cell_type": "code",
   "execution_count": 8,
   "metadata": {},
   "outputs": [
    {
     "name": "stdout",
     "output_type": "stream",
     "text": [
      "\n",
      " 1  1  1\n",
      " 1  1  1\n",
      "[torch.FloatTensor of size 2x3]\n",
      "\n",
      "None\n"
     ]
    }
   ],
   "source": [
    "a = tha.Variable(th.ones(2, 3), requires_grad=True)\n",
    "print(a.data)\n",
    "print(a.grad)\n"
   ]
  },
  {
   "cell_type": "code",
   "execution_count": 9,
   "metadata": {},
   "outputs": [
    {
     "data": {
      "text/plain": [
       "Variable containing:\n",
       " 15\n",
       " 15\n",
       "[torch.FloatTensor of size 2]"
      ]
     },
     "execution_count": 9,
     "metadata": {},
     "output_type": "execute_result"
    }
   ],
   "source": [
    "x = tha.Variable(th.ones(2), requires_grad=True)\n",
    "y = 5 * (x + 2) ** 2\n",
    "\n",
    "o = (1 / 2) * th.sum(y)\n",
    "o.backward()\n",
    "\n",
    "x.grad"
   ]
  },
  {
   "cell_type": "code",
   "execution_count": 8,
   "metadata": {},
   "outputs": [
    {
     "name": "stdout",
     "output_type": "stream",
     "text": [
      "                                     name                                obs_space                                    ac_space\n",
      "0                                 Copy-v0                                     D(6)                         T(D(2), D(2), D(5))\n",
      "1                           RepeatCopy-v0                                     D(6)                         T(D(2), D(2), D(5))\n",
      "2                     ReversedAddition-v0                                     D(4)                         T(D(4), D(2), D(3))\n",
      "3                    ReversedAddition3-v0                                     D(4)                         T(D(4), D(2), D(3))\n",
      "4                      DuplicatedInput-v0                                     D(6)                         T(D(2), D(2), D(5))\n",
      "5                              Reverse-v0                                     D(3)                         T(D(2), D(2), D(2))\n",
      "6                             CartPole-v0                                    C(4,)                                        D(2)\n",
      "7                             CartPole-v1                                    C(4,)                                        D(2)\n",
      "8                          MountainCar-v0                                    C(2,)                                        D(3)\n",
      "9                MountainCarContinuous-v0                                    C(2,)                                       C(1,)\n",
      "10                            Pendulum-v0                                    C(3,)                                       C(1,)\n",
      "11                             Acrobot-v1                                    C(6,)                                        D(3)\n",
      "12                         LunarLander-v2                                    C(8,)                                        D(4)\n",
      "13               LunarLanderContinuous-v2                                    C(8,)                                       C(2,)\n",
      "14                       BipedalWalker-v2                                   C(24,)                                       C(4,)\n",
      "15               BipedalWalkerHardcore-v2                                   C(24,)                                       C(4,)\n",
      "16                           CarRacing-v0                             C(96, 96, 3)                                       C(3,)\n",
      "17                           Blackjack-v0                    T(D(32), D(11), D(2))                                        D(2)\n",
      "18                       KellyCoinflip-v0                         T(C(1,), D(301))                                    D(25000)\n",
      "19            KellyCoinflipGeneralized-v0  T(C(1,), D(338), D(338), D(338), C(1,))                                    D(26100)\n",
      "20                          FrozenLake-v0                                    D(16)                                        D(4)\n",
      "21                       FrozenLake8x8-v0                                    D(64)                                        D(4)\n",
      "22                        CliffWalking-v0                                    D(48)                                        D(4)\n",
      "23                              NChain-v0                                     D(5)                                        D(2)\n",
      "24                            Roulette-v0                                     D(1)                                       D(38)\n",
      "25                                Taxi-v2                                   D(500)                                        D(6)\n",
      "26                        GuessingGame-v0                                     D(4)                                       C(1,)\n",
      "27                        HotterColder-v0                                     D(4)                                       C(1,)\n",
      "764        OneRoundDeterministicReward-v0                                     D(1)                                        D(2)\n",
      "765        TwoRoundDeterministicReward-v0                                     D(3)                                        D(2)\n",
      "766     OneRoundNondeterministicReward-v0                                     D(1)                                        D(2)\n",
      "767     TwoRoundNondeterministicReward-v0                                     D(3)                                        D(2)\n",
      "770             PredictActionsCartpole-v0                                    C(4,)       T(D(2), D(2), D(2), D(2), D(2), D(2))\n",
      "771                 PredictObsCartpole-v0                                    C(4,)  T(D(2), C(4,), C(4,), C(4,), C(4,), C(4,))\n",
      "772             SemisuperPendulumNoise-v0                                    C(3,)                                       C(1,)\n",
      "773            SemisuperPendulumRandom-v0                                    C(3,)                                       C(1,)\n",
      "774             SemisuperPendulumDecay-v0                                    C(3,)                                       C(1,)\n",
      "775                  OffSwitchCartpole-v0                           T(D(2), C(4,))                                        D(2)\n",
      "776              OffSwitchCartpoleProb-v0                           T(D(2), C(4,))                                        D(2)\n",
      "777         RoboschoolInvertedPendulum-v1                                    C(5,)                                       C(1,)\n",
      "778  RoboschoolInvertedPendulumSwingup-v1                                    C(5,)                                       C(1,)\n",
      "779   RoboschoolInvertedDoublePendulum-v1                                    C(9,)                                       C(1,)\n",
      "780                  RoboschoolReacher-v1                                    C(9,)                                       C(2,)\n",
      "781                   RoboschoolHopper-v1                                   C(15,)                                       C(3,)\n",
      "782                 RoboschoolWalker2d-v1                                   C(22,)                                       C(6,)\n",
      "783              RoboschoolHalfCheetah-v1                                   C(26,)                                       C(6,)\n",
      "784                      RoboschoolAnt-v1                                   C(28,)                                       C(8,)\n",
      "785                 RoboschoolHumanoid-v1                                   C(44,)                                      C(17,)\n",
      "786          RoboschoolHumanoidFlagrun-v1                                   C(44,)                                      C(17,)\n",
      "787    RoboschoolHumanoidFlagrunHarder-v1                                   C(44,)                                      C(17,)\n",
      "788         RoboschoolAtlasForwardWalk-v1                                   C(70,)                                      C(30,)\n",
      "789                     RoboschoolPong-v1                                   C(13,)                                       C(2,)\n"
     ]
    }
   ],
   "source": [
    "import collections\n",
    "import gym\n",
    "import pandas as pd\n",
    "import roboschool\n",
    "\n",
    "pd.set_option('display.expand_frame_repr', False)\n",
    "\n",
    "env_spec_list = gym.envs.registry.all()\n",
    "envs = collections.defaultdict(list)\n",
    "envs_df = pd.DataFrame(columns=['name', 'obs_space', 'ac_space', 'obs_range', 'ac_range'])\n",
    "for i, env_spec in enumerate(env_spec_list):\n",
    "  try:\n",
    "    env = env_spec.make()\n",
    "    obs_space = env.observation_space\n",
    "    ac_space = env.action_space\n",
    "    obs_range, ac_range = None, None\n",
    "    if isinstance(obs_space, gym.spaces.Box):\n",
    "      obs_range = f'{obs_space.low}:{obs_space.high}'\n",
    "    if isinstance(ac_space, gym.spaces.Box):\n",
    "      ac_range = f'{ac_space.low}:{ac_space.high}'\n",
    "    \n",
    "    cols = [env_spec.id, obs_space, ac_space, obs_range, ac_range]\n",
    "    cols_str = [str(c) for c in cols]\n",
    "    cols_str = [s.replace('Discrete', 'D').replace('Box', 'C').replace('Tuple', 'T')\n",
    "                for s in cols_str]\n",
    "    envs_df.loc[i] = cols_str\n",
    "  \n",
    "  except gym.error.DependencyNotInstalled:\n",
    "    envs['deps_not_installed'].append(env_spec)\n",
    "  except ModuleNotFoundError:\n",
    "    envs['module_not_found'].append(env_spec)\n",
    "\n",
    "print(envs_df[['name', 'obs_space', 'ac_space']])\n"
   ]
  },
  {
   "cell_type": "code",
   "execution_count": 23,
   "metadata": {},
   "outputs": [
    {
     "data": {
      "text/html": [
       "<style>.container { width:100% !important; }</style>"
      ],
      "text/plain": [
       "<IPython.core.display.HTML object>"
      ]
     },
     "metadata": {},
     "output_type": "display_data"
    }
   ],
   "source": []
  }
 ],
 "metadata": {
  "kernelspec": {
   "display_name": "Python 3",
   "language": "python",
   "name": "python3"
  },
  "language_info": {
   "codemirror_mode": {
    "name": "ipython",
    "version": 3
   },
   "file_extension": ".py",
   "mimetype": "text/x-python",
   "name": "python",
   "nbconvert_exporter": "python",
   "pygments_lexer": "ipython3",
   "version": "3.6.4"
  }
 },
 "nbformat": 4,
 "nbformat_minor": 1
}
