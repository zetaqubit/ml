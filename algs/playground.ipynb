{
 "cells": [
  {
   "cell_type": "code",
   "execution_count": 3,
   "metadata": {
    "collapsed": true
   },
   "outputs": [],
   "source": [
    "import torch as th"
   ]
  },
  {
   "cell_type": "code",
   "execution_count": 10,
   "metadata": {
    "collapsed": false
   },
   "outputs": [
    {
     "data": {
      "text/plain": [
       "\n 1  1  1\n 1  1  1\n[torch.FloatTensor of size 2x3]"
      ]
     },
     "execution_count": 10,
     "metadata": {},
     "output_type": "execute_result"
    }
   ],
   "source": [
    "th.ones(2, 3)"
   ]
  },
  {
   "cell_type": "code",
   "execution_count": 11,
   "metadata": {
    "collapsed": false
   },
   "outputs": [
    {
     "data": {
      "text/plain": [
       "\n 1  2\n 3  4\n[torch.FloatTensor of size 2x2]"
      ]
     },
     "execution_count": 11,
     "metadata": {},
     "output_type": "execute_result"
    }
   ],
   "source": [
    "a = th.Tensor([[1, 2],[3, 4]])\n",
    "a"
   ]
  },
  {
   "cell_type": "code",
   "execution_count": 12,
   "metadata": {
    "collapsed": false
   },
   "outputs": [
    {
     "name": "stdout",
     "output_type": "stream",
     "text": [
      "\n 1  2\n 3  4\n[torch.cuda.FloatTensor of size 2x2 (GPU 0)]\n\n\n 1  2\n 3  4\n[torch.FloatTensor of size 2x2]\n\n"
     ]
    }
   ],
   "source": [
    "a_gpu = a.cuda()\n",
    "print(a_gpu)\n",
    "a_cpu = a_gpu.cpu()\n",
    "print(a_cpu)"
   ]
  },
  {
   "cell_type": "code",
   "execution_count": 13,
   "metadata": {
    "collapsed": false
   },
   "outputs": [
    {
     "data": {
      "text/plain": [
       "\n 1  2  3  4\n[torch.FloatTensor of size 1x4]"
      ]
     },
     "execution_count": 13,
     "metadata": {},
     "output_type": "execute_result"
    }
   ],
   "source": [
    "a.view(1, -1)"
   ]
  },
  {
   "cell_type": "code",
   "execution_count": 14,
   "metadata": {
    "collapsed": false
   },
   "outputs": [
    {
     "name": "stdout",
     "output_type": "stream",
     "text": [
      "\n 2\n 3\n[torch.FloatTensor of size 2]\n\n\n 0.7071\n 0.7071\n[torch.FloatTensor of size 2]\n\n"
     ]
    }
   ],
   "source": [
    "print(a.mean(dim=0))\n",
    "print(a.std(dim=1))"
   ]
  },
  {
   "cell_type": "code",
   "execution_count": 2,
   "metadata": {},
   "outputs": [
    {
     "data": {
      "text/plain": [
       "torch.autograd.variable.Variable"
      ]
     },
     "execution_count": 2,
     "metadata": {},
     "output_type": "execute_result"
    }
   ],
   "source": [
    "from torch import autograd as ag\n",
    "ag.Variable"
   ]
  },
  {
   "cell_type": "code",
   "execution_count": 6,
   "metadata": {
    "collapsed": false
   },
   "outputs": [
    {
     "name": "stdout",
     "output_type": "stream",
     "text": [
      "\n 1  1  1\n 1  1  1\n[torch.FloatTensor of size 2x3]\n\nNone\n"
     ]
    }
   ],
   "source": [
    "a = ag.Variable(th.ones(2, 3), requires_grad=True)\n",
    "print(a.data)\n",
    "print(a.grad)\n"
   ]
  },
  {
   "cell_type": "code",
   "execution_count": 8,
   "metadata": {},
   "outputs": [
    {
     "data": {
      "text/plain": [
       "Variable containing:\n 15\n 15\n[torch.FloatTensor of size 2]"
      ]
     },
     "execution_count": 8,
     "metadata": {},
     "output_type": "execute_result"
    }
   ],
   "source": [
    "x = ag.Variable(th.ones(2), requires_grad=True)\n",
    "y = 5 * (x + 2) ** 2\n",
    "\n",
    "o = (1 / 2) * th.sum(y)\n",
    "o.backward()\n",
    "\n",
    "x.grad"
   ]
  },
  {
   "cell_type": "code",
   "execution_count": 58,
   "metadata": {},
   "outputs": [
    {
     "data": {
      "text/plain": [
       "[[SAR(s=array([-0.02376615, -0.17296766,  0.03296098,  0.30608094]), a=0, r=1.0),\n  SAR(s=array([-0.02722551,  0.02166947,  0.0390826 ,  0.02397259]), a=1, r=1.0),\n  SAR(s=array([-0.02679212, -0.17399053,  0.03956205,  0.32872584]), a=0, r=1.0),\n  SAR(s=array([-0.03027193, -0.3696527 ,  0.04613657,  0.63361766]), a=0, r=1.0),\n  SAR(s=array([-0.03766498, -0.56538685,  0.05880892,  0.9404658 ]), a=0, r=1.0),\n  SAR(s=array([-0.04897272, -0.37110475,  0.07761824,  0.66682631]), a=1, r=1.0),\n  SAR(s=array([-0.05639481, -0.56721548,  0.09095476,  0.98290359]), a=0, r=1.0),\n  SAR(s=array([-0.06773912, -0.76343062,  0.11061283,  1.30271355]), a=0, r=1.0),\n  SAR(s=array([-0.08300773, -0.95976819,  0.13666711,  1.62787397]), a=0, r=1.0),\n  SAR(s=array([-0.1022031 , -1.1562068 ,  0.16922458,  1.95983953]), a=0, r=1.0),\n  SAR(s=array([-0.12532723, -0.9632351 ,  0.20842138,  1.72403161]), a=1, r=1.0),\n  SAR(s=array([-0.14459194, -1.16004375,  0.24290201,  2.07368902]), a=0, r=1.0)],\n [SAR(s=array([-0.04865518,  0.23358724, -0.00293606, -0.30791794]), a=1, r=1.0),\n  SAR(s=array([-0.04398344,  0.42875091, -0.00909442, -0.60152538]), a=1, r=1.0),\n  SAR(s=array([-0.03540842,  0.62399889, -0.02112493, -0.89705896]), a=1, r=1.0),\n  SAR(s=array([-0.02292844,  0.42916958, -0.03906611, -0.61109048]), a=0, r=1.0),\n  SAR(s=array([-0.01434505,  0.23461481, -0.05128791, -0.3309635 ]), a=0, r=1.0),\n  SAR(s=array([-0.00965276,  0.43042789, -0.05790718, -0.63936892]), a=1, r=1.0),\n  SAR(s=array([-0.0010442 ,  0.23615908, -0.07069456, -0.36546935]), a=0, r=1.0),\n  SAR(s=array([ 0.00367898,  0.04210926, -0.07800395, -0.09588856]), a=0, r=1.0),\n  SAR(s=array([ 0.00452117, -0.15181307, -0.07992172,  0.17120051]), a=0, r=1.0),\n  SAR(s=array([ 0.00148491, -0.34570556, -0.07649771,  0.43763889]), a=0, r=1.0),\n  SAR(s=array([-0.0054292 , -0.53966608, -0.06774493,  0.70526042]), a=0, r=1.0),\n  SAR(s=array([-0.01622253, -0.3436741 , -0.05363972,  0.39204503]), a=1, r=1.0),\n  SAR(s=array([-0.02309601, -0.53799543, -0.04579882,  0.66734527]), a=0, r=1.0),\n  SAR(s=array([-0.03385592, -0.34226748, -0.03245192,  0.36060106]), a=1, r=1.0),\n  SAR(s=array([-0.04070127, -0.53691348, -0.0252399 ,  0.64287713]), a=0, r=1.0),\n  SAR(s=array([-0.05143954, -0.34144899, -0.01238236,  0.34235404]), a=1, r=1.0),\n  SAR(s=array([-0.05826851, -0.5363926 , -0.00553527,  0.63110673]), a=0, r=1.0),\n  SAR(s=array([-0.06899637, -0.73143689,  0.00708686,  0.92204131]), a=0, r=1.0),\n  SAR(s=array([-0.0836251 , -0.92665387,  0.02552769,  1.21694296]), a=0, r=1.0),\n  SAR(s=array([-0.10215818, -0.73187027,  0.04986655,  0.93236708]), a=1, r=1.0),\n  SAR(s=array([-0.11679559, -0.53745537,  0.06851389,  0.65576192]), a=1, r=1.0),\n  SAR(s=array([-0.1275447 , -0.7334609 ,  0.08162913,  0.96920775]), a=0, r=1.0),\n  SAR(s=array([-0.14221391, -0.9295782 ,  0.10101328,  1.28637648]), a=0, r=1.0),\n  SAR(s=array([-0.16080548, -1.12583017,  0.12674081,  1.60890126]), a=0, r=1.0),\n  SAR(s=array([-0.18332208, -1.32220158,  0.15891884,  1.93825789]), a=0, r=1.0),\n  SAR(s=array([-0.20976611, -1.12909441,  0.19768399,  1.69877289]), a=1, r=1.0),\n  SAR(s=array([-0.232348  , -1.32586983,  0.23165945,  2.04592873]), a=0, r=1.0)],\n [SAR(s=array([ 0.0090852 ,  0.16055206,  0.00215867, -0.28959453]), a=1, r=1.0),\n  SAR(s=array([ 0.01229624, -0.03460061, -0.00363322,  0.00376844]), a=0, r=1.0),\n  SAR(s=array([ 0.01160423, -0.22967026, -0.00355785,  0.29530283]), a=0, r=1.0),\n  SAR(s=array([ 0.00701082, -0.03449777,  0.00234821,  0.00149994]), a=1, r=1.0),\n  SAR(s=array([ 0.00632087, -0.22965332,  0.00237821,  0.29492283]), a=0, r=1.0),\n  SAR(s=array([ 0.0017278 , -0.4248091 ,  0.00827666,  0.58835485]), a=0, r=1.0),\n  SAR(s=array([-0.00676838, -0.62004597,  0.02004376,  0.88363344]), a=0, r=1.0),\n  SAR(s=array([-0.0191693 , -0.42520186,  0.03771643,  0.59731845]), a=1, r=1.0),\n  SAR(s=array([-0.02767334, -0.62083072,  0.0496628 ,  0.90163906]), a=0, r=1.0),\n  SAR(s=array([-0.04008995, -0.42641552,  0.06769558,  0.62497068]), a=1, r=1.0),\n  SAR(s=array([-0.04861826, -0.62241397,  0.08019499,  0.93818225]), a=0, r=1.0),\n  SAR(s=array([-0.06106654, -0.81852023,  0.09895864,  1.25494831]), a=0, r=1.0),\n  SAR(s=array([-0.07743694, -0.6247948 ,  0.1240576 ,  0.99482823]), a=1, r=1.0),\n  SAR(s=array([-0.08993284, -0.43153087,  0.14395417,  0.74353971]), a=1, r=1.0),\n  SAR(s=array([-0.09856346, -0.23865809,  0.15882496,  0.49939952]), a=1, r=1.0),\n  SAR(s=array([-0.10333662, -0.43562073,  0.16881295,  0.83762344]), a=0, r=1.0),\n  SAR(s=array([-0.11204903, -0.63259612,  0.18556542,  1.1782821 ]), a=0, r=1.0),\n  SAR(s=array([-0.12470096, -0.44030383,  0.20913106,  0.94903922]), a=1, r=1.0),\n  SAR(s=array([-0.13350703, -0.63753389,  0.22811185,  1.29947567]), a=0, r=1.0)]]"
      ]
     },
     "execution_count": 58,
     "metadata": {},
     "output_type": "execute_result"
    }
   ],
   "source": [
    "import gym\n",
    "import numpy as np\n",
    "import collections\n",
    "\n",
    "dtype = th.cuda.FloatTensor\n",
    "\n",
    "SAR = collections.namedtuple('SAR', 's a r')\n",
    "\n",
    "class Environment(object):\n",
    "  def __init__(self, env_name='CartPole-v0', max_episode_steps=None):\n",
    "    self.env = gym.make(env_name)\n",
    "    \n",
    "    # Observation and action sizes\n",
    "    discrete = isinstance(self.env.action_space, gym.spaces.Discrete)\n",
    "    assert discrete\n",
    "    \n",
    "    self.ob_dim = self.env.observation_space.shape[0]\n",
    "    self.ac_dim = self.env.action_space.n\n",
    "    self.max_episode_steps = max_episode_steps or self.env.spec.max_episode_steps\n",
    "  \n",
    "  def sample_rollouts(self, policy, batch_size):\n",
    "    \"\"\"Samples complete episodes of at least |batch_size| under |policy|.\n",
    "    \n",
    "    Each episode is of at most self.max_episode_steps.\n",
    "    Complete episodes (up to max_episode_steps) are sampled until at least\n",
    "    |batch_size|.\n",
    "    \"\"\"\n",
    "    episodes = []\n",
    "    env_need_reset = True\n",
    "    steps = 0\n",
    "    while True:\n",
    "      if env_need_reset:\n",
    "        ob = self.env.reset()\n",
    "        if steps >= batch_size:\n",
    "          break\n",
    "        episode = []\n",
    "        episodes.append(episode)\n",
    "      ac = int(policy(ob))\n",
    "      ob, r, env_need_reset, _ = self.env.step(ac)\n",
    "      episode.append(SAR(ob, ac, r))\n",
    "      steps += 1\n",
    "      env_need_reset |= len(episode) >= self.max_episode_steps\n",
    "    return episodes\n",
    "\n",
    "class Policy(object):\n",
    "  def __init__(self, obs_dim, action_dim):\n",
    "    self.obs_dim = obs_dim\n",
    "    self.action_dim = action_dim\n",
    "    self.model = self._create_policy_nn()\n",
    "    \n",
    "  def _create_policy_nn(self):\n",
    "    hidden_dim = 64\n",
    "    model = th.nn.Sequential(\n",
    "      th.nn.Linear(self.obs_dim, hidden_dim),\n",
    "      th.nn.Linear(hidden_dim, self.action_dim),\n",
    "      th.nn.LogSoftmax(),\n",
    "    )\n",
    "    model.cuda()\n",
    "    return model\n",
    "    \n",
    "  def get_action(self, obs_np):\n",
    "    obs_var = ag.Variable(th.Tensor(obs_np).type(dtype))\n",
    "    log_probs = self.model(obs_var).data\n",
    "    probs = th.exp(log_probs)\n",
    "    ac = th.multinomial(probs, 1)\n",
    "    out_np = ac.cpu().numpy()\n",
    "    return out_np\n",
    "\n",
    "env = Environment()\n",
    "policy = Policy(env.ob_dim, env.ac_dim)\n",
    "env.sample_rollouts(policy.get_action, 50)\n"
   ]
  },
  {
   "cell_type": "code",
   "execution_count": null,
   "metadata": {},
   "outputs": [],
   "source": []
  },
  {
   "cell_type": "code",
   "execution_count": 23,
   "metadata": {},
   "outputs": [],
   "source": [
    ""
   ]
  }
 ],
 "metadata": {
  "kernelspec": {
   "display_name": "Python 3",
   "language": "python",
   "name": "python3"
  },
  "language_info": {
   "codemirror_mode": {
    "name": "ipython",
    "version": 3
   },
   "file_extension": ".py",
   "mimetype": "text/x-python",
   "name": "python",
   "nbconvert_exporter": "python",
   "pygments_lexer": "ipython3",
   "version": "3.5.2"
  }
 },
 "nbformat": 4,
 "nbformat_minor": 0
}
