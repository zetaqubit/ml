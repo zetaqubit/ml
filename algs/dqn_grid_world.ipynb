{
  "nbformat": 4,
  "nbformat_minor": 0,
  "metadata": {
    "colab": {
      "name": "dqn_grid_world.ipynb",
      "version": "0.3.2",
      "views": {},
      "default_view": {},
      "provenance": [],
      "collapsed_sections": []
    },
    "kernelspec": {
      "display_name": "Python 3",
      "language": "python",
      "name": "python3"
    }
  },
  "cells": [
    {
      "metadata": {
        "id": "gZakj9qdYiaH",
        "colab_type": "code",
        "colab": {
          "autoexec": {
            "startup": false,
            "wait_interval": 0
          }
        }
      },
      "cell_type": "code",
      "source": [
        "%load_ext autoreload\n",
        "%autoreload 2\n",
        "\n",
        "import matplotlib\n",
        "from matplotlib import pyplot\n",
        "pyplot.ion()\n",
        "pyplot.style.use('dark_background')\n",
        "\n",
        "import torch as th\n",
        "from rl.algs.dqn import *"
      ],
      "execution_count": 0,
      "outputs": []
    },
    {
      "metadata": {
        "id": "lZiraZqzYiaK",
        "colab_type": "code",
        "colab": {
          "autoexec": {
            "startup": false,
            "wait_interval": 0
          },
          "base_uri": "https://localhost:8080/",
          "height": 257
        },
        "outputId": "466a889b-77d4-4393-c6b0-24a341386f24",
        "executionInfo": {
          "status": "ok",
          "timestamp": 1525323862772,
          "user_tz": 420,
          "elapsed": 20767,
          "user": {
            "displayName": "Zhaoyang Xu",
            "photoUrl": "//lh3.googleusercontent.com/-P706sVVgxyk/AAAAAAAAAAI/AAAAAAAAAEM/nAOSpZonVUE/s50-c-k-no/photo.jpg",
            "userId": "107219502952715360534"
          }
        }
      },
      "cell_type": "code",
      "source": [
        "# GridWorld (debugging)\n",
        "from rl.algs import experiment\n",
        "from rl.algs import model\n",
        "from rl.algs.envs import grid_world\n",
        "\n",
        "BATCH_SIZE = 32\n",
        "TRAIN_START_STEP = 3 * BATCH_SIZE\n",
        "NUM_TRAIN_STEPS = 10000 # 17\n",
        "REPLAY_SIZE = 100000\n",
        "TARGET_NETWORK_UPDATE_FREQ = 500\n",
        "\n",
        "\n",
        "env = environment.GridWorldWrapped(grid_shape=(4, 4, 1))\n",
        "conv_specs = {\n",
        "  model.ConvSpec(4, 1, 32),\n",
        "}\n",
        "fc_specs = (64,)\n",
        "model_params = {\n",
        "  'conv_specs': conv_specs,\n",
        "  'fc_specs': fc_specs,\n",
        "}\n",
        "\n",
        "EPS_DECAY = util.Schedule((0, TRAIN_START_STEP, NUM_TRAIN_STEPS / 1, NUM_TRAIN_STEPS),\n",
        "                          (1, 1, 0.0, 0.0))\n",
        "EPS_RANDOM = util.Schedule((0,), (1.0,))\n",
        "adam_params = {\n",
        "  'fn': th.optim.Adam,\n",
        "  'kwargs': {\n",
        "    'lr': 0.005,\n",
        "  }\n",
        "}\n",
        "rmsprop_params = {\n",
        "  'fn': th.optim.RMSprop,\n",
        "  'kwargs': {\n",
        "    'lr': 0.00025,\n",
        "    'momentum': 0.95,\n",
        "    'alpha': 0.95,\n",
        "    'eps': 0.01,\n",
        "  }\n",
        "}\n",
        "\n",
        "policy_params = {\n",
        "    'opt_params': rmsprop_params,\n",
        "    'eps_sched': EPS_DECAY,  # TODO: change\n",
        "    'target_update_freq': TARGET_NETWORK_UPDATE_FREQ,\n",
        "}\n",
        "exp = experiment.Experiment(env, model.QNetwork, model_params,\n",
        "                            Dqn, policy_params)\n",
        "\n",
        "print(exp.policy.model)\n",
        "\n",
        "rb = ReplayBuffer(REPLAY_SIZE)\n",
        "for step in range(TRAIN_START_STEP):\n",
        "  sars = env.step(exp.policy.get_action)\n",
        "  rb.add(sars)\n",
        "\n",
        "eps_rew = 0\n",
        "for step in range(TRAIN_START_STEP, NUM_TRAIN_STEPS):\n",
        "  sars = env.step(exp.policy.get_action)\n",
        "  rb.add(sars)\n",
        "    \n",
        "  experience_batch = rb.sample(BATCH_SIZE)\n",
        "  m = exp.policy.update(experience_batch)\n",
        "  \n",
        "  eps_rew += sars.r\n",
        "  if sars.s1 is None:\n",
        "    m['r_per_eps'] = eps_rew\n",
        "    eps_rew = 0\n",
        "  if step % 100 == 0 or sars.s1 is None:\n",
        "    for k, v in m.items():\n",
        "      exp.plt.add_data(k, step, v)\n",
        "      \n",
        "# Expect about r_per_eps=-50 in pure random agent."
      ],
      "execution_count": 2,
      "outputs": [
        {
          "output_type": "stream",
          "text": [
            "(1, 1, 32)\n",
            "QNetwork(\n",
            "  (convs): Sequential(\n",
            "    (0): Conv2d(1, 32, kernel_size=(4, 4), stride=(1, 1))\n",
            "    (1): ReLU()\n",
            "  )\n",
            "  (fc): Sequential(\n",
            "    (0): Linear(in_features=32, out_features=64, bias=True)\n",
            "    (1): ReLU()\n",
            "    (2): Linear(in_features=64, out_features=4, bias=True)\n",
            "  )\n",
            ")\n"
          ],
          "name": "stdout"
        }
      ]
    },
    {
      "metadata": {
        "id": "BeDMyfzVYiaN",
        "colab_type": "code",
        "colab": {
          "autoexec": {
            "startup": false,
            "wait_interval": 0
          },
          "base_uri": "https://localhost:8080/",
          "height": 37
        },
        "outputId": "49578984-69bb-48db-e126-1b1a27bb1255",
        "executionInfo": {
          "status": "ok",
          "timestamp": 1525323862831,
          "user_tz": 420,
          "elapsed": 48,
          "user": {
            "displayName": "Zhaoyang Xu",
            "photoUrl": "//lh3.googleusercontent.com/-P706sVVgxyk/AAAAAAAAAAI/AAAAAAAAAEM/nAOSpZonVUE/s50-c-k-no/photo.jpg",
            "userId": "107219502952715360534"
          }
        }
      },
      "cell_type": "code",
      "source": [
        "opt = grid_world.GridWorld((4, 4)).optimal_expected_reward()\n",
        "print(f'optimal expected r: {opt}')"
      ],
      "execution_count": 3,
      "outputs": [
        {
          "output_type": "stream",
          "text": [
            "optimal expected r: 1.6666666666666665\n"
          ],
          "name": "stdout"
        }
      ]
    },
    {
      "metadata": {
        "id": "HDhC91uXYiaP",
        "colab_type": "code",
        "colab": {
          "autoexec": {
            "startup": false,
            "wait_interval": 0
          },
          "base_uri": "https://localhost:8080/",
          "height": 2577
        },
        "outputId": "871f73f0-a9a3-4776-8d09-4a0985b51bc2",
        "executionInfo": {
          "status": "ok",
          "timestamp": 1525323863553,
          "user_tz": 420,
          "elapsed": 117,
          "user": {
            "displayName": "Zhaoyang Xu",
            "photoUrl": "//lh3.googleusercontent.com/-P706sVVgxyk/AAAAAAAAAAI/AAAAAAAAAEM/nAOSpZonVUE/s50-c-k-no/photo.jpg",
            "userId": "107219502952715360534"
          }
        }
      },
      "cell_type": "code",
      "source": [
        "env.show_model_policy(exp.policy.model)"
      ],
      "execution_count": 4,
      "outputs": [
        {
          "output_type": "stream",
          "text": [
            "[[ 0.         -0.00871241 -0.86779177 -1.90455866]\n",
            " [ 0.03664176 -0.78160262 -1.85105252 -2.86409497]\n",
            " [-0.7739231  -1.69984984 -2.71159482 -3.88958907]\n",
            " [-1.87910104 -2.71792126 -3.81940651 -4.641397  ]]\n",
            "[['⟲' '←' '←' '←']\n",
            " ['↑' '←' '←' '←']\n",
            " ['↑' '↑' '↑' '←']\n",
            " ['↑' '↑' '↑' '←']]\n",
            "[[-0.12060058  0.         -0.03949767 -1.09724391]\n",
            " [-1.13142133  0.03082024 -0.99869597 -1.87450552]\n",
            " [-2.0682292  -1.0390892  -1.75991845 -3.07801366]\n",
            " [-2.9608047  -2.10979199 -3.08782887 -3.82114935]]\n",
            "[['→' '⟲' '←' '←']\n",
            " ['→' '↑' '↑' '←']\n",
            " ['↑' '↑' '↑' '←']\n",
            " ['↑' '↑' '↑' '↑']]\n",
            "[[-1.12599897  0.02298146  0.          0.09816235]\n",
            " [-2.01844263 -0.86556965  0.0285725  -0.84878677]\n",
            " [-2.88969374 -2.0006721  -0.86210424 -1.86063337]\n",
            " [-3.97291851 -2.80415511 -2.02262092 -2.86824298]]\n",
            "[['→' '→' '⟲' '←']\n",
            " ['→' '→' '↑' '←']\n",
            " ['→' '↑' '↑' '↑']\n",
            " ['→' '→' '↑' '↑']]\n",
            "[[-1.94503093 -1.02620101 -0.12376875  0.        ]\n",
            " [-2.97985363 -1.79962444 -0.76958978  0.09468484]\n",
            " [-3.61185622 -2.89031696 -1.76457143 -0.93290859]\n",
            " [-4.59455061 -3.24846745 -2.72482491 -1.88207436]]\n",
            "[['→' '→' '→' '⟲']\n",
            " ['↑' '↑' '↑' '↑']\n",
            " ['→' '↑' '↑' '↑']\n",
            " ['→' '↑' '↑' '↑']]\n",
            "[[ 0.1075561  -0.85454404 -1.92827249 -2.61321378]\n",
            " [ 0.          0.12151021 -0.91753173 -1.94385743]\n",
            " [-0.0561808  -0.88012683 -1.91322327 -2.67130971]\n",
            " [-1.09172583 -1.99719143 -2.74745393 -3.7042799 ]]\n",
            "[['↓' '←' '←' '←']\n",
            " ['⟲' '←' '←' '←']\n",
            " ['↑' '←' '←' '←']\n",
            " ['↑' '↑' '↑' '↑']]\n",
            "[[-0.98755276 -0.02070913 -0.93605113 -2.02615094]\n",
            " [-0.0172278   0.          0.0683589  -1.02919292]\n",
            " [-0.85100722  0.07094336 -0.86480868 -2.01100373]\n",
            " [-2.03984618 -0.91308051 -1.96875644 -2.96308541]]\n",
            "[['↓' '↓' '←' '←']\n",
            " ['→' '⟲' '←' '←']\n",
            " ['→' '↑' '←' '←']\n",
            " ['→' '↑' '←' '←']]\n",
            "[[-1.98739147 -0.8910684   0.10478204 -0.9944312 ]\n",
            " [-1.29801726 -0.02365869  0.          0.2098766 ]\n",
            " [-2.01457286 -1.02103078 -0.08434977 -0.93908823]\n",
            " [-2.9720118  -1.80276799 -1.06137466 -1.79120111]]\n",
            "[['→' '↓' '↓' '↓']\n",
            " ['→' '→' '⟲' '←']\n",
            " ['→' '→' '↑' '←']\n",
            " ['↑' '↑' '↑' '↑']]\n",
            "[[-2.92448354 -2.08416367 -0.96272111 -0.02228966]\n",
            " [-1.98971415 -0.95551896 -0.07288183  0.        ]\n",
            " [-2.8356626  -1.91654563 -0.95170856 -0.03209211]\n",
            " [-3.64999247 -2.6660428  -2.07058358 -1.16622508]]\n",
            "[['→' '↓' '↓' '↓']\n",
            " ['→' '→' '→' '⟲']\n",
            " ['→' '→' '↑' '↑']\n",
            " ['→' '→' '↑' '↑']]\n",
            "[[-0.91226113 -1.98269439 -3.00137758 -3.85254169]\n",
            " [ 0.0139125  -0.88829899 -2.00371575 -2.95332074]\n",
            " [ 0.          0.05840373 -1.02113378 -2.17928648]\n",
            " [ 0.01500171 -0.98524761 -1.87579608 -3.0396266 ]]\n",
            "[['↓' '←' '←' '↓']\n",
            " ['↓' '←' '←' '←']\n",
            " ['⟲' '←' '←' '←']\n",
            " ['↑' '←' '←' '←']]\n",
            "[[-2.00028706e+00 -1.06714308e+00 -1.91791892e+00 -2.80547976e+00]\n",
            " [-9.40610647e-01 -1.13404453e-01 -8.89235735e-01 -1.83521914e+00]\n",
            " [ 1.04996055e-01  0.00000000e+00 -2.43866444e-03 -1.03894615e+00]\n",
            " [-9.97689664e-01  1.86494887e-01 -8.99161041e-01 -1.78702974e+00]]\n",
            "[['↓' '↓' '↓' '←']\n",
            " ['→' '↓' '←' '←']\n",
            " ['→' '⟲' '←' '←']\n",
            " ['↑' '↑' '↑' '←']]\n",
            "[[-2.9126792  -1.9756422  -0.94661832 -1.92532253]\n",
            " [-1.9909389  -0.82876515  0.07630861 -0.84363145]\n",
            " [-1.13136065  0.14593285  0.          0.03557682]\n",
            " [-2.12528968 -0.85336858  0.0366645  -1.01405311]]\n",
            "[['→' '→' '↓' '←']\n",
            " ['→' '→' '↓' '←']\n",
            " ['→' '→' '⟲' '←']\n",
            " ['→' '→' '↑' '←']]\n",
            "[[-4.12384558 -2.89393258 -2.03172112 -1.11173594]\n",
            " [-2.96621442 -2.00807762 -1.01903415 -0.0659894 ]\n",
            " [-1.96138811 -1.07208943  0.05796635  0.        ]\n",
            " [-3.02302647 -1.89564848 -1.02534199 -0.01277559]]\n",
            "[['→' '→' '→' '↓']\n",
            " ['→' '→' '↓' '↓']\n",
            " ['→' '→' '→' '⟲']\n",
            " ['→' '→' '↑' '↑']]\n",
            "[[-2.13808393 -2.87570858 -3.81456876 -4.56660557]\n",
            " [-1.0003134  -2.01241255 -2.88482761 -3.73716712]\n",
            " [-0.08650759 -1.00036049 -2.00849366 -2.92368674]\n",
            " [ 0.         -0.21870685 -1.02308023 -1.98543882]]\n",
            "[['↓' '←' '←' '←']\n",
            " ['↓' '↓' '←' '↓']\n",
            " ['↓' '←' '←' '←']\n",
            " ['⟲' '←' '←' '←']]\n",
            "[[-2.79318571 -2.05568933 -3.05384231 -4.02734041]\n",
            " [-1.94805217 -1.05152178 -1.99419522 -2.96845675]\n",
            " [-0.92719859 -0.11552238 -1.12791705 -2.09719872]\n",
            " [ 0.04668167  0.          0.00808734 -1.1836319 ]]\n",
            "[['↓' '↓' '↓' '←']\n",
            " ['→' '↓' '←' '↓']\n",
            " ['→' '↓' '←' '←']\n",
            " ['→' '⟲' '←' '←']]\n",
            "[[-3.57191682 -2.70117998 -1.83320141 -2.72316742]\n",
            " [-2.38584328 -1.77426744 -0.89731604 -1.67522717]\n",
            " [-1.77742887 -0.87551868 -0.06648976 -0.87969398]\n",
            " [-0.91194302 -0.04753679  0.          0.01321882]]\n",
            "[['↓' '↓' '↓' '←']\n",
            " ['↓' '↓' '↓' '←']\n",
            " ['→' '→' '↓' '←']\n",
            " ['→' '→' '⟲' '←']]\n",
            "[[-4.76981783 -3.84747052 -2.98794556 -2.1934607 ]\n",
            " [-3.76722741 -2.93807554 -1.96488118 -0.97414041]\n",
            " [-3.00445032 -1.90359402 -0.97981024 -0.02789825]\n",
            " [-2.04618144 -0.9251309  -0.16204935  0.        ]]\n",
            "[['→' '→' '→' '↓']\n",
            " ['→' '→' '↓' '↓']\n",
            " ['→' '→' '↓' '↓']\n",
            " ['→' '→' '→' '⟲']]\n"
          ],
          "name": "stdout"
        }
      ]
    },
    {
      "metadata": {
        "id": "qyrBj6McYiaR",
        "colab_type": "code",
        "colab": {
          "autoexec": {
            "startup": false,
            "wait_interval": 0
          },
          "base_uri": "https://localhost:8080/",
          "height": 57
        },
        "outputId": "db3fe521-7faa-493e-d124-5013da47f326",
        "executionInfo": {
          "status": "ok",
          "timestamp": 1525323872883,
          "user_tz": 420,
          "elapsed": 50,
          "user": {
            "displayName": "Zhaoyang Xu",
            "photoUrl": "//lh3.googleusercontent.com/-P706sVVgxyk/AAAAAAAAAAI/AAAAAAAAAEM/nAOSpZonVUE/s50-c-k-no/photo.jpg",
            "userId": "107219502952715360534"
          }
        }
      },
      "cell_type": "code",
      "source": [
        "# Debug the action-value function for a given state.\n",
        "s = [[0, 0, 0, 0],\n",
        "     [0, 0, 0, 0],\n",
        "     [0, 0, 1, 0],\n",
        "     [0, 0, 2, 0]]\n",
        "s = np.expand_dims(np.expand_dims(s, 0), -1)\n",
        "print(exp.policy.model(util.to_variable(s)))\n",
        "print(exp.policy.target_model(util.to_variable(s)))"
      ],
      "execution_count": 5,
      "outputs": [
        {
          "output_type": "stream",
          "text": [
            "tensor([[-1.6308, -1.9816, -0.0665, -1.8392]], device='cuda:0')\n",
            "tensor([[-1.7335, -1.8371,  0.0861, -1.9192]], device='cuda:0')\n"
          ],
          "name": "stdout"
        }
      ]
    },
    {
      "metadata": {
        "id": "65Q_pbVPYiaT",
        "colab_type": "code",
        "colab": {
          "autoexec": {
            "startup": false,
            "wait_interval": 0
          },
          "base_uri": "https://localhost:8080/",
          "height": 57
        },
        "outputId": "ee73b55f-31ed-4f3e-b6b5-97e8987f8c22",
        "executionInfo": {
          "status": "ok",
          "timestamp": 1525323881330,
          "user_tz": 420,
          "elapsed": 76,
          "user": {
            "displayName": "Zhaoyang Xu",
            "photoUrl": "//lh3.googleusercontent.com/-P706sVVgxyk/AAAAAAAAAAI/AAAAAAAAAEM/nAOSpZonVUE/s50-c-k-no/photo.jpg",
            "userId": "107219502952715360534"
          }
        }
      },
      "cell_type": "code",
      "source": [
        "# Examine the replay buffer.\n",
        "terminals = rb.filter_by(sars_filter(r=0))\n",
        "print(len(terminals))\n",
        "\n",
        "# action-value at 's' was wrong. Search the replay buffer for occurrences of\n",
        "# the correct transition. It's likely missing, which led the NN to overfit\n",
        "# on missing data.\n",
        "trans_s = rb.filter_by(sars_filter(s=s))\n",
        "trans_s_a = rb.filter_by(sars_filter(s=s,a=2))\n",
        "print(f'Num with (s): {len(trans_s)}. Num with (s, a): {len(trans_s_a)}')\n"
      ],
      "execution_count": 6,
      "outputs": [
        {
          "output_type": "stream",
          "text": [
            "1722\n",
            "Num with (s): 114. Num with (s, a): 74\n"
          ],
          "name": "stdout"
        }
      ]
    },
    {
      "metadata": {
        "id": "XoZsxQ4YYiaW",
        "colab_type": "code",
        "colab": {
          "autoexec": {
            "startup": false,
            "wait_interval": 0
          }
        },
        "collapsed": true
      },
      "cell_type": "code",
      "source": [
        "env.visualize(exp.policy, steps=20)"
      ],
      "execution_count": 0,
      "outputs": []
    }
  ]
}