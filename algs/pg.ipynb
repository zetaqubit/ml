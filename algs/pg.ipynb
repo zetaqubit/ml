{
 "cells": [
  {
   "cell_type": "code",
   "execution_count": 1,
   "metadata": {},
   "outputs": [],
   "source": [
    "%load_ext autoreload\n",
    "%autoreload 2"
   ]
  },
  {
   "cell_type": "code",
   "execution_count": null,
   "metadata": {
    "collapsed": false
   },
   "outputs": [],
   "source": [
    "from rl.algs.pg import *\n",
    "\n",
    "NUM_TRAIN_ITERS = 100\n",
    "MAX_STEPS_PER_EPISODE = None  # default: None\n",
    "STEPS_PER_BATCH = 1000\n",
    "env = Environment(max_episode_steps=MAX_STEPS_PER_EPISODE)\n",
    "policy = Policy(env.ob_dim, env.ac_dim)\n",
    "\n",
    "for i in range(NUM_TRAIN_ITERS):\n",
    "  eps_batch = env.sample_rollouts(policy.get_action, STEPS_PER_BATCH)\n",
    "  policy.update(eps_batch)\n",
    "\n",
    "try:\n",
    "  _ = env.sample_rollouts(policy.get_action, 1, render=True)\n",
    "finally:\n",
    "  env.env.render(close=True)\n"
   ]
  }
 ],
 "metadata": {
  "kernelspec": {
   "display_name": "Python 3",
   "language": "python",
   "name": "python3"
  },
  "language_info": {
   "codemirror_mode": {
    "name": "ipython",
    "version": 3
   },
   "file_extension": ".py",
   "mimetype": "text/x-python",
   "name": "python",
   "nbconvert_exporter": "python",
   "pygments_lexer": "ipython3",
   "version": "3.6.4"
  }
 },
 "nbformat": 4,
 "nbformat_minor": 1
}
