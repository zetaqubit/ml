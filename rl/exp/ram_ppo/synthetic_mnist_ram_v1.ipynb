{
  "nbformat": 4,
  "nbformat_minor": 0,
  "metadata": {
    "colab": {
      "name": "synthetic_mnist_ram_v1.ipynb",
      "version": "0.3.2",
      "provenance": [],
      "collapsed_sections": [],
      "toc_visible": true
    },
    "kernelspec": {
      "name": "python3",
      "display_name": "Python 3"
    },
    "accelerator": "GPU"
  },
  "cells": [
    {
      "metadata": {
        "id": "iAhwExDiZRsU",
        "colab_type": "text"
      },
      "cell_type": "markdown",
      "source": [
        "## Description"
      ]
    },
    {
      "metadata": {
        "id": "TdEX4i5BZgzK",
        "colab_type": "text"
      },
      "cell_type": "markdown",
      "source": [
        "**Dataset**\n",
        "\n",
        "Each example is a random pair of MNIST digits placed at random positions within a large black image, with the target label of the sum of the MNIST digits.\n",
        "\n",
        "**Model**\n",
        "\n",
        "A recurrent attention model that looks at the downsampled image and selects 2 high-res patches to look at before making a prediction.\n",
        "\n",
        "---\n",
        "\n",
        "**CNN top-k, using ES**\n",
        "\n",
        "stage-1:\n",
        "  - 2-layer CNN runs on low-res whole image\n",
        "  - selects a 32x32 region in in the high-res image for stage-2\n",
        "  \n",
        "stage-2:\n",
        "  - 6-layer CNN runs on the attended 32x32 high-res patch.\n",
        "  - outputs classification\n",
        "\n",
        "Both stages are trained jointly; 50 steps of stage-2 for every step of stage-1.\n",
        "Stage-1 is trained using evolutionary search (CMA-ES), while stage-2 is\n",
        "trained using SGD.\n",
        "\n",
        "---\n",
        "\n",
        "**Versions**\n",
        "\n",
        "v1: 128x128 image, 32x32 patch, 1 digit per image"
      ]
    },
    {
      "metadata": {
        "id": "aKIFn3pMc4_e",
        "colab_type": "text"
      },
      "cell_type": "markdown",
      "source": [
        "## Install"
      ]
    },
    {
      "metadata": {
        "id": "4c9zNSftc5Sv",
        "colab_type": "code",
        "outputId": "f8f00310-46c9-4643-e1f7-11cba668f353",
        "colab": {
          "base_uri": "https://localhost:8080/",
          "height": 132
        }
      },
      "cell_type": "code",
      "source": [
        "!pip3 install torch torchvision numpy"
      ],
      "execution_count": 0,
      "outputs": [
        {
          "output_type": "stream",
          "text": [
            "Requirement already satisfied: torch in /usr/lib/python3.7/site-packages (1.0.0)\r\n",
            "Requirement already satisfied: torchvision in /usr/lib/python3.7/site-packages (0.2.1)\r\n",
            "Requirement already satisfied: numpy in /usr/lib/python3.7/site-packages (1.15.4)\r\n",
            "Requirement already satisfied: six in /usr/lib/python3.7/site-packages (from torchvision) (1.12.0)\r\n",
            "Requirement already satisfied: pillow>=4.1.1 in /usr/lib/python3.7/site-packages (from torchvision) (5.4.1)\r\n",
            "Requirement already satisfied: tqdm in /usr/lib/python3.7/site-packages (from torchvision) (4.29.1)\r\n"
          ],
          "name": "stdout"
        }
      ]
    },
    {
      "metadata": {
        "id": "SxBzO4YPb1-r",
        "colab_type": "text"
      },
      "cell_type": "markdown",
      "source": [
        "## Imports"
      ]
    },
    {
      "metadata": {
        "id": "d0meQMvWbx1J",
        "colab_type": "code",
        "colab": {}
      },
      "cell_type": "code",
      "source": [
        "from matplotlib import pyplot as plt\n",
        "import numpy as np\n",
        "\n",
        "import torch as th\n",
        "from torch import nn\n",
        "import torchvision\n",
        "from torchvision import transforms\n",
        "\n",
        "%load_ext autoreload\n",
        "%autoreload 2\n",
        "\n",
        "def show_image(image, figsize=None):\n",
        "  plt.figure(figsize=figsize)\n",
        "  image = image.squeeze()\n",
        "  plt.imshow(image, cmap='gray')\n",
        "  plt.axis('off')"
      ],
      "execution_count": 0,
      "outputs": []
    },
    {
      "metadata": {
        "id": "zkBtu7sZ9PyJ",
        "colab_type": "code",
        "colab": {}
      },
      "cell_type": "code",
      "source": [
        "from rl.core.algs import model\n",
        "from rl.core.algs import util"
      ],
      "execution_count": 0,
      "outputs": []
    },
    {
      "metadata": {
        "id": "YUvDtaLcgN9c",
        "colab_type": "text"
      },
      "cell_type": "markdown",
      "source": [
        "## Config"
      ]
    },
    {
      "metadata": {
        "id": "iELDlX4IgRbf",
        "colab_type": "code",
        "outputId": "17995a68-9638-4bf9-b163-da1d7c982882",
        "colab": {
          "base_uri": "https://localhost:8080/",
          "height": 36
        }
      },
      "cell_type": "code",
      "source": [
        "debug = False\n",
        "device = th.device('cuda' if th.cuda.is_available() and not debug else 'cpu')\n",
        "print(f'Using {device}')\n",
        "\n",
        "# Synthetic dataset\n",
        "width = 128\n",
        "height = 128\n",
        "num_images = 50000\n",
        "num_images_test = 10000\n",
        "tiles_per_image = 1\n",
        "num_classes = 1 + 9 * tiles_per_image  # [0, ..., 9 * n]\n",
        "\n",
        "# ImageWorld\n",
        "window_size = 32\n",
        "\n",
        "num_epochs = 10\n",
        "batch_size = 32\n",
        "learning_rate = 0.001"
      ],
      "execution_count": 3,
      "outputs": [
        {
          "output_type": "stream",
          "text": [
            "Using cuda\n"
          ],
          "name": "stdout"
        }
      ]
    },
    {
      "metadata": {
        "id": "BCGWvI2KKH9-",
        "colab_type": "text"
      },
      "cell_type": "markdown",
      "source": [
        "## Dataset: Synthetic MNIST"
      ]
    },
    {
      "metadata": {
        "id": "nxMMkca8KH9-",
        "colab_type": "code",
        "colab": {}
      },
      "cell_type": "code",
      "source": [
        "from rl.core.envs import synthetic_dataset\n",
        "\n",
        "train_dataset = synthetic_dataset.MnistSyntheticDataset(\n",
        "    width=width, height=height, num_images=num_images,\n",
        "    tiles_per_image=tiles_per_image, train=True)\n",
        "\n",
        "#train_loader = th.utils.data.DataLoader(\n",
        "#    dataset=train_dataset, batch_size=batch_size, shuffle=True)\n",
        "\n",
        "test_dataset = synthetic_dataset.MnistSyntheticDataset(\n",
        "    width=width, height=height, num_images=num_images_test,\n",
        "    tiles_per_image=tiles_per_image, train=False)\n",
        "\n",
        "#test_loader = th.utils.data.DataLoader(\n",
        "#    dataset=test_dataset, batch_size= batch_size, shuffle=False)"
      ],
      "execution_count": 0,
      "outputs": []
    },
    {
      "metadata": {
        "id": "DojQGYn9IB9F",
        "colab_type": "text"
      },
      "cell_type": "markdown",
      "source": [
        "## Environment"
      ]
    },
    {
      "metadata": {
        "id": "2dVOFncmIDBU",
        "colab_type": "code",
        "colab": {}
      },
      "cell_type": "code",
      "source": [
        "from rl.core.envs import image_world\n",
        "\n",
        "train_env = image_world.ImageWorld(\n",
        "    window_size=window_size,\n",
        "    images=train_dataset.images,\n",
        "    labels=train_dataset.labels,\n",
        "    num_classes=num_classes)\n",
        "\n",
        "test_env = image_world.ImageWorld(\n",
        "    window_size=window_size,\n",
        "    images=test_dataset.images,\n",
        "    labels=test_dataset.labels,\n",
        "    num_classes=num_classes)"
      ],
      "execution_count": 0,
      "outputs": []
    },
    {
      "metadata": {
        "id": "1kjdLRyKKBd3",
        "colab_type": "code",
        "outputId": "b3a066ec-c7fa-4099-e237-8cdde776dc4e",
        "colab": {
          "base_uri": "https://localhost:8080/",
          "height": 268
        }
      },
      "cell_type": "code",
      "source": [
        "show_image(train_env.image)"
      ],
      "execution_count": 6,
      "outputs": [
        {
          "output_type": "display_data",
          "data": {
            "text/plain": [
              "<Figure size 432x288 with 1 Axes>"
            ],
            "image/png": "[encoded data removed]"
          },
          "metadata": {
            "tags": [],
            "needs_background": "light"
          }
        }
      ]
    },
    {
      "metadata": {
        "id": "qRHv57qCJo3h",
        "colab_type": "code",
        "outputId": "b8df1b86-5939-455d-e32f-833dcbc2607e",
        "colab": {
          "base_uri": "https://localhost:8080/",
          "height": 266
        }
      },
      "cell_type": "code",
      "source": [
        "show_image(train_env.minimap)"
      ],
      "execution_count": 7,
      "outputs": [
        {
          "output_type": "display_data",
          "data": {
            "text/plain": [
              "<Figure size 432x288 with 1 Axes>"
            ],
            "image/png": "[encoded data removed]"
          },
          "metadata": {
            "tags": [],
            "needs_background": "light"
          }
        }
      ]
    },
    {
      "metadata": {
        "id": "fcVkQX3WLZYH",
        "colab_type": "code",
        "outputId": "8bcb4859-f1ad-43d9-c1e3-dc4afab2170e",
        "colab": {
          "base_uri": "https://localhost:8080/",
          "height": 36
        }
      },
      "cell_type": "code",
      "source": [
        "train_env.label"
      ],
      "execution_count": 8,
      "outputs": [
        {
          "output_type": "execute_result",
          "data": {
            "text/plain": [
              "2.0"
            ]
          },
          "metadata": {
            "tags": []
          },
          "execution_count": 8
        }
      ]
    },
    {
      "metadata": {
        "id": "W76Cu2HGNOMd",
        "colab_type": "text"
      },
      "cell_type": "markdown",
      "source": [
        "## Model"
      ]
    },
    {
      "metadata": {
        "id": "Mkjmv-dHe0tt",
        "colab_type": "code",
        "colab": {}
      },
      "cell_type": "code",
      "source": [
        "# CNN over window.\n",
        "class CNN(nn.Module):\n",
        "  def __init__(self, output_size=None):\n",
        "    super().__init__()\n",
        "    self.convs = model.cnn([\n",
        "        model.ConvSpec(depth=16, width=5, stride=1, padding=2),\n",
        "        model.ConvSpec(32, 5, 2, 2),\n",
        "        model.ConvSpec(64, 5, 2, 2),\n",
        "        model.ConvSpec(128, 5, 2, 2),\n",
        "        model.ConvSpec(256, 5, 2, 2),\n",
        "        model.ConvSpec(512, 5, 2, 2),\n",
        "    ], in_depth=1, fn=th.nn.ReLU, last_fn=th.nn.ReLU, bn=True)\n",
        "    \n",
        "    \n",
        "    self.pooling = nn.AdaptiveAvgPool2d((1, 1))\n",
        "    if output_size is not None:\n",
        "      self.fc = nn.Linear(512, output_size)\n",
        "    else:\n",
        "      self.fc = None\n",
        "    \n",
        "  def forward(self, x):  # BCHW -> BO\n",
        "    out = self.convs(x)\n",
        "    out = self.pooling(out)\n",
        "    out = out.reshape(out.size(0), -1)\n",
        "    if self.fc is not None:\n",
        "      out = self.fc(out)\n",
        "    return out"
      ],
      "execution_count": 0,
      "outputs": []
    },
    {
      "metadata": {
        "id": "pUDIY0ZieJHV",
        "colab_type": "code",
        "colab": {}
      },
      "cell_type": "code",
      "source": [
        "class ConvRnn(nn.Module):\n",
        "  def __init__(self, cnn, output_size=None):\n",
        "    super().__init__()\n",
        "    self.cnn = cnn\n",
        "    if output_size is not None:\n",
        "      with th.no_grad():\n",
        "        cnn_out_size = cnn(th.zeros(1, 1, 32, 32)).shape[-1]\n",
        "      self.fc = nn.Linear(cnn_out_size, output_size)\n",
        "    else:\n",
        "      self.fc = None\n",
        "  \n",
        "  def forward(self, x):  # BSCHW -> BO\n",
        "    b, s, c, h, w = x.shape\n",
        "    x_stacked = x.reshape((b * s, c, h, w))\n",
        "    out_stacked = self.cnn(x_stacked)\n",
        "    out = out_stacked.reshape((b, s) + out_stacked.shape[1:])\n",
        "    reduced = out.mean(dim=1)\n",
        "    if self.fc is not None:\n",
        "      reduced = self.fc(reduced)\n",
        "    return reduced"
      ],
      "execution_count": 0,
      "outputs": []
    },
    {
      "metadata": {
        "id": "mIXLAL9Hf5qc",
        "colab_type": "code",
        "outputId": "11806021-ffce-4bfb-9a0c-88e35bf478ab",
        "colab": {
          "base_uri": "https://localhost:8080/",
          "height": 209
        }
      },
      "cell_type": "code",
      "source": [
        "ConvRnn(CNN(5), output_size=3)(th.zeros((10, 7, 1, 32, 32)))"
      ],
      "execution_count": 11,
      "outputs": [
        {
          "output_type": "execute_result",
          "data": {
            "text/plain": [
              "tensor([[ 0.2688,  0.2264, -0.4435],\n",
              "        [ 0.2688,  0.2264, -0.4435],\n",
              "        [ 0.2688,  0.2264, -0.4435],\n",
              "        [ 0.2688,  0.2264, -0.4435],\n",
              "        [ 0.2688,  0.2264, -0.4435],\n",
              "        [ 0.2688,  0.2264, -0.4435],\n",
              "        [ 0.2688,  0.2264, -0.4435],\n",
              "        [ 0.2688,  0.2264, -0.4435],\n",
              "        [ 0.2688,  0.2264, -0.4435],\n",
              "        [ 0.2688,  0.2264, -0.4435]], grad_fn=<AddmmBackward>)"
            ]
          },
          "metadata": {
            "tags": []
          },
          "execution_count": 11
        }
      ]
    },
    {
      "metadata": {
        "id": "u330-5smPRL-",
        "colab_type": "text"
      },
      "cell_type": "markdown",
      "source": [
        "## Train Eval"
      ]
    },
    {
      "metadata": {
        "id": "QH7kpJaOPTDC",
        "colab_type": "code",
        "colab": {}
      },
      "cell_type": "code",
      "source": [
        "from rl.core.algs import plotter\n",
        "\n",
        "def train(model, data_loader, name='', num_epochs=num_epochs):\n",
        "  plot = plotter.Plotter(log_dir='/tmp/tensorboard/' + name)\n",
        "  model.plot = plot\n",
        "  \n",
        "  # Loss and optimizer.\n",
        "  loss_fn = nn.CrossEntropyLoss()\n",
        "  optimizer = th.optim.Adam(model.parameters(), lr=learning_rate)\n",
        "\n",
        "\n",
        "  num_steps = len(data_loader)\n",
        "  for epoch in range(num_epochs):\n",
        "    for step, (*images, labels) in enumerate(data_loader):\n",
        "      labels = labels.to(device, dtype=th.long)\n",
        "      images = [images_i.to(device) for images_i in images]\n",
        "\n",
        "      # Forward\n",
        "      outputs = model(*images)\n",
        "      loss = loss_fn(outputs, labels)\n",
        "\n",
        "      # Backward\n",
        "      optimizer.zero_grad()\n",
        "      loss.backward()\n",
        "      optimizer.step()\n",
        "\n",
        "      if step % 100 == 0:\n",
        "        plot.add_data('loss', epoch * num_steps + step,\n",
        "                      loss.detach().cpu().numpy())\n",
        "\n",
        "    print(f'Epoch [{epoch+1}/{num_epochs}], '\n",
        "          f'Loss: {loss.item():.4}')\n",
        "\n",
        "  plot.line_plot()\n",
        "  \n",
        "\n",
        "def eval(model, data_loader):\n",
        "  with th.no_grad():\n",
        "    correct, total = 0, 0\n",
        "    for *images, labels in data_loader:\n",
        "      labels = labels.to(device, dtype=th.long)\n",
        "      images = [images_i.to(device) for images_i in images]\n",
        "      outputs = model(*images)\n",
        "      _, predicted = th.max(outputs.data, 1)\n",
        "      total += labels.size(0)\n",
        "      correct += (predicted == labels).sum().item()\n",
        "    accuracy = correct / total\n",
        "    print(f'Accuracy of model on {total} images: {100 * accuracy:0.2f}%')"
      ],
      "execution_count": 0,
      "outputs": []
    },
    {
      "metadata": {
        "id": "2j_uOsxfMF4E",
        "colab_type": "text"
      },
      "cell_type": "markdown",
      "source": [
        "## Baseline: CNN over minimaps\n",
        "\n",
        "Not expected to work well."
      ]
    },
    {
      "metadata": {
        "id": "cTL353p6fNeI",
        "colab_type": "code",
        "colab": {}
      },
      "cell_type": "code",
      "source": [
        "mini_train_ds = th.utils.data.TensorDataset(\n",
        "    th.Tensor(train_env._images_mini), th.Tensor(train_env._labels))\n",
        "mini_train_loader = th.utils.data.DataLoader(\n",
        "    dataset=mini_train_ds, batch_size=batch_size, shuffle=True)\n",
        "\n",
        "\n",
        "mini_test_ds = th.utils.data.TensorDataset(\n",
        "    th.Tensor(test_env._images_mini), th.Tensor(test_env._labels))\n",
        "mini_test_loader = th.utils.data.DataLoader(\n",
        "    dataset=mini_test_ds, batch_size=batch_size, shuffle=True)"
      ],
      "execution_count": 0,
      "outputs": []
    },
    {
      "metadata": {
        "id": "4T8KJOhU5wO2",
        "colab_type": "code",
        "outputId": "730819d1-5317-492a-e3c4-1b8078e92ff4",
        "colab": {
          "base_uri": "https://localhost:8080/",
          "height": 458
        }
      },
      "cell_type": "code",
      "source": [
        "baseline_model = CNN(num_classes).to(device)\n",
        "baseline_model"
      ],
      "execution_count": 14,
      "outputs": [
        {
          "output_type": "execute_result",
          "data": {
            "text/plain": [
              "CNN(\n",
              "  (convs): Sequential(\n",
              "    (0): Conv2d(1, 16, kernel_size=(5, 5), stride=(1, 1), padding=(2, 2))\n",
              "    (1): ReLU()\n",
              "    (2): BatchNorm2d(16, eps=1e-05, momentum=0.1, affine=True, track_running_stats=True)\n",
              "    (3): Conv2d(16, 32, kernel_size=(5, 5), stride=(2, 2), padding=(2, 2))\n",
              "    (4): ReLU()\n",
              "    (5): BatchNorm2d(32, eps=1e-05, momentum=0.1, affine=True, track_running_stats=True)\n",
              "    (6): Conv2d(32, 64, kernel_size=(5, 5), stride=(2, 2), padding=(2, 2))\n",
              "    (7): ReLU()\n",
              "    (8): BatchNorm2d(64, eps=1e-05, momentum=0.1, affine=True, track_running_stats=True)\n",
              "    (9): Conv2d(64, 128, kernel_size=(5, 5), stride=(2, 2), padding=(2, 2))\n",
              "    (10): ReLU()\n",
              "    (11): BatchNorm2d(128, eps=1e-05, momentum=0.1, affine=True, track_running_stats=True)\n",
              "    (12): Conv2d(128, 256, kernel_size=(5, 5), stride=(2, 2), padding=(2, 2))\n",
              "    (13): ReLU()\n",
              "    (14): BatchNorm2d(256, eps=1e-05, momentum=0.1, affine=True, track_running_stats=True)\n",
              "    (15): Conv2d(256, 512, kernel_size=(5, 5), stride=(2, 2), padding=(2, 2))\n",
              "    (16): ReLU()\n",
              "  )\n",
              "  (pooling): AdaptiveAvgPool2d(output_size=(1, 1))\n",
              "  (fc): Linear(in_features=512, out_features=10, bias=True)\n",
              ")"
            ]
          },
          "metadata": {
            "tags": []
          },
          "execution_count": 14
        }
      ]
    },
    {
      "metadata": {
        "id": "YOCPb7YxNcKc",
        "colab_type": "code",
        "outputId": "0d7190a1-46d8-4960-91f8-77fa17515db5",
        "colab": {
          "base_uri": "https://localhost:8080/",
          "height": 665
        }
      },
      "cell_type": "code",
      "source": [
        "train(baseline_model, mini_train_loader, 'synthetic_mnist_cnn_mini',\n",
        "      num_epochs=20)"
      ],
      "execution_count": 15,
      "outputs": [
        {
          "output_type": "stream",
          "text": [
            "Epoch [1/20], Loss: 1.095\n",
            "Epoch [2/20], Loss: 0.6701\n",
            "Epoch [3/20], Loss: 0.6155\n",
            "Epoch [4/20], Loss: 0.8668\n",
            "Epoch [5/20], Loss: 0.4125\n",
            "Epoch [6/20], Loss: 0.4874\n",
            "Epoch [7/20], Loss: 0.1247\n",
            "Epoch [8/20], Loss: 0.6234\n",
            "Epoch [9/20], Loss: 0.1222\n",
            "Epoch [10/20], Loss: 0.4024\n",
            "Epoch [11/20], Loss: 0.2621\n",
            "Epoch [12/20], Loss: 0.2549\n",
            "Epoch [13/20], Loss: 0.504\n",
            "Epoch [14/20], Loss: 0.6435\n",
            "Epoch [15/20], Loss: 0.0113\n",
            "Epoch [16/20], Loss: 0.616\n",
            "Epoch [17/20], Loss: 0.004717\n",
            "Epoch [18/20], Loss: 0.04103\n",
            "Epoch [19/20], Loss: 0.01763\n",
            "Epoch [20/20], Loss: 0.003928\n"
          ],
          "name": "stdout"
        },
        {
          "output_type": "display_data",
          "data": {
            "text/plain": [
              "<Figure size 432x288 with 1 Axes>"
            ],
            "image/png": "[encoded data removed]"
          },
          "metadata": {
            "tags": [],
            "needs_background": "light"
          }
        }
      ]
    },
    {
      "metadata": {
        "id": "A_DixywEPrX0",
        "colab_type": "code",
        "outputId": "4a49dee2-db14-4718-a34a-1af8df10ee62",
        "colab": {
          "base_uri": "https://localhost:8080/",
          "height": 36
        }
      },
      "cell_type": "code",
      "source": [
        "# Train error.\n",
        "eval(baseline_model, mini_train_loader)"
      ],
      "execution_count": 16,
      "outputs": [
        {
          "output_type": "stream",
          "text": [
            "Accuracy of model on 50000 images: 98.10%\n"
          ],
          "name": "stdout"
        }
      ]
    },
    {
      "metadata": {
        "id": "pJG7mEgeN399",
        "colab_type": "code",
        "outputId": "8a2b115b-ee87-42ad-e9b8-78ba9000da26",
        "colab": {
          "base_uri": "https://localhost:8080/",
          "height": 36
        }
      },
      "cell_type": "code",
      "source": [
        "# Test error.\n",
        "eval(baseline_model, mini_test_loader)"
      ],
      "execution_count": 17,
      "outputs": [
        {
          "output_type": "stream",
          "text": [
            "Accuracy of model on 10000 images: 85.73%\n"
          ],
          "name": "stdout"
        }
      ]
    },
    {
      "metadata": {
        "id": "-bkwma77diTB",
        "colab_type": "text"
      },
      "cell_type": "markdown",
      "source": [
        "##Baseline: Random glimpses"
      ]
    },
    {
      "metadata": {
        "id": "DI9DUTgNdkx-",
        "colab_type": "code",
        "colab": {}
      },
      "cell_type": "code",
      "source": [
        "class RandomGlimpseDS(th.utils.data.Dataset):\n",
        "  def __init__(self, iw_env: image_world.ImageWorld, k: int):\n",
        "    super().__init__()\n",
        "    self.iw_env = iw_env\n",
        "    self.k = k\n",
        "  \n",
        "  def __len__(self):\n",
        "    return self.iw_env.num_images\n",
        "  \n",
        "  def __getitem__(self, index):\n",
        "    self.iw_env._current_image_index = index\n",
        "    \n",
        "    images = np.empty((self.k, 1, self.iw_env._win_sz, self.iw_env._win_sz))\n",
        "    for i in range(self.k):\n",
        "      x, y = self._get_glimpse(i)\n",
        "      images[i, ...] = self.iw_env.glimpse(x, y)\n",
        "    label = self.iw_env.label\n",
        "    return util.to_tensor(images), util.to_tensor(label)\n",
        "  \n",
        "  def _get_glimpse(self, i):\n",
        "    return np.random.uniform(size=(2,)) "
      ],
      "execution_count": 0,
      "outputs": []
    },
    {
      "metadata": {
        "id": "y6pi_H0tqZ96",
        "colab_type": "code",
        "colab": {}
      },
      "cell_type": "code",
      "source": [
        "K = 16\n",
        "rg_train_ds = RandomGlimpseDS(train_env, k=K)\n",
        "rg_train_loader = th.utils.data.DataLoader(\n",
        "    dataset=rg_train_ds, batch_size=batch_size, shuffle=True)\n",
        "\n",
        "rg_test_ds = RandomGlimpseDS(test_env, k=K)\n",
        "rg_test_loader = th.utils.data.DataLoader(\n",
        "    dataset=rg_test_ds, batch_size=batch_size)"
      ],
      "execution_count": 0,
      "outputs": []
    },
    {
      "metadata": {
        "id": "kAMqzBrbfaXh",
        "colab_type": "code",
        "outputId": "a13ece46-e58d-4380-f16d-d46c4e7eb7c9",
        "colab": {
          "base_uri": "https://localhost:8080/",
          "height": 86
        }
      },
      "cell_type": "code",
      "source": [
        "imgs = util.to_numpy(rg_train_ds[0][0])\n",
        "imgs = [np.squeeze(img) for img in np.split(imgs, K, axis=0)]\n",
        "show_image(np.concatenate(imgs, axis=1), figsize=(10, 8))"
      ],
      "execution_count": 20,
      "outputs": [
        {
          "output_type": "display_data",
          "data": {
            "text/plain": [
              "<Figure size 720x576 with 1 Axes>"
            ],
            "image/png": "[encoded data removed]"
          },
          "metadata": {
            "tags": [],
            "needs_background": "light"
          }
        }
      ]
    },
    {
      "metadata": {
        "id": "GTgTlHOGkvZZ",
        "colab_type": "code",
        "outputId": "71b122fb-5f60-4afd-f6af-f71f2743557a",
        "colab": {
          "base_uri": "https://localhost:8080/",
          "height": 319
        }
      },
      "cell_type": "code",
      "source": [
        "rg_model = ConvRnn(CNN(), num_classes).to(device)\n",
        "train(rg_model, rg_train_loader, 'synthetic_mnist_random_k' + str(K),\n",
        "      num_epochs=2)"
      ],
      "execution_count": 21,
      "outputs": [
        {
          "output_type": "stream",
          "text": [
            "Epoch [1/2], Loss: 1.134\n",
            "Epoch [2/2], Loss: 0.7657\n"
          ],
          "name": "stdout"
        },
        {
          "output_type": "display_data",
          "data": {
            "text/plain": [
              "<Figure size 432x288 with 1 Axes>"
            ],
            "image/png": "[encoded data removed]"
          },
          "metadata": {
            "tags": [],
            "needs_background": "light"
          }
        }
      ]
    },
    {
      "metadata": {
        "colab_type": "code",
        "outputId": "ea715271-0e42-42bd-de47-40c9d90757e4",
        "id": "7PvgnXjap-8J",
        "colab": {
          "base_uri": "https://localhost:8080/",
          "height": 36
        }
      },
      "cell_type": "code",
      "source": [
        "# Train error.\n",
        "eval(rg_model, rg_train_loader)"
      ],
      "execution_count": 22,
      "outputs": [
        {
          "output_type": "stream",
          "text": [
            "Accuracy of model on 50000 images: 72.03%\n"
          ],
          "name": "stdout"
        }
      ]
    },
    {
      "metadata": {
        "colab_type": "code",
        "outputId": "38da1ef0-efc3-47fb-a52b-86adcf2b865c",
        "id": "xoMW_zrfp-8M",
        "colab": {
          "base_uri": "https://localhost:8080/",
          "height": 36
        }
      },
      "cell_type": "code",
      "source": [
        "# Test error.\n",
        "eval(rg_model, rg_test_loader)"
      ],
      "execution_count": 23,
      "outputs": [
        {
          "output_type": "stream",
          "text": [
            "Accuracy of model on 10000 images: 72.46%\n"
          ],
          "name": "stdout"
        }
      ]
    },
    {
      "metadata": {
        "colab_type": "text",
        "id": "1AyfuGqST_g3"
      },
      "cell_type": "markdown",
      "source": [
        "##Baseline: Grid glimpses"
      ]
    },
    {
      "metadata": {
        "colab_type": "code",
        "id": "Ltule695T_g6",
        "colab": {}
      },
      "cell_type": "code",
      "source": [
        "class GridGlimpseDS(RandomGlimpseDS):\n",
        "  def _get_glimpse(self, i):\n",
        "    k = self.k\n",
        "    sqrt_k = int(np.sqrt(k))\n",
        "    x = (i % sqrt_k) / sqrt_k\n",
        "    y = (i // sqrt_k) / sqrt_k\n",
        "    return x, y"
      ],
      "execution_count": 0,
      "outputs": []
    },
    {
      "metadata": {
        "colab_type": "code",
        "id": "-l6Y0lZVT_hJ",
        "colab": {}
      },
      "cell_type": "code",
      "source": [
        "K = 16\n",
        "gg_train_ds = GridGlimpseDS(train_env, k=K)\n",
        "gg_train_loader = th.utils.data.DataLoader(\n",
        "    dataset=gg_train_ds, batch_size=batch_size, shuffle=True)\n",
        "\n",
        "gg_test_ds = GridGlimpseDS(test_env, k=K)\n",
        "gg_test_loader = th.utils.data.DataLoader(\n",
        "    dataset=gg_test_ds, batch_size=batch_size)"
      ],
      "execution_count": 0,
      "outputs": []
    },
    {
      "metadata": {
        "id": "iuMvFCRriZXD",
        "colab_type": "code",
        "outputId": "a08d8e33-c534-4d4a-fc73-489c5e14be94",
        "colab": {
          "base_uri": "https://localhost:8080/",
          "height": 86
        }
      },
      "cell_type": "code",
      "source": [
        "imgs = util.to_numpy(gg_train_ds[0][0])\n",
        "imgs = [np.squeeze(img) for img in np.split(imgs, K, axis=0)]\n",
        "show_image(np.concatenate(imgs, axis=1), figsize=(10, 8))"
      ],
      "execution_count": 26,
      "outputs": [
        {
          "output_type": "display_data",
          "data": {
            "text/plain": [
              "<Figure size 720x576 with 1 Axes>"
            ],
            "image/png": "[encoded data removed]"
          },
          "metadata": {
            "tags": [],
            "needs_background": "light"
          }
        }
      ]
    },
    {
      "metadata": {
        "colab_type": "code",
        "id": "7baIzWcxT_hT",
        "outputId": "0b9fce33-ff31-46a3-8f0a-9d29d3ffc178",
        "colab": {
          "base_uri": "https://localhost:8080/",
          "height": 319
        }
      },
      "cell_type": "code",
      "source": [
        "gg_model = ConvRnn(CNN(), num_classes).to(device)\n",
        "train(gg_model, gg_train_loader, 'synthetic_mnist_grid_k' + str(K),\n",
        "      num_epochs=2)"
      ],
      "execution_count": 27,
      "outputs": [
        {
          "output_type": "stream",
          "text": [
            "Epoch [1/2], Loss: 0.4871\n",
            "Epoch [2/2], Loss: 0.4547\n"
          ],
          "name": "stdout"
        },
        {
          "output_type": "display_data",
          "data": {
            "text/plain": [
              "<Figure size 432x288 with 1 Axes>"
            ],
            "image/png": "[encoded data removed]"
          },
          "metadata": {
            "tags": [],
            "needs_background": "light"
          }
        }
      ]
    },
    {
      "metadata": {
        "colab_type": "code",
        "outputId": "0756ff0b-a547-4287-b2e3-9386be210bd4",
        "id": "-uvEzBZCT_hb",
        "colab": {
          "base_uri": "https://localhost:8080/",
          "height": 36
        }
      },
      "cell_type": "code",
      "source": [
        "# Train error.\n",
        "eval(gg_model, gg_train_loader)"
      ],
      "execution_count": 28,
      "outputs": [
        {
          "output_type": "stream",
          "text": [
            "Accuracy of model on 50000 images: 93.09%\n"
          ],
          "name": "stdout"
        }
      ]
    },
    {
      "metadata": {
        "colab_type": "code",
        "outputId": "604ed6cb-dac0-47c9-80f2-d1cd9a1017b6",
        "id": "HX6nBESCT_hg",
        "colab": {
          "base_uri": "https://localhost:8080/",
          "height": 36
        }
      },
      "cell_type": "code",
      "source": [
        "# Test error.\n",
        "eval(gg_model, gg_test_loader)"
      ],
      "execution_count": 29,
      "outputs": [
        {
          "output_type": "stream",
          "text": [
            "Accuracy of model on 10000 images: 91.69%\n"
          ],
          "name": "stdout"
        }
      ]
    },
    {
      "metadata": {
        "id": "ibnDNVwQbncX",
        "colab_type": "text"
      },
      "cell_type": "markdown",
      "source": [
        "## Policy: CNN top-k, using ES"
      ]
    },
    {
      "metadata": {
        "id": "dFoc52GdvlB-",
        "colab_type": "code",
        "colab": {}
      },
      "cell_type": "code",
      "source": [
        "zip_train_ds = th.utils.data.TensorDataset(\n",
        "    th.Tensor(train_env._images_mini), th.Tensor(train_env._images),\n",
        "    th.Tensor(train_env._labels))\n",
        "zip_train_loader = th.utils.data.DataLoader(\n",
        "    dataset=zip_train_ds, batch_size=batch_size, shuffle=True)\n",
        "\n",
        "zip_test_ds = th.utils.data.TensorDataset(\n",
        "    th.Tensor(test_env._images_mini), th.Tensor(test_env._images),\n",
        "    th.Tensor(test_env._labels))\n",
        "zip_test_loader = th.utils.data.DataLoader(\n",
        "    dataset=zip_test_ds, batch_size=batch_size)"
      ],
      "execution_count": 0,
      "outputs": []
    },
    {
      "metadata": {
        "id": "XEgEVt8Hbqj_",
        "colab_type": "code",
        "outputId": "f0fbcd38-7096-4351-c8a0-718e49f7c1d5",
        "colab": {
          "base_uri": "https://localhost:8080/",
          "height": 113
        }
      },
      "cell_type": "code",
      "source": [
        "# 32x32 Minimap -> 7x7 heatmap over glimpse location (log-softmax).\n",
        "\n",
        "class TwoStage(th.nn.Module):\n",
        "  \n",
        "  def __init__(self, env, cnn):\n",
        "    super().__init__()\n",
        "    self.env = env\n",
        "    self.cnn = cnn\n",
        "    self.plot = None\n",
        "    self._step = 0\n",
        "    \n",
        "    conv_specs = [\n",
        "        model.ConvSpec(depth=8, width=3, stride=2),\n",
        "        model.ConvSpec(1, 3, 2),\n",
        "    ]\n",
        "    input_shape = (window_size, window_size, 1)\n",
        "    heatmap_shape = model.cnn_shape(conv_specs, input_shape)\n",
        "    print('Input shape:', input_shape)\n",
        "    print('Heatmap shape:', heatmap_shape)\n",
        "    assert heatmap_shape[0] > 1 and heatmap_shape[1] > 1\n",
        "    self.heatmap_shape = heatmap_shape\n",
        "\n",
        "    self.minimap_cnn = model.cnn(conv_specs, input_shape[-1], bn=True)\n",
        "    self.logsoftmax = th.nn.LogSoftmax(dim=-1)\n",
        "    \n",
        "    \n",
        "  def forward(self, mini, full, visualize=False):\n",
        "    \"\"\"Minimap -> heatmap (log-softmax), flattened to [batch, -1]\"\"\"\n",
        "    with th.no_grad():\n",
        "      heatmap = self.minimap_cnn(mini)\n",
        "      log_probs = self.logsoftmax(heatmap.view(heatmap.shape[0], -1))\n",
        "      indices = th.argmax(log_probs, dim=-1)\n",
        "      x, y = self._indices_to_coords(indices)\n",
        "      image_patches = image_world.glimpse_batch(\n",
        "          x, y, full, window_size, visualize=visualize)\n",
        "    \n",
        "    if self.plot:\n",
        "      self.plot.add_data('x', self._step, x.detach().cpu().numpy())\n",
        "      self.plot.add_data('y', self._step, x.detach().cpu().numpy())\n",
        "      self._step += 1\n",
        "    \n",
        "    return self.cnn.forward(image_patches)\n",
        "    \n",
        "  def _indices_to_coords(self, indices):\n",
        "    out_width = self.heatmap_shape[0]\n",
        "    x = indices % out_width\n",
        "    y = indices // out_width\n",
        "    return (x.float() + 0.5) / out_width, (y.float() + 0.5) / out_width\n",
        "  \n",
        "two_stage = TwoStage(train_env, CNN(num_classes)).to(device)\n",
        "print(f'Num params heatmap: {util.num_params(two_stage.minimap_cnn)}')\n",
        "print(f'Num params full: {util.num_params(two_stage.cnn)}')\n",
        "#print(two_stage._indices_to_coords(th.Tensor([0, 1, 8, 48])))\n",
        "\n",
        "mini, full, label = iter(zip_train_loader).next()\n",
        "two_stage.forward(mini.to(device), full.to(device)).shape\n"
      ],
      "execution_count": 39,
      "outputs": [
        {
          "output_type": "stream",
          "text": [
            "Input shape: (32, 32, 1)\n",
            "Heatmap shape: (7, 7, 1)\n",
            "Num params heatmap: 169\n",
            "Num params full: 4372330\n"
          ],
          "name": "stdout"
        },
        {
          "output_type": "execute_result",
          "data": {
            "text/plain": [
              "torch.Size([32, 10])"
            ]
          },
          "metadata": {
            "tags": []
          },
          "execution_count": 39
        }
      ]
    },
    {
      "metadata": {
        "id": "aT4Sy7aQEyjI",
        "colab_type": "code",
        "colab": {}
      },
      "cell_type": "code",
      "source": [
        "def train_es(model, data_loader, name='', num_epochs=num_epochs):\n",
        "  plot = plotter.Plotter(log_dir='/tmp/tensorboard/' + name)\n",
        "  model.plot = plot\n",
        "  \n",
        "  # Loss and optimizer.\n",
        "  loss_fn = nn.CrossEntropyLoss()\n",
        "  optimizer = th.optim.Adam(model.cnn.parameters(), lr=learning_rate)\n",
        "\n",
        "  x0 = util.serialize_params(model.minimap_cnn)\n",
        "  \n",
        "  import cma\n",
        "  es = cma.CMAEvolutionStrategy(x0, 0.05,)\n",
        "  \n",
        "  def evaluate_objective(model, model_params, images, labels):\n",
        "    util.deserialize_params(model.minimap_cnn, model_params)\n",
        "\n",
        "    with th.no_grad():\n",
        "      outputs = model(*images)\n",
        "      loss = loss_fn(outputs, labels)\n",
        "    return loss.item()\n",
        "\n",
        "  num_steps = len(data_loader)\n",
        "  for epoch in range(num_epochs):\n",
        "    for step, (*images, labels) in enumerate(data_loader):\n",
        "      labels = labels.to(device, dtype=th.long)\n",
        "      images = [images_i.to(device) for images_i in images]\n",
        "\n",
        "      # Forward\n",
        "      outputs = model(*images)\n",
        "      loss = loss_fn(outputs, labels)\n",
        "\n",
        "      # Backward\n",
        "      optimizer.zero_grad()\n",
        "      loss.backward()\n",
        "      optimizer.step()\n",
        "      \n",
        "      # Update Policy\n",
        "      if step % 100 == 0:\n",
        "        solutions = es.ask()\n",
        "        scores = [evaluate_objective(model, p, images, labels) for p in solutions]\n",
        "        es.tell(solutions, scores)\n",
        "\n",
        "      if step % 100 == 0:\n",
        "        plot.add_data('loss', epoch * num_steps + step,\n",
        "                      loss.detach().cpu().numpy())\n",
        "\n",
        "    print(f'Epoch [{epoch+1}/{num_epochs}], '\n",
        "          f'Loss: {loss.item():.4}')\n",
        "\n",
        "  plot.line_plot()"
      ],
      "execution_count": 0,
      "outputs": []
    },
    {
      "metadata": {
        "id": "df-mLox88rvy",
        "colab_type": "code",
        "outputId": "23877f82-0bd6-4687-eb23-f013efd5c555",
        "colab": {
          "base_uri": "https://localhost:8080/",
          "height": 905
        }
      },
      "cell_type": "code",
      "source": [
        "train_es(two_stage, zip_train_loader, 'synthetic_mnist_two_stage',\n",
        "      num_epochs=4)"
      ],
      "execution_count": 41,
      "outputs": [
        {
          "output_type": "stream",
          "text": [
            "(9_w,19)-aCMA-ES (mu_w=5.6,w_1=29%) in dimension 169 (seed=940470, Sun Apr 21 18:52:53 2019)\n",
            "Epoch [1/4], Loss: 0.6308\n",
            "Epoch [2/4], Loss: 0.1588\n",
            "Epoch [3/4], Loss: 0.0407\n",
            "Epoch [4/4], Loss: 0.6814\n"
          ],
          "name": "stdout"
        },
        {
          "output_type": "display_data",
          "data": {
            "text/plain": [
              "<Figure size 432x288 with 1 Axes>"
            ],
            "image/png": "[encoded data removed]"
          },
          "metadata": {
            "tags": [],
            "needs_background": "light"
          }
        },
        {
          "output_type": "display_data",
          "data": {
            "text/plain": [
              "<Figure size 432x288 with 1 Axes>"
            ],
            "image/png": "[encoded data removed]"
          },
          "metadata": {
            "tags": [],
            "needs_background": "light"
          }
        },
        {
          "output_type": "display_data",
          "data": {
            "text/plain": [
              "<Figure size 432x288 with 1 Axes>"
            ],
            "image/png": "[encoded data removed]"
          },
          "metadata": {
            "tags": [],
            "needs_background": "light"
          }
        }
      ]
    },
    {
      "metadata": {
        "colab_type": "code",
        "outputId": "b9f185d7-7f56-4570-d5a2-eaddb61ba5fd",
        "id": "d8zeX-3ICEpE",
        "colab": {
          "base_uri": "https://localhost:8080/",
          "height": 36
        }
      },
      "cell_type": "code",
      "source": [
        "# Train error.\n",
        "eval(two_stage, zip_train_loader)"
      ],
      "execution_count": 42,
      "outputs": [
        {
          "output_type": "stream",
          "text": [
            "Accuracy of model on 50000 images: 93.86%\n"
          ],
          "name": "stdout"
        }
      ]
    },
    {
      "metadata": {
        "colab_type": "code",
        "outputId": "efa99847-d18e-4755-ca50-8a11b3ac6404",
        "id": "FDAvoGaBCEpN",
        "colab": {
          "base_uri": "https://localhost:8080/",
          "height": 36
        }
      },
      "cell_type": "code",
      "source": [
        "# Test error.\n",
        "eval(two_stage, zip_test_loader)"
      ],
      "execution_count": 43,
      "outputs": [
        {
          "output_type": "stream",
          "text": [
            "Accuracy of model on 10000 images: 92.18%\n"
          ],
          "name": "stdout"
        }
      ]
    },
    {
      "metadata": {
        "id": "pKcsyNjtMXWB",
        "colab_type": "code",
        "outputId": "6544c2d3-88d5-44c1-e9ef-a7798a3837ff",
        "colab": {
          "base_uri": "https://localhost:8080/",
          "height": 8055
        }
      },
      "cell_type": "code",
      "source": [
        "def visualize_glimpse(model, data_loader):\n",
        "  \n",
        "  (*images, labels) = iter(data_loader).next()\n",
        "  labels = labels.to(device, dtype=th.long)\n",
        "  images = [images_i.to(device) for images_i in images]\n",
        "\n",
        "  outputs = model(*images, visualize=True)\n",
        "  images_dbg = util.to_numpy(images[1])\n",
        "  for image_dbg in images_dbg:\n",
        "    show_image(image_dbg)\n",
        "\n",
        "visualize_glimpse(two_stage, zip_test_loader)"
      ],
      "execution_count": 44,
      "outputs": [
        {
          "output_type": "display_data",
          "data": {
            "text/plain": [
              "<Figure size 432x288 with 1 Axes>"
            ],
            "image/png": "[encoded data removed]"
          },
          "metadata": {
            "tags": [],
            "needs_background": "light"
          }
        },
        {
          "output_type": "display_data",
          "data": {
            "text/plain": [
              "<Figure size 432x288 with 1 Axes>"
            ],
            "image/png": "[encoded data removed]"
          },
          "metadata": {
            "tags": [],
            "needs_background": "light"
          }
        },
        {
          "output_type": "display_data",
          "data": {
            "text/plain": [
              "<Figure size 432x288 with 1 Axes>"
            ],
            "image/png": "[encoded data removed]"
          },
          "metadata": {
            "tags": [],
            "needs_background": "light"
          }
        },
        {
          "output_type": "display_data",
          "data": {
            "text/plain": [
              "<Figure size 432x288 with 1 Axes>"
            ],
            "image/png": "[encoded data removed]"
          },
          "metadata": {
            "tags": [],
            "needs_background": "light"
          }
        },
        {
          "output_type": "display_data",
          "data": {
            "text/plain": [
              "<Figure size 432x288 with 1 Axes>"
            ],
            "image/png": "[encoded data removed]"
          },
          "metadata": {
            "tags": [],
            "needs_background": "light"
          }
        },
        {
          "output_type": "display_data",
          "data": {
            "text/plain": [
              "<Figure size 432x288 with 1 Axes>"
            ],
            "image/png": "[encoded data removed]"
          },
          "metadata": {
            "tags": [],
            "needs_background": "light"
          }
        },
        {
          "output_type": "display_data",
          "data": {
            "text/plain": [
              "<Figure size 432x288 with 1 Axes>"
            ],
            "image/png": "[encoded data removed]"
          },
          "metadata": {
            "tags": [],
            "needs_background": "light"
          }
        },
        {
          "output_type": "display_data",
          "data": {
            "text/plain": [
              "<Figure size 432x288 with 1 Axes>"
            ],
            "image/png": "[encoded data removed]"
          },
          "metadata": {
            "tags": [],
            "needs_background": "light"
          }
        },
        {
          "output_type": "display_data",
          "data": {
            "text/plain": [
              "<Figure size 432x288 with 1 Axes>"
            ],
            "image/png": "[encoded data removed]"
          },
          "metadata": {
            "tags": [],
            "needs_background": "light"
          }
        },
        {
          "output_type": "display_data",
          "data": {
            "text/plain": [
              "<Figure size 432x288 with 1 Axes>"
            ],
            "image/png": "[encoded data removed]"
          },
          "metadata": {
            "tags": [],
            "needs_background": "light"
          }
        },
        {
          "output_type": "display_data",
          "data": {
            "text/plain": [
              "<Figure size 432x288 with 1 Axes>"
            ],
            "image/png": "[encoded data removed]"
          },
          "metadata": {
            "tags": [],
            "needs_background": "light"
          }
        },
        {
          "output_type": "display_data",
          "data": {
            "text/plain": [
              "<Figure size 432x288 with 1 Axes>"
            ],
            "image/png": "[encoded data removed]"
          },
          "metadata": {
            "tags": [],
            "needs_background": "light"
          }
        },
        {
          "output_type": "display_data",
          "data": {
            "text/plain": [
              "<Figure size 432x288 with 1 Axes>"
            ],
            "image/png": "[encoded data removed]"
          },
          "metadata": {
            "tags": [],
            "needs_background": "light"
          }
        },
        {
          "output_type": "display_data",
          "data": {
            "text/plain": [
              "<Figure size 432x288 with 1 Axes>"
            ],
            "image/png": "[encoded data removed]"
          },
          "metadata": {
            "tags": [],
            "needs_background": "light"
          }
        },
        {
          "output_type": "display_data",
          "data": {
            "text/plain": [
              "<Figure size 432x288 with 1 Axes>"
            ],
            "image/png": "[encoded data removed]"
          },
          "metadata": {
            "tags": [],
            "needs_background": "light"
          }
        },
        {
          "output_type": "display_data",
          "data": {
            "text/plain": [
              "<Figure size 432x288 with 1 Axes>"
            ],
            "image/png": "[encoded data removed]"
          },
          "metadata": {
            "tags": [],
            "needs_background": "light"
          }
        },
        {
          "output_type": "display_data",
          "data": {
            "text/plain": [
              "<Figure size 432x288 with 1 Axes>"
            ],
            "image/png": "[encoded data removed]"
          },
          "metadata": {
            "tags": [],
            "needs_background": "light"
          }
        },
        {
          "output_type": "display_data",
          "data": {
            "text/plain": [
              "<Figure size 432x288 with 1 Axes>"
            ],
            "image/png": "[encoded data removed]"
          },
          "metadata": {
            "tags": [],
            "needs_background": "light"
          }
        },
        {
          "output_type": "display_data",
          "data": {
            "text/plain": [
              "<Figure size 432x288 with 1 Axes>"
            ],
            "image/png": "[encoded data removed]"
          },
          "metadata": {
            "tags": [],
            "needs_background": "light"
          }
        },
        {
          "output_type": "display_data",
          "data": {
            "text/plain": [
              "<Figure size 432x288 with 1 Axes>"
            ],
            "image/png": "[encoded data removed]"
          },
          "metadata": {
            "tags": [],
            "needs_background": "light"
          }
        },
        {
          "output_type": "display_data",
          "data": {
            "text/plain": [
              "<Figure size 432x288 with 1 Axes>"
            ],
            "image/png": "[encoded data removed]"
          },
          "metadata": {
            "tags": [],
            "needs_background": "light"
          }
        },
        {
          "output_type": "display_data",
          "data": {
            "text/plain": [
              "<Figure size 432x288 with 1 Axes>"
            ],
            "image/png": "[encoded data removed]"
          },
          "metadata": {
            "tags": [],
            "needs_background": "light"
          }
        },
        {
          "output_type": "display_data",
          "data": {
            "text/plain": [
              "<Figure size 432x288 with 1 Axes>"
            ],
            "image/png": "[encoded data removed]"
          },
          "metadata": {
            "tags": [],
            "needs_background": "light"
          }
        },
        {
          "output_type": "display_data",
          "data": {
            "text/plain": [
              "<Figure size 432x288 with 1 Axes>"
            ],
            "image/png": "[encoded data removed]"
          },
          "metadata": {
            "tags": [],
            "needs_background": "light"
          }
        },
        {
          "output_type": "display_data",
          "data": {
            "text/plain": [
              "<Figure size 432x288 with 1 Axes>"
            ],
            "image/png": "[encoded data removed]"
          },
          "metadata": {
            "tags": [],
            "needs_background": "light"
          }
        },
        {
          "output_type": "display_data",
          "data": {
            "text/plain": [
              "<Figure size 432x288 with 1 Axes>"
            ],
            "image/png": "[encoded data removed]"
          },
          "metadata": {
            "tags": [],
            "needs_background": "light"
          }
        },
        {
          "output_type": "display_data",
          "data": {
            "text/plain": [
              "<Figure size 432x288 with 1 Axes>"
            ],
            "image/png": "[encoded data removed]"
          },
          "metadata": {
            "tags": [],
            "needs_background": "light"
          }
        },
        {
          "output_type": "display_data",
          "data": {
            "text/plain": [
              "<Figure size 432x288 with 1 Axes>"
            ],
            "image/png": "[encoded data removed]"
          },
          "metadata": {
            "tags": [],
            "needs_background": "light"
          }
        },
        {
          "output_type": "display_data",
          "data": {
            "text/plain": [
              "<Figure size 432x288 with 1 Axes>"
            ],
            "image/png": "[encoded data removed]"
          },
          "metadata": {
            "tags": [],
            "needs_background": "light"
          }
        },
        {
          "output_type": "display_data",
          "data": {
            "text/plain": [
              "<Figure size 432x288 with 1 Axes>"
            ],
            "image/png": "[encoded data removed]"
          },
          "metadata": {
            "tags": [],
            "needs_background": "light"
          }
        },
        {
          "output_type": "display_data",
          "data": {
            "text/plain": [
              "<Figure size 432x288 with 1 Axes>"
            ],
            "image/png": "[encoded data removed]"
          },
          "metadata": {
            "tags": [],
            "needs_background": "light"
          }
        },
        {
          "output_type": "display_data",
          "data": {
            "text/plain": [
              "<Figure size 432x288 with 1 Axes>"
            ],
            "image/png": "[encoded data removed]"
          },
          "metadata": {
            "tags": [],
            "needs_background": "light"
          }
        }
      ]
    },
    {
      "metadata": {
        "id": "272x2ClCIR-z",
        "colab_type": "code",
        "outputId": "a8bc6a00-c222-44e8-84f9-748808594910",
        "colab": {
          "base_uri": "https://localhost:8080/",
          "height": 714
        }
      },
      "cell_type": "code",
      "source": [
        "def visualize_filters(filters):\n",
        "  filters = util.to_numpy(filters)\n",
        "  out_dim, in_dim = filters.shape[:2]\n",
        "  print(f'Visualize filter of size {filters.shape}')\n",
        "  for o_i in range(out_dim):\n",
        "    for i_i in range(in_dim):\n",
        "      show_image(filters[o_i, i_i, ...], figsize=(1, 1))\n",
        "  \n",
        "visualize_filters(two_stage.minimap_cnn.state_dict()['0.weight'])"
      ],
      "execution_count": 45,
      "outputs": [
        {
          "output_type": "stream",
          "text": [
            "Visualize filter of size (8, 1, 3, 3)\n"
          ],
          "name": "stdout"
        },
        {
          "output_type": "display_data",
          "data": {
            "text/plain": [
              "<Figure size 72x72 with 1 Axes>"
            ],
            "image/png": "[encoded data removed]"
          },
          "metadata": {
            "tags": [],
            "needs_background": "light"
          }
        },
        {
          "output_type": "display_data",
          "data": {
            "text/plain": [
              "<Figure size 72x72 with 1 Axes>"
            ],
            "image/png": "[encoded data removed]"
          },
          "metadata": {
            "tags": [],
            "needs_background": "light"
          }
        },
        {
          "output_type": "display_data",
          "data": {
            "text/plain": [
              "<Figure size 72x72 with 1 Axes>"
            ],
            "image/png": "[encoded data removed]"
          },
          "metadata": {
            "tags": [],
            "needs_background": "light"
          }
        },
        {
          "output_type": "display_data",
          "data": {
            "text/plain": [
              "<Figure size 72x72 with 1 Axes>"
            ],
            "image/png": "[encoded data removed]"
          },
          "metadata": {
            "tags": [],
            "needs_background": "light"
          }
        },
        {
          "output_type": "display_data",
          "data": {
            "text/plain": [
              "<Figure size 72x72 with 1 Axes>"
            ],
            "image/png": "[encoded data removed]"
          },
          "metadata": {
            "tags": [],
            "needs_background": "light"
          }
        },
        {
          "output_type": "display_data",
          "data": {
            "text/plain": [
              "<Figure size 72x72 with 1 Axes>"
            ],
            "image/png": "[encoded data removed]"
          },
          "metadata": {
            "tags": [],
            "needs_background": "light"
          }
        },
        {
          "output_type": "display_data",
          "data": {
            "text/plain": [
              "<Figure size 72x72 with 1 Axes>"
            ],
            "image/png": "[encoded data removed]"
          },
          "metadata": {
            "tags": [],
            "needs_background": "light"
          }
        },
        {
          "output_type": "display_data",
          "data": {
            "text/plain": [
              "<Figure size 72x72 with 1 Axes>"
            ],
            "image/png": "[encoded data removed]"
          },
          "metadata": {
            "tags": [],
            "needs_background": "light"
          }
        }
      ]
    },
    {
      "metadata": {
        "id": "P7xGeiFoKMpD",
        "colab_type": "code",
        "outputId": "96368b3d-8f11-47f2-8897-abd610820311",
        "colab": {
          "base_uri": "https://localhost:8080/",
          "height": 714
        }
      },
      "cell_type": "code",
      "source": [
        "visualize_filters(two_stage.minimap_cnn.state_dict()['3.weight'])"
      ],
      "execution_count": 46,
      "outputs": [
        {
          "output_type": "stream",
          "text": [
            "Visualize filter of size (1, 8, 3, 3)\n"
          ],
          "name": "stdout"
        },
        {
          "output_type": "display_data",
          "data": {
            "text/plain": [
              "<Figure size 72x72 with 1 Axes>"
            ],
            "image/png": "[encoded data removed]"
          },
          "metadata": {
            "tags": [],
            "needs_background": "light"
          }
        },
        {
          "output_type": "display_data",
          "data": {
            "text/plain": [
              "<Figure size 72x72 with 1 Axes>"
            ],
            "image/png": "[encoded data removed]"
          },
          "metadata": {
            "tags": [],
            "needs_background": "light"
          }
        },
        {
          "output_type": "display_data",
          "data": {
            "text/plain": [
              "<Figure size 72x72 with 1 Axes>"
            ],
            "image/png": "[encoded data removed]"
          },
          "metadata": {
            "tags": [],
            "needs_background": "light"
          }
        },
        {
          "output_type": "display_data",
          "data": {
            "text/plain": [
              "<Figure size 72x72 with 1 Axes>"
            ],
            "image/png": "[encoded data removed]"
          },
          "metadata": {
            "tags": [],
            "needs_background": "light"
          }
        },
        {
          "output_type": "display_data",
          "data": {
            "text/plain": [
              "<Figure size 72x72 with 1 Axes>"
            ],
            "image/png": "[encoded data removed]"
          },
          "metadata": {
            "tags": [],
            "needs_background": "light"
          }
        },
        {
          "output_type": "display_data",
          "data": {
            "text/plain": [
              "<Figure size 72x72 with 1 Axes>"
            ],
            "image/png": "[encoded data removed]"
          },
          "metadata": {
            "tags": [],
            "needs_background": "light"
          }
        },
        {
          "output_type": "display_data",
          "data": {
            "text/plain": [
              "<Figure size 72x72 with 1 Axes>"
            ],
            "image/png": "[encoded data removed]"
          },
          "metadata": {
            "tags": [],
            "needs_background": "light"
          }
        },
        {
          "output_type": "display_data",
          "data": {
            "text/plain": [
              "<Figure size 72x72 with 1 Axes>"
            ],
            "image/png": "[encoded data removed]"
          },
          "metadata": {
            "tags": [],
            "needs_background": "light"
          }
        }
      ]
    },
    {
      "metadata": {
        "id": "upScPJHzBik0",
        "colab_type": "text"
      },
      "cell_type": "markdown",
      "source": [
        "## Policy: RNN"
      ]
    },
    {
      "metadata": {
        "id": "RGekG8FbphzQ",
        "colab_type": "code",
        "colab": {}
      },
      "cell_type": "code",
      "source": [
        "# RNN Controller\n",
        "class RNN(nn.Module):\n",
        "  def __init__(self, input_size, hidden_size, num_layers, output_size):\n",
        "    super().__init__()\n",
        "    self.hidden_size = hidden_size\n",
        "    self.num_layers = num_layers\n",
        "    self.lstm = nn.LSTM(input_size, hidden_size, num_layers)\n",
        "    self.fc = nn.Linear(hidden_size, output_size)\n",
        "    \n",
        "  def forward(self, x):\n",
        "    \"\"\"\n",
        "    Args:\n",
        "      x: input tensor, shaped [seq_len, batch_size, input_size]\n",
        "    \"\"\"\n",
        "    if self.h_n is None:\n",
        "      # Set initial hidden and cell states.\n",
        "      self.h_n = th.zeros(self.num_layers, x.size(1), self.hidden_size).to(device)\n",
        "      self.c_n = th.zeros(self.num_layers, x.size(1), self.hidden_size).to(device)\n",
        "    \n",
        "    # Forward propagate LSTM.\n",
        "    # out shape (seq_len, batch_size, hid_size)\n",
        "    out, (self.h_n, self.c_n) = self.lstm(x, (self.h_n, self.c_n))\n",
        "    \n",
        "    # Decode the hidden state of the last time step.\n",
        "    out = self.fc(out[-1, :, :])\n",
        "    return out\n",
        "    \n",
        "  def reset(self):\n",
        "    self.h_n, self.c_n = None, None\n",
        "  \n",
        "  def step(self, x):\n",
        "    \"\"\"\n",
        "    Args:\n",
        "      x: input tensor, shaped [batch_size, input_size]\n",
        "    \"\"\"\n",
        "    return forward(x.unsqueeze(dim=0))"
      ],
      "execution_count": 0,
      "outputs": []
    },
    {
      "metadata": {
        "id": "jheGLBHKcR0N",
        "colab_type": "text"
      },
      "cell_type": "markdown",
      "source": [
        "##Actor"
      ]
    },
    {
      "metadata": {
        "id": "JXqmlPLCBpOw",
        "colab_type": "code",
        "outputId": "a67e1f59-44dc-4004-b6d5-4c551a2bba3e",
        "colab": {
          "base_uri": "https://localhost:8080/",
          "height": 55
        }
      },
      "cell_type": "code",
      "source": [
        "# 32x32 Minimap -> 5x5 heatmap over glimpse location (log-softmax).\n",
        "\n",
        "class Actor(th.nn.Module):\n",
        "  \n",
        "  def __init__(self):\n",
        "    super().__init__()\n",
        "    conv_specs = [\n",
        "        model.ConvSpec(depth=8, width=5, stride=2),\n",
        "        model.ConvSpec(1, 5, 2),\n",
        "    ]\n",
        "    input_shape = (window_size, window_size, 1)\n",
        "    heatmap_shape = model.cnn_shape(conv_specs, input_shape)\n",
        "    print('Input shape:', input_shape)\n",
        "    print('Heatmap shape:', heatmap_shape)\n",
        "    assert heatmap_shape[0] > 1 and heatmap_shape[1] > 1\n",
        "\n",
        "    self.minimap_cnn = model.cnn(conv_specs, input_shape[-1], bn=True)\n",
        "    self.logsoftmax = th.nn.LogSoftmax(dim=-1)\n",
        "    \n",
        "  def forward(self, x):\n",
        "    \"\"\"Minimap -> heatmap (log-softmax), flattened to [batch, -1]\"\"\"\n",
        "    x = self.minimap_cnn(x)\n",
        "    return self.logsoftmax(x.view(x.shape[0], -1))\n",
        "  \n",
        "  def log_probs(self, obs_var, acs_var, metrics=None):\n",
        "    dist = self._get_action_distribution(obs_var)\n",
        "    log_probs = dist.log_prob(acs_var)\n",
        "    log_probs = log_probs.squeeze()  # [batch, 1] -> [batch]\n",
        "    return log_probs\n",
        "  \n",
        "  def _get_action_distribution(self, obs_var):\n",
        "    logits = self(obs_var)\n",
        "    dist = th.distributions.Categorical(logits=logits)\n",
        "    return dist\n",
        "  \n",
        "  def get_action(self, obs_np):\n",
        "    obs_var = util.to_tensor(obs_np)\n",
        "    dist = self._get_action_distribution(obs_var.unsqueeze(0))\n",
        "    ac = dist.sample().squeeze(0)\n",
        "    out_np = util.to_numpy(ac)\n",
        "    return out_np\n",
        "\n",
        "actor = Actor().to(device)"
      ],
      "execution_count": 0,
      "outputs": [
        {
          "output_type": "stream",
          "text": [
            "Input shape: (32, 32, 1)\n",
            "Heatmap shape: (5, 5, 1)\n"
          ],
          "name": "stdout"
        }
      ]
    },
    {
      "metadata": {
        "id": "kWSCp4A8dknl",
        "colab_type": "code",
        "outputId": "271d4685-28ff-42bd-dc2f-887a14e30e94",
        "colab": {
          "base_uri": "https://localhost:8080/",
          "height": 36
        }
      },
      "cell_type": "code",
      "source": [
        "util.num_params(actor)"
      ],
      "execution_count": 0,
      "outputs": [
        {
          "output_type": "execute_result",
          "data": {
            "text/plain": [
              "425"
            ]
          },
          "metadata": {
            "tags": []
          },
          "execution_count": 18
        }
      ]
    },
    {
      "metadata": {
        "id": "ps4PpFtjOb1M",
        "colab_type": "code",
        "outputId": "9c81ba6d-c281-44f6-9735-7dbcc4251dbe",
        "colab": {
          "base_uri": "https://localhost:8080/",
          "height": 74
        }
      },
      "cell_type": "code",
      "source": [
        "obs = th.rand((1, 1, 32, 32)).to(device)\n",
        "actor(obs)"
      ],
      "execution_count": 0,
      "outputs": [
        {
          "output_type": "execute_result",
          "data": {
            "text/plain": [
              "tensor([[-2.8461, -3.1342, -3.0645, -3.2041, -2.9614, -3.0136, -2.7436, -2.2936,\n",
              "         -2.6979, -1.8994, -2.7294, -2.8076, -3.0575, -2.9127, -2.8294, -3.1695]],\n",
              "       device='cuda:0', grad_fn=<LogSoftmaxBackward>)"
            ]
          },
          "metadata": {
            "tags": []
          },
          "execution_count": 36
        }
      ]
    },
    {
      "metadata": {
        "id": "BFU1eeg8O4ep",
        "colab_type": "code",
        "outputId": "a6f0bd2a-2d11-451d-fb4b-43c5571f2403",
        "colab": {
          "base_uri": "https://localhost:8080/",
          "height": 36
        }
      },
      "cell_type": "code",
      "source": [
        "actor.get_action(util.to_numpy(obs[0]))"
      ],
      "execution_count": 0,
      "outputs": [
        {
          "output_type": "execute_result",
          "data": {
            "text/plain": [
              "array(15)"
            ]
          },
          "metadata": {
            "tags": []
          },
          "execution_count": 44
        }
      ]
    },
    {
      "metadata": {
        "id": "TG3AA94nTko-",
        "colab_type": "code",
        "outputId": "27b21cf6-243e-419e-fd6e-c280e21f6f20",
        "colab": {
          "base_uri": "https://localhost:8080/",
          "height": 36
        }
      },
      "cell_type": "code",
      "source": [
        "actor.log_probs(obs, util.to_tensor([[2]]))"
      ],
      "execution_count": 0,
      "outputs": [
        {
          "output_type": "execute_result",
          "data": {
            "text/plain": [
              "tensor(-3.0645, device='cuda:0', grad_fn=<SqueezeBackward0>)"
            ]
          },
          "metadata": {
            "tags": []
          },
          "execution_count": 41
        }
      ]
    },
    {
      "metadata": {
        "id": "y2loddtGR9Pc",
        "colab_type": "code",
        "colab": {}
      },
      "cell_type": "code",
      "source": [
        "# Patch model.\n",
        "patch_model = CNN(num_classes).to(device)"
      ],
      "execution_count": 0,
      "outputs": []
    },
    {
      "metadata": {
        "id": "deCNG0iPP1P5",
        "colab_type": "code",
        "colab": {}
      },
      "cell_type": "code",
      "source": [
        "from rl.core.algs import policy\n",
        "\n",
        "pg = policy.PolicyGradient(actor)"
      ],
      "execution_count": 0,
      "outputs": []
    },
    {
      "metadata": {
        "id": "ZPBEn0VkSbai",
        "colab_type": "code",
        "colab": {}
      },
      "cell_type": "code",
      "source": [
        "from rl.core.envs import image_world\n",
        "\n",
        "class ImageWorldEnvironment:\n",
        "  def __init__(self, image_world_env):\n",
        "    self.env = image_world_env\n",
        "  \n",
        "  def reset(self):\n",
        "    return self.env.reset()\n",
        "    \n",
        "  def sample_rollouts(self, policy, batch_size):\n",
        "    \"\"\"\n",
        "    episodes = []\n",
        "    env_need_reset = True\n",
        "    episode_i = 0\n",
        "    steps = 0\n",
        "    while True:\n",
        "      if env_need_reset:\n",
        "        if batch_size and steps >= batch_size:\n",
        "          break\n",
        "        episode_i += 1\n",
        "        episode = []\n",
        "        episodes.append(episode)\n",
        "        ob = self.env.reset()\n",
        "      if render:\n",
        "        self.env.render()\n",
        "      ac = policy(ob)\n",
        "      ob, r, env_need_reset, _ = self.env.step(ac)\n",
        "      episode.append(SAR(ob, ac, r))\n",
        "      steps += 1\n",
        "    \"\"\"  \n",
        "    for ep in batch_size // 2:\n",
        "      minimap = self.env.reset()\n",
        "      ac = policy(minimap)\n",
        "      ac = self.encode_action(window=ac)\n",
        "   \n",
        "    return episodes\n",
        "  \n",
        "  def encode_action(self, window=None, prediction=None):\n",
        "    assert window or prediction\n",
        "    assert not (window and prediction)\n",
        "    \n",
        "    if window:\n",
        "      w = int(math.sqrt(window.shape[-1]))\n",
        "      \n"
      ],
      "execution_count": 0,
      "outputs": []
    },
    {
      "metadata": {
        "id": "yEuasDWblPD1",
        "colab_type": "text"
      },
      "cell_type": "markdown",
      "source": [
        "## Visualize"
      ]
    },
    {
      "metadata": {
        "id": "Qi6OMFR0lP-g",
        "colab_type": "code",
        "colab": {}
      },
      "cell_type": "code",
      "source": [
        "with th.no_grad():\n",
        "  images, labels = next(iter(test_loader))\n",
        "  images, labels = images.to(device), labels.to(device, dtype=th.long)\n",
        "  preds = model(images)"
      ],
      "execution_count": 0,
      "outputs": []
    },
    {
      "metadata": {
        "id": "k4w5-ifTnY2h",
        "colab_type": "code",
        "outputId": "9c0241d9-675f-443e-daa2-8387ae43f6ea",
        "colab": {
          "base_uri": "https://localhost:8080/",
          "height": 346
        }
      },
      "cell_type": "code",
      "source": [
        "show_image(images[0].cpu())\n",
        "print(labels[0], th.argmax(preds[0]))\n",
        "print(preds[0])"
      ],
      "execution_count": 0,
      "outputs": [
        {
          "output_type": "stream",
          "text": [
            "tensor(7, device='cuda:0') tensor(7, device='cuda:0')\n",
            "tensor([-65.1824, -17.0377, -18.4109, -23.8195, -17.5708, -14.8207, -17.6504,\n",
            "         13.5137,  -7.6158, -12.6516, -13.4251, -16.3913, -18.0062,  -9.7191,\n",
            "        -31.7705, -22.9673, -44.8392, -66.1163, -88.2574], device='cuda:0')\n"
          ],
          "name": "stdout"
        },
        {
          "output_type": "display_data",
          "data": {
            "text/plain": [
              "<matplotlib.figure.Figure at 0x7f5cc03226a0>"
            ],
            "image/png": "[encoded data removed]"
          },
          "metadata": {
            "tags": []
          }
        }
      ]
    },
    {
      "metadata": {
        "id": "OxfPTbFgoIjo",
        "colab_type": "code",
        "outputId": "e3618d50-9fe1-4441-d337-c5287ff329b9",
        "colab": {
          "base_uri": "https://localhost:8080/",
          "height": 346
        }
      },
      "cell_type": "code",
      "source": [
        "show_image(images[-1].cpu())\n",
        "print(labels[-1], th.argmax(preds[-1]))\n",
        "print(preds[-1])"
      ],
      "execution_count": 0,
      "outputs": [
        {
          "output_type": "stream",
          "text": [
            "tensor(11, device='cuda:0') tensor(11, device='cuda:0')\n",
            "tensor([-69.5024, -49.4482, -36.4089, -27.7180, -23.8961, -16.9660, -12.2554,\n",
            "        -14.4462, -15.4553,  -9.9069,  -8.2601,  10.7134,  -6.8387,  -5.3839,\n",
            "        -16.5228, -12.9464,  -6.7946,  -5.1531,  -6.4700], device='cuda:0')\n"
          ],
          "name": "stdout"
        },
        {
          "output_type": "display_data",
          "data": {
            "text/plain": [
              "<matplotlib.figure.Figure at 0x7f5cc038da58>"
            ],
            "image/png": "[encoded data removed]"
          },
          "metadata": {
            "tags": []
          }
        }
      ]
    },
    {
      "metadata": {
        "id": "kWadwB94Wyqe",
        "colab_type": "text"
      },
      "cell_type": "markdown",
      "source": [
        "## Save model"
      ]
    },
    {
      "metadata": {
        "id": "7JzujefLWyGn",
        "colab_type": "code",
        "colab": {}
      },
      "cell_type": "code",
      "source": [
        "th.save(model.state_dict(), '/tmp/synthetic_mnist_conv.ckpt')"
      ],
      "execution_count": 0,
      "outputs": []
    }
  ]
}