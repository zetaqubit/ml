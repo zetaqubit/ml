{
  "nbformat": 4,
  "nbformat_minor": 0,
  "metadata": {
    "colab": {
      "name": "synthetic_mnist_ram.ipynb",
      "version": "0.3.2",
      "provenance": [],
      "collapsed_sections": [],
      "toc_visible": true,
      "include_colab_link": true
    },
    "kernelspec": {
      "name": "python3",
      "display_name": "Python 3"
    },
    "accelerator": "GPU"
  },
  "cells": [
    {
      "cell_type": "markdown",
      "metadata": {
        "id": "view-in-github",
        "colab_type": "text"
      },
      "source": [
        "<a href=\"https://colab.research.google.com/github/zetaqubit/ml/blob/master/rl/exp/ram_ppo/synthetic_mnist_ram.ipynb\" target=\"_parent\"><img src=\"https://colab.research.google.com/assets/colab-badge.svg\" alt=\"Open In Colab\"/></a>"
      ]
    },
    {
      "metadata": {
        "id": "iAhwExDiZRsU",
        "colab_type": "text"
      },
      "cell_type": "markdown",
      "source": [
        "## Description"
      ]
    },
    {
      "metadata": {
        "id": "TdEX4i5BZgzK",
        "colab_type": "text"
      },
      "cell_type": "markdown",
      "source": [
        "**Dataset**\n",
        "\n",
        "Each example is a random pair of MNIST digits placed at random positions within a large black image, with the target label of the sum of the MNIST digits.\n",
        "\n",
        "**Model**\n",
        "\n",
        "A recurrent attention model that looks at the downsampled image and selects 2 high-res patches to look at before making a prediction.\n",
        "\n"
      ]
    },
    {
      "metadata": {
        "id": "aKIFn3pMc4_e",
        "colab_type": "text"
      },
      "cell_type": "markdown",
      "source": [
        "## Install"
      ]
    },
    {
      "metadata": {
        "id": "4c9zNSftc5Sv",
        "colab_type": "code",
        "outputId": "f8f00310-46c9-4643-e1f7-11cba668f353",
        "colab": {
          "base_uri": "https://localhost:8080/",
          "height": 132
        }
      },
      "cell_type": "code",
      "source": [
        "!pip3 install torch torchvision numpy"
      ],
      "execution_count": 0,
      "outputs": [
        {
          "output_type": "stream",
          "text": [
            "Requirement already satisfied: torch in /usr/lib/python3.7/site-packages (1.0.0)\r\n",
            "Requirement already satisfied: torchvision in /usr/lib/python3.7/site-packages (0.2.1)\r\n",
            "Requirement already satisfied: numpy in /usr/lib/python3.7/site-packages (1.15.4)\r\n",
            "Requirement already satisfied: six in /usr/lib/python3.7/site-packages (from torchvision) (1.12.0)\r\n",
            "Requirement already satisfied: pillow>=4.1.1 in /usr/lib/python3.7/site-packages (from torchvision) (5.4.1)\r\n",
            "Requirement already satisfied: tqdm in /usr/lib/python3.7/site-packages (from torchvision) (4.29.1)\r\n"
          ],
          "name": "stdout"
        }
      ]
    },
    {
      "metadata": {
        "id": "SxBzO4YPb1-r",
        "colab_type": "text"
      },
      "cell_type": "markdown",
      "source": [
        "## Imports"
      ]
    },
    {
      "metadata": {
        "id": "d0meQMvWbx1J",
        "colab_type": "code",
        "outputId": "2d78e241-2f00-4ad7-a557-f80f0b9e8f2d",
        "colab": {
          "base_uri": "https://localhost:8080/",
          "height": 55
        }
      },
      "cell_type": "code",
      "source": [
        "from matplotlib import pyplot as plt\n",
        "import numpy as np\n",
        "\n",
        "import torch as th\n",
        "from torch import nn\n",
        "import torchvision\n",
        "from torchvision import transforms\n",
        "\n",
        "%load_ext autoreload\n",
        "%autoreload 2\n",
        "\n",
        "def show_image(image, figsize=None):\n",
        "  if figsize:\n",
        "    plt.figure(figsize=figsize)\n",
        "  image = image.squeeze()\n",
        "  plt.imshow(image, cmap='gray')\n",
        "  plt.axis('off')"
      ],
      "execution_count": 158,
      "outputs": [
        {
          "output_type": "stream",
          "text": [
            "The autoreload extension is already loaded. To reload it, use:\n",
            "  %reload_ext autoreload\n"
          ],
          "name": "stdout"
        }
      ]
    },
    {
      "metadata": {
        "id": "zkBtu7sZ9PyJ",
        "colab_type": "code",
        "colab": {}
      },
      "cell_type": "code",
      "source": [
        "from rl.core.algs import model\n",
        "from rl.core.algs import util"
      ],
      "execution_count": 0,
      "outputs": []
    },
    {
      "metadata": {
        "id": "YUvDtaLcgN9c",
        "colab_type": "text"
      },
      "cell_type": "markdown",
      "source": [
        "## Config"
      ]
    },
    {
      "metadata": {
        "id": "iELDlX4IgRbf",
        "colab_type": "code",
        "outputId": "e43ace51-1744-4e21-8a0d-06c2ac0e8bff",
        "colab": {
          "base_uri": "https://localhost:8080/",
          "height": 36
        }
      },
      "cell_type": "code",
      "source": [
        "debug = False\n",
        "device = th.device('cuda' if th.cuda.is_available() and not debug else 'cpu')\n",
        "print(f'Using {device}')\n",
        "\n",
        "# Synthetic dataset\n",
        "width = 128\n",
        "height = 128\n",
        "num_images = 50000\n",
        "num_images_test = 10000\n",
        "tiles_per_image = 1\n",
        "num_classes = 1 + 9 * tiles_per_image  # [0, ..., 9 * n]\n",
        "\n",
        "# ImageWorld\n",
        "window_size = 32\n",
        "\n",
        "num_epochs = 10\n",
        "batch_size = 32\n",
        "learning_rate = 0.001"
      ],
      "execution_count": 0,
      "outputs": [
        {
          "output_type": "stream",
          "text": [
            "Using cuda\n"
          ],
          "name": "stdout"
        }
      ]
    },
    {
      "metadata": {
        "id": "BCGWvI2KKH9-",
        "colab_type": "text"
      },
      "cell_type": "markdown",
      "source": [
        "## Dataset: Synthetic MNIST"
      ]
    },
    {
      "metadata": {
        "id": "nxMMkca8KH9-",
        "colab_type": "code",
        "colab": {}
      },
      "cell_type": "code",
      "source": [
        "from rl.core.envs import synthetic_dataset\n",
        "\n",
        "train_dataset = synthetic_dataset.MnistSyntheticDataset(\n",
        "    width=width, height=height, num_images=num_images,\n",
        "    tiles_per_image=tiles_per_image, train=True)\n",
        "\n",
        "train_loader = th.utils.data.DataLoader(\n",
        "    dataset=train_dataset, batch_size=batch_size, shuffle=True)\n",
        "\n",
        "test_dataset = synthetic_dataset.MnistSyntheticDataset(\n",
        "    width=width, height=height, num_images=num_images_test,\n",
        "    tiles_per_image=tiles_per_image, train=False)\n",
        "\n",
        "test_loader = th.utils.data.DataLoader(\n",
        "    dataset=test_dataset, batch_size= batch_size, shuffle=False)"
      ],
      "execution_count": 0,
      "outputs": []
    },
    {
      "metadata": {
        "id": "DojQGYn9IB9F",
        "colab_type": "text"
      },
      "cell_type": "markdown",
      "source": [
        "## Environment"
      ]
    },
    {
      "metadata": {
        "id": "2dVOFncmIDBU",
        "colab_type": "code",
        "colab": {}
      },
      "cell_type": "code",
      "source": [
        "from rl.core.envs import image_world\n",
        "\n",
        "train_env = image_world.ImageWorld(\n",
        "    window_size=window_size,\n",
        "    images=train_dataset.images,\n",
        "    labels=train_dataset.labels,\n",
        "    num_classes=num_classes)\n",
        "\n",
        "test_env = image_world.ImageWorld(\n",
        "    window_size=window_size,\n",
        "    images=test_dataset.images,\n",
        "    labels=test_dataset.labels,\n",
        "    num_classes=num_classes)"
      ],
      "execution_count": 0,
      "outputs": []
    },
    {
      "metadata": {
        "id": "1kjdLRyKKBd3",
        "colab_type": "code",
        "outputId": "b14fd8ba-8df4-4537-b8dc-cf4f1dd302ee",
        "colab": {
          "base_uri": "https://localhost:8080/",
          "height": 268
        }
      },
      "cell_type": "code",
      "source": [
        "show_image(train_env.image)"
      ],
      "execution_count": 0,
      "outputs": [
        {
          "output_type": "display_data",
          "data": {
            "text/plain": [
              "<Figure size 432x288 with 1 Axes>"
            ],
            "image/png": "[encoded data removed]"
          },
          "metadata": {
            "tags": [],
            "needs_background": "light"
          }
        }
      ]
    },
    {
      "metadata": {
        "id": "qRHv57qCJo3h",
        "colab_type": "code",
        "outputId": "bd073a72-c80c-4239-c83c-e0b8c3d93913",
        "colab": {
          "base_uri": "https://localhost:8080/",
          "height": 266
        }
      },
      "cell_type": "code",
      "source": [
        "show_image(train_env.minimap)"
      ],
      "execution_count": 0,
      "outputs": [
        {
          "output_type": "display_data",
          "data": {
            "text/plain": [
              "<Figure size 432x288 with 1 Axes>"
            ],
            "image/png": "[encoded data removed]"
          },
          "metadata": {
            "tags": [],
            "needs_background": "light"
          }
        }
      ]
    },
    {
      "metadata": {
        "id": "fcVkQX3WLZYH",
        "colab_type": "code",
        "outputId": "7ef51fc8-9fae-4737-d78f-5f28eb6b076a",
        "colab": {
          "base_uri": "https://localhost:8080/",
          "height": 36
        }
      },
      "cell_type": "code",
      "source": [
        "train_env.label"
      ],
      "execution_count": 0,
      "outputs": [
        {
          "output_type": "execute_result",
          "data": {
            "text/plain": [
              "1.0"
            ]
          },
          "metadata": {
            "tags": []
          },
          "execution_count": 8
        }
      ]
    },
    {
      "metadata": {
        "id": "W76Cu2HGNOMd",
        "colab_type": "text"
      },
      "cell_type": "markdown",
      "source": [
        "## Model"
      ]
    },
    {
      "metadata": {
        "id": "Mkjmv-dHe0tt",
        "colab_type": "code",
        "colab": {}
      },
      "cell_type": "code",
      "source": [
        "# CNN over window.\n",
        "class CNN(nn.Module):\n",
        "  def __init__(self, output_size=None):\n",
        "    super().__init__()\n",
        "    self.convs = model.cnn([\n",
        "        model.ConvSpec(depth=16, width=5, stride=1, padding=2),\n",
        "        model.ConvSpec(32, 5, 2, 2),\n",
        "        model.ConvSpec(64, 5, 2, 2),\n",
        "        model.ConvSpec(128, 5, 2, 2),\n",
        "        model.ConvSpec(256, 5, 2, 2),\n",
        "        model.ConvSpec(512, 5, 2, 2),\n",
        "    ], in_depth=1, fn=th.nn.ReLU, last_fn=th.nn.ReLU, bn=True)\n",
        "    \n",
        "    \n",
        "    self.pooling = nn.AdaptiveAvgPool2d((1, 1))\n",
        "    if output_size is not None:\n",
        "      self.fc = nn.Linear(512, output_size)\n",
        "    else:\n",
        "      self.fc = None\n",
        "    \n",
        "  def forward(self, x):  # BCHW -> BO\n",
        "    out = self.convs(x)\n",
        "    out = self.pooling(out)\n",
        "    out = out.reshape(out.size(0), -1)\n",
        "    if self.fc is not None:\n",
        "      out = self.fc(out)\n",
        "    return out"
      ],
      "execution_count": 0,
      "outputs": []
    },
    {
      "metadata": {
        "id": "pUDIY0ZieJHV",
        "colab_type": "code",
        "colab": {}
      },
      "cell_type": "code",
      "source": [
        "class ConvRnn(nn.Module):\n",
        "  def __init__(self, cnn, output_size=None):\n",
        "    super().__init__()\n",
        "    self.cnn = cnn\n",
        "    if output_size is not None:\n",
        "      with th.no_grad():\n",
        "        cnn_out_size = cnn(th.zeros(1, 1, 32, 32)).shape[-1]\n",
        "      self.fc = nn.Linear(cnn_out_size, output_size)\n",
        "    else:\n",
        "      self.fc = None\n",
        "  \n",
        "  def forward(self, x):  # BSCHW -> BO\n",
        "    b, s, c, h, w = x.shape\n",
        "    x_stacked = x.reshape((b * s, c, h, w))\n",
        "    out_stacked = self.cnn(x_stacked)\n",
        "    out = out_stacked.reshape((b, s) + out_stacked.shape[1:])\n",
        "    reduced = out.mean(dim=1)\n",
        "    if self.fc is not None:\n",
        "      reduced = self.fc(reduced)\n",
        "    return reduced"
      ],
      "execution_count": 0,
      "outputs": []
    },
    {
      "metadata": {
        "id": "mIXLAL9Hf5qc",
        "colab_type": "code",
        "outputId": "cdedf60b-94df-4fb6-8f86-e1b097806a3e",
        "colab": {
          "base_uri": "https://localhost:8080/",
          "height": 209
        }
      },
      "cell_type": "code",
      "source": [
        "ConvRnn(CNN(5), output_size=3)(th.zeros((10, 7, 1, 32, 32)))"
      ],
      "execution_count": 0,
      "outputs": [
        {
          "output_type": "execute_result",
          "data": {
            "text/plain": [
              "tensor([[-0.1374, -0.0430, -0.0125],\n",
              "        [-0.1374, -0.0430, -0.0125],\n",
              "        [-0.1374, -0.0430, -0.0125],\n",
              "        [-0.1374, -0.0430, -0.0125],\n",
              "        [-0.1374, -0.0430, -0.0125],\n",
              "        [-0.1374, -0.0430, -0.0125],\n",
              "        [-0.1374, -0.0430, -0.0125],\n",
              "        [-0.1374, -0.0430, -0.0125],\n",
              "        [-0.1374, -0.0430, -0.0125],\n",
              "        [-0.1374, -0.0430, -0.0125]], grad_fn=<AddmmBackward>)"
            ]
          },
          "metadata": {
            "tags": []
          },
          "execution_count": 69
        }
      ]
    },
    {
      "metadata": {
        "id": "u330-5smPRL-",
        "colab_type": "text"
      },
      "cell_type": "markdown",
      "source": [
        "## Train Eval"
      ]
    },
    {
      "metadata": {
        "id": "QH7kpJaOPTDC",
        "colab_type": "code",
        "colab": {}
      },
      "cell_type": "code",
      "source": [
        "from rl.core.algs import plotter\n",
        "\n",
        "def train(model, data_loader, name='', num_epochs=num_epochs):\n",
        "  plot = plotter.Plotter(log_dir='/tmp/tensorboard/' + name)\n",
        "  \n",
        "  # Loss and optimizer.\n",
        "  loss_fn = nn.CrossEntropyLoss()\n",
        "  optimizer = th.optim.Adam(model.parameters(), lr=learning_rate)\n",
        "\n",
        "\n",
        "  num_steps = len(data_loader)\n",
        "  for epoch in range(num_epochs):\n",
        "    for step, (images, labels) in enumerate(data_loader):\n",
        "      images, labels = images.to(device), labels.to(device, dtype=th.long)\n",
        "\n",
        "      # Forward\n",
        "      outputs = model(images)\n",
        "      loss = loss_fn(outputs, labels)\n",
        "\n",
        "      # Backward\n",
        "      optimizer.zero_grad()\n",
        "      loss.backward()\n",
        "      optimizer.step()\n",
        "\n",
        "      if step % 100 == 0:\n",
        "        plot.add_data('loss', epoch * num_steps + step,\n",
        "                      loss.detach().cpu().numpy())\n",
        "\n",
        "    print(f'Epoch [{epoch+1}/{num_epochs}], '\n",
        "          f'Loss: {loss.item():.4}')\n",
        "\n",
        "  plot.line_plot()\n",
        "  \n",
        "\n",
        "def eval(model, data_loader):\n",
        "  with th.no_grad():\n",
        "    correct, total = 0, 0\n",
        "    for images, labels in data_loader:\n",
        "      images, labels = images.to(device), labels.to(device, dtype=th.long)\n",
        "      outputs = model(images)\n",
        "      _, predicted = th.max(outputs.data, 1)\n",
        "      total += labels.size(0)\n",
        "      correct += (predicted == labels).sum().item()\n",
        "    accuracy = correct / total\n",
        "    print(f'Accuracy of model on {total} images: {100 * accuracy:0.2f}%')"
      ],
      "execution_count": 0,
      "outputs": []
    },
    {
      "metadata": {
        "id": "2j_uOsxfMF4E",
        "colab_type": "text"
      },
      "cell_type": "markdown",
      "source": [
        "## Baseline: CNN over minimaps\n",
        "\n",
        "Not expected to work well."
      ]
    },
    {
      "metadata": {
        "id": "cTL353p6fNeI",
        "colab_type": "code",
        "colab": {}
      },
      "cell_type": "code",
      "source": [
        "mini_train_ds = th.utils.data.TensorDataset(\n",
        "    th.Tensor(train_env._images_mini), th.Tensor(train_env._labels))\n",
        "mini_train_loader = th.utils.data.DataLoader(\n",
        "    dataset=mini_train_ds, batch_size=batch_size, shuffle=True)\n",
        "\n",
        "\n",
        "mini_test_ds = th.utils.data.TensorDataset(\n",
        "    th.Tensor(test_env._images_mini), th.Tensor(test_env._labels))\n",
        "mini_test_loader = th.utils.data.DataLoader(\n",
        "    dataset=mini_test_ds, batch_size=batch_size, shuffle=True)"
      ],
      "execution_count": 0,
      "outputs": []
    },
    {
      "metadata": {
        "id": "4T8KJOhU5wO2",
        "colab_type": "code",
        "outputId": "8f138e4c-e7df-483b-e573-846ea50fa9da",
        "colab": {
          "base_uri": "https://localhost:8080/",
          "height": 458
        }
      },
      "cell_type": "code",
      "source": [
        "baseline_model = CNN(num_classes).to(device)\n",
        "baseline_model"
      ],
      "execution_count": 0,
      "outputs": [
        {
          "output_type": "execute_result",
          "data": {
            "text/plain": [
              "CNN(\n",
              "  (convs): Sequential(\n",
              "    (0): Conv2d(1, 16, kernel_size=(5, 5), stride=(1, 1), padding=(2, 2))\n",
              "    (1): ReLU()\n",
              "    (2): BatchNorm2d(16, eps=1e-05, momentum=0.1, affine=True, track_running_stats=True)\n",
              "    (3): Conv2d(16, 32, kernel_size=(5, 5), stride=(2, 2), padding=(2, 2))\n",
              "    (4): ReLU()\n",
              "    (5): BatchNorm2d(32, eps=1e-05, momentum=0.1, affine=True, track_running_stats=True)\n",
              "    (6): Conv2d(32, 64, kernel_size=(5, 5), stride=(2, 2), padding=(2, 2))\n",
              "    (7): ReLU()\n",
              "    (8): BatchNorm2d(64, eps=1e-05, momentum=0.1, affine=True, track_running_stats=True)\n",
              "    (9): Conv2d(64, 128, kernel_size=(5, 5), stride=(2, 2), padding=(2, 2))\n",
              "    (10): ReLU()\n",
              "    (11): BatchNorm2d(128, eps=1e-05, momentum=0.1, affine=True, track_running_stats=True)\n",
              "    (12): Conv2d(128, 256, kernel_size=(5, 5), stride=(2, 2), padding=(2, 2))\n",
              "    (13): ReLU()\n",
              "    (14): BatchNorm2d(256, eps=1e-05, momentum=0.1, affine=True, track_running_stats=True)\n",
              "    (15): Conv2d(256, 512, kernel_size=(5, 5), stride=(2, 2), padding=(2, 2))\n",
              "    (16): ReLU()\n",
              "  )\n",
              "  (pooling): AdaptiveAvgPool2d(output_size=(1, 1))\n",
              "  (fc): Linear(in_features=512, out_features=10, bias=True)\n",
              ")"
            ]
          },
          "metadata": {
            "tags": []
          },
          "execution_count": 12
        }
      ]
    },
    {
      "metadata": {
        "id": "YOCPb7YxNcKc",
        "colab_type": "code",
        "outputId": "b94d0e5a-3146-4a29-8a8f-1b034eeca0f4",
        "colab": {
          "base_uri": "https://localhost:8080/",
          "height": 665
        }
      },
      "cell_type": "code",
      "source": [
        "train(baseline_model, mini_train_loader, 'synthetic_mnist_cnn_mini',\n",
        "      num_epochs=20)"
      ],
      "execution_count": 0,
      "outputs": [
        {
          "output_type": "stream",
          "text": [
            "Epoch [1/20], Loss: 1.889\n",
            "Epoch [2/20], Loss: 0.6672\n",
            "Epoch [3/20], Loss: 1.223\n",
            "Epoch [4/20], Loss: 0.1522\n",
            "Epoch [5/20], Loss: 0.9509\n",
            "Epoch [6/20], Loss: 0.1433\n",
            "Epoch [7/20], Loss: 0.8406\n",
            "Epoch [8/20], Loss: 0.08716\n",
            "Epoch [9/20], Loss: 0.3903\n",
            "Epoch [10/20], Loss: 0.2664\n",
            "Epoch [11/20], Loss: 0.4171\n",
            "Epoch [12/20], Loss: 0.1757\n",
            "Epoch [13/20], Loss: 0.01262\n",
            "Epoch [14/20], Loss: 0.3364\n",
            "Epoch [15/20], Loss: 0.1806\n",
            "Epoch [16/20], Loss: 0.3774\n",
            "Epoch [17/20], Loss: 0.07703\n",
            "Epoch [18/20], Loss: 0.01517\n",
            "Epoch [19/20], Loss: 0.1089\n",
            "Epoch [20/20], Loss: 0.2532\n"
          ],
          "name": "stdout"
        },
        {
          "output_type": "display_data",
          "data": {
            "text/plain": [
              "<Figure size 432x288 with 1 Axes>"
            ],
            "image/png": "[encoded data removed]"
          },
          "metadata": {
            "tags": [],
            "needs_background": "light"
          }
        }
      ]
    },
    {
      "metadata": {
        "id": "A_DixywEPrX0",
        "colab_type": "code",
        "outputId": "024045aa-1e46-4d5a-fa26-27404e557623",
        "colab": {
          "base_uri": "https://localhost:8080/",
          "height": 36
        }
      },
      "cell_type": "code",
      "source": [
        "# Train error.\n",
        "eval(baseline_model, mini_train_loader)"
      ],
      "execution_count": 0,
      "outputs": [
        {
          "output_type": "stream",
          "text": [
            "Accuracy of model on 50000 images: 97.79%\n"
          ],
          "name": "stdout"
        }
      ]
    },
    {
      "metadata": {
        "id": "pJG7mEgeN399",
        "colab_type": "code",
        "outputId": "929bc392-ca8f-4d0a-d923-938746db5446",
        "colab": {
          "base_uri": "https://localhost:8080/",
          "height": 36
        }
      },
      "cell_type": "code",
      "source": [
        "# Test error.\n",
        "eval(baseline_model, mini_test_loader)"
      ],
      "execution_count": 0,
      "outputs": [
        {
          "output_type": "stream",
          "text": [
            "Accuracy of model on 10000 images: 84.57%\n"
          ],
          "name": "stdout"
        }
      ]
    },
    {
      "metadata": {
        "id": "-bkwma77diTB",
        "colab_type": "text"
      },
      "cell_type": "markdown",
      "source": [
        "##Baseline: Random glimpses"
      ]
    },
    {
      "metadata": {
        "id": "DI9DUTgNdkx-",
        "colab_type": "code",
        "colab": {}
      },
      "cell_type": "code",
      "source": [
        "class RandomGlimpseDS(th.utils.data.Dataset):\n",
        "  def __init__(self, iw_env: image_world.ImageWorld, k: int):\n",
        "    super().__init__()\n",
        "    self.iw_env = iw_env\n",
        "    self.k = k\n",
        "  \n",
        "  def __len__(self):\n",
        "    return self.iw_env.num_images\n",
        "  \n",
        "  def __getitem__(self, index):\n",
        "    self.iw_env._current_image_index = index\n",
        "    \n",
        "    images = np.empty((self.k, 1, self.iw_env._win_sz, self.iw_env._win_sz))\n",
        "    for i in range(self.k):\n",
        "      x, y = self._get_glimpse(i)\n",
        "      images[i, ...] = self.iw_env._glimpse(x, y)\n",
        "    label = self.iw_env.label\n",
        "    return util.to_tensor(images), util.to_tensor(label)\n",
        "  \n",
        "  def _get_glimpse(self, i):\n",
        "    return np.random.uniform(size=(2,)) "
      ],
      "execution_count": 0,
      "outputs": []
    },
    {
      "metadata": {
        "id": "y6pi_H0tqZ96",
        "colab_type": "code",
        "colab": {}
      },
      "cell_type": "code",
      "source": [
        "K = 16\n",
        "rg_train_ds = RandomGlimpseDS(train_env, k=K)\n",
        "rg_train_loader = th.utils.data.DataLoader(\n",
        "    dataset=rg_train_ds, batch_size=batch_size, shuffle=True)\n",
        "\n",
        "rg_test_ds = RandomGlimpseDS(test_env, k=K)\n",
        "rg_test_loader = th.utils.data.DataLoader(\n",
        "    dataset=rg_test_ds, batch_size=batch_size)"
      ],
      "execution_count": 0,
      "outputs": []
    },
    {
      "metadata": {
        "id": "kAMqzBrbfaXh",
        "colab_type": "code",
        "colab": {
          "base_uri": "https://localhost:8080/",
          "height": 86
        },
        "outputId": "b0a20a0d-0c65-4c0a-9d98-68d5088ba22a"
      },
      "cell_type": "code",
      "source": [
        "imgs = util.to_numpy(rg_train_ds[0][0])\n",
        "imgs = [np.squeeze(img) for img in np.split(imgs, K, axis=0)]\n",
        "show_image(np.concatenate(imgs, axis=1), figsize=(10, 8))"
      ],
      "execution_count": 169,
      "outputs": [
        {
          "output_type": "display_data",
          "data": {
            "text/plain": [
              "<Figure size 720x576 with 1 Axes>"
            ],
            "image/png": "[encoded data removed]"
          },
          "metadata": {
            "tags": [],
            "needs_background": "light"
          }
        }
      ]
    },
    {
      "metadata": {
        "id": "GTgTlHOGkvZZ",
        "colab_type": "code",
        "colab": {
          "base_uri": "https://localhost:8080/",
          "height": 319
        },
        "outputId": "ca8487ee-c77f-4c39-88f5-88ec89d6362b"
      },
      "cell_type": "code",
      "source": [
        "rg_model = ConvRnn(CNN(), num_classes).to(device)\n",
        "train(rg_model, rg_train_loader, 'synthetic_mnist_random_k' + str(K),\n",
        "      num_epochs=2)"
      ],
      "execution_count": 130,
      "outputs": [
        {
          "output_type": "stream",
          "text": [
            "Epoch [1/2], Loss: 0.4099\n",
            "Epoch [2/2], Loss: 0.4932\n"
          ],
          "name": "stdout"
        },
        {
          "output_type": "display_data",
          "data": {
            "text/plain": [
              "<Figure size 432x288 with 1 Axes>"
            ],
            "image/png": "[encoded data removed]"
          },
          "metadata": {
            "tags": [],
            "needs_background": "light"
          }
        }
      ]
    },
    {
      "metadata": {
        "colab_type": "code",
        "outputId": "e2a52c07-f9f0-4bd4-a72b-64dc37445b79",
        "id": "7PvgnXjap-8J",
        "colab": {
          "base_uri": "https://localhost:8080/",
          "height": 36
        }
      },
      "cell_type": "code",
      "source": [
        "# Train error.\n",
        "eval(rg_model, rg_train_loader)"
      ],
      "execution_count": 131,
      "outputs": [
        {
          "output_type": "stream",
          "text": [
            "Accuracy of model on 50000 images: 71.24%\n"
          ],
          "name": "stdout"
        }
      ]
    },
    {
      "metadata": {
        "colab_type": "code",
        "outputId": "8895fa2c-9051-4907-a2ad-bcc03bcbbd4f",
        "id": "xoMW_zrfp-8M",
        "colab": {
          "base_uri": "https://localhost:8080/",
          "height": 36
        }
      },
      "cell_type": "code",
      "source": [
        "# Test error.\n",
        "eval(rg_model, rg_test_loader)"
      ],
      "execution_count": 132,
      "outputs": [
        {
          "output_type": "stream",
          "text": [
            "Accuracy of model on 10000 images: 72.04%\n"
          ],
          "name": "stdout"
        }
      ]
    },
    {
      "metadata": {
        "colab_type": "text",
        "id": "1AyfuGqST_g3"
      },
      "cell_type": "markdown",
      "source": [
        "##Baseline: Grid glimpses"
      ]
    },
    {
      "metadata": {
        "colab_type": "code",
        "id": "Ltule695T_g6",
        "colab": {}
      },
      "cell_type": "code",
      "source": [
        "class GridGlimpseDS(RandomGlimpseDS):\n",
        "  def _get_glimpse(self, i):\n",
        "    k = self.k\n",
        "    sqrt_k = int(np.sqrt(k))\n",
        "    x = (i % sqrt_k) / sqrt_k\n",
        "    y = (i // sqrt_k) / sqrt_k\n",
        "    return x, y"
      ],
      "execution_count": 0,
      "outputs": []
    },
    {
      "metadata": {
        "colab_type": "code",
        "id": "-l6Y0lZVT_hJ",
        "colab": {}
      },
      "cell_type": "code",
      "source": [
        "K = 16\n",
        "gg_train_ds = GridGlimpseDS(train_env, k=K)\n",
        "gg_train_loader = th.utils.data.DataLoader(\n",
        "    dataset=gg_train_ds, batch_size=batch_size, shuffle=True)\n",
        "\n",
        "gg_test_ds = GridGlimpseDS(test_env, k=K)\n",
        "gg_test_loader = th.utils.data.DataLoader(\n",
        "    dataset=gg_test_ds, batch_size=batch_size)"
      ],
      "execution_count": 0,
      "outputs": []
    },
    {
      "metadata": {
        "id": "iuMvFCRriZXD",
        "colab_type": "code",
        "colab": {
          "base_uri": "https://localhost:8080/",
          "height": 86
        },
        "outputId": "da3ee4c4-b875-47b6-b024-98add52e06aa"
      },
      "cell_type": "code",
      "source": [
        "imgs = util.to_numpy(gg_train_ds[0][0])\n",
        "imgs = [np.squeeze(img) for img in np.split(imgs, K, axis=0)]\n",
        "show_image(np.concatenate(imgs, axis=1), figsize=(10, 8))"
      ],
      "execution_count": 175,
      "outputs": [
        {
          "output_type": "display_data",
          "data": {
            "text/plain": [
              "<Figure size 720x576 with 1 Axes>"
            ],
            "image/png": "[encoded data removed]"
          },
          "metadata": {
            "tags": [],
            "needs_background": "light"
          }
        }
      ]
    },
    {
      "metadata": {
        "colab_type": "code",
        "id": "7baIzWcxT_hT",
        "outputId": "165bad09-08ed-43be-e516-72e2163e8358",
        "colab": {
          "base_uri": "https://localhost:8080/",
          "height": 319
        }
      },
      "cell_type": "code",
      "source": [
        "gg_model = ConvRnn(CNN(), num_classes).to(device)\n",
        "train(gg_model, gg_train_loader, 'synthetic_mnist_grid_k' + str(K),\n",
        "      num_epochs=2)"
      ],
      "execution_count": 135,
      "outputs": [
        {
          "output_type": "stream",
          "text": [
            "Epoch [1/2], Loss: 0.06422\n",
            "Epoch [2/2], Loss: 0.04305\n"
          ],
          "name": "stdout"
        },
        {
          "output_type": "display_data",
          "data": {
            "text/plain": [
              "<Figure size 432x288 with 1 Axes>"
            ],
            "image/png": "[encoded data removed]"
          },
          "metadata": {
            "tags": [],
            "needs_background": "light"
          }
        }
      ]
    },
    {
      "metadata": {
        "colab_type": "code",
        "outputId": "8e6688a4-ee11-49f4-9ff6-f242b617b88e",
        "id": "-uvEzBZCT_hb",
        "colab": {
          "base_uri": "https://localhost:8080/",
          "height": 36
        }
      },
      "cell_type": "code",
      "source": [
        "# Train error.\n",
        "eval(gg_model, gg_train_loader)"
      ],
      "execution_count": 136,
      "outputs": [
        {
          "output_type": "stream",
          "text": [
            "Accuracy of model on 50000 images: 93.69%\n"
          ],
          "name": "stdout"
        }
      ]
    },
    {
      "metadata": {
        "colab_type": "code",
        "outputId": "b1edfed8-cc87-48f7-a1d2-177b865729ee",
        "id": "HX6nBESCT_hg",
        "colab": {
          "base_uri": "https://localhost:8080/",
          "height": 36
        }
      },
      "cell_type": "code",
      "source": [
        "# Test error.\n",
        "eval(gg_model, gg_test_loader)"
      ],
      "execution_count": 137,
      "outputs": [
        {
          "output_type": "stream",
          "text": [
            "Accuracy of model on 10000 images: 91.97%\n"
          ],
          "name": "stdout"
        }
      ]
    },
    {
      "metadata": {
        "id": "upScPJHzBik0",
        "colab_type": "text"
      },
      "cell_type": "markdown",
      "source": [
        "## Policy: RNN"
      ]
    },
    {
      "metadata": {
        "id": "RGekG8FbphzQ",
        "colab_type": "code",
        "colab": {}
      },
      "cell_type": "code",
      "source": [
        "# RNN Controller\n",
        "class RNN(nn.Module):\n",
        "  def __init__(self, input_size, hidden_size, num_layers, output_size):\n",
        "    super().__init__()\n",
        "    self.hidden_size = hidden_size\n",
        "    self.num_layers = num_layers\n",
        "    self.lstm = nn.LSTM(input_size, hidden_size, num_layers)\n",
        "    self.fc = nn.Linear(hidden_size, output_size)\n",
        "    \n",
        "  def forward(self, x):\n",
        "    \"\"\"\n",
        "    Args:\n",
        "      x: input tensor, shaped [seq_len, batch_size, input_size]\n",
        "    \"\"\"\n",
        "    if self.h_n is None:\n",
        "      # Set initial hidden and cell states.\n",
        "      self.h_n = th.zeros(self.num_layers, x.size(1), self.hidden_size).to(device)\n",
        "      self.c_n = th.zeros(self.num_layers, x.size(1), self.hidden_size).to(device)\n",
        "    \n",
        "    # Forward propagate LSTM.\n",
        "    # out shape (seq_len, batch_size, hid_size)\n",
        "    out, (self.h_n, self.c_n) = self.lstm(x, (self.h_n, self.c_n))\n",
        "    \n",
        "    # Decode the hidden state of the last time step.\n",
        "    out = self.fc(out[-1, :, :])\n",
        "    return out\n",
        "    \n",
        "  def reset(self):\n",
        "    self.h_n, self.c_n = None, None\n",
        "  \n",
        "  def step(self, x):\n",
        "    \"\"\"\n",
        "    Args:\n",
        "      x: input tensor, shaped [batch_size, input_size]\n",
        "    \"\"\"\n",
        "    return forward(x.unsqueeze(dim=0))"
      ],
      "execution_count": 0,
      "outputs": []
    },
    {
      "metadata": {
        "id": "jheGLBHKcR0N",
        "colab_type": "text"
      },
      "cell_type": "markdown",
      "source": [
        "##Actor"
      ]
    },
    {
      "metadata": {
        "id": "JXqmlPLCBpOw",
        "colab_type": "code",
        "outputId": "7585265b-5f72-4eb4-a414-953584d7e755",
        "colab": {
          "base_uri": "https://localhost:8080/",
          "height": 55
        }
      },
      "cell_type": "code",
      "source": [
        "\n",
        "\n",
        "# 32x32 Minimap -> 4x4 heatmap over glimpse location (log-softmax).\n",
        "\n",
        "class Actor(th.nn.Module):\n",
        "  \n",
        "  def __init__(self):\n",
        "    super().__init__()\n",
        "    conv_specs = [\n",
        "        model.ConvSpec(depth=8, width=5, stride=2, padding=2),\n",
        "        model.ConvSpec(16, 5, 2, 2),\n",
        "        model.ConvSpec(1, 5, 2, 2),\n",
        "    ]\n",
        "    input_shape = (window_size, window_size, 1)\n",
        "    heatmap_shape = model.cnn_shape(conv_specs, input_shape)\n",
        "    print('Input shape:', input_shape)\n",
        "    print('Heatmap shape:', heatmap_shape)\n",
        "    assert heatmap_shape[0] > 1 and heatmap_shape[1] > 1\n",
        "\n",
        "    self.minimap_cnn = model.cnn(conv_specs, input_shape[-1], bn=True)\n",
        "    self.logsoftmax = th.nn.LogSoftmax(dim=-1)\n",
        "    \n",
        "  def forward(self, x):\n",
        "    \"\"\"Minimap -> heatmap (log-softmax), flattened to [batch, -1]\"\"\"\n",
        "    x = self.minimap_cnn(x)\n",
        "    return self.logsoftmax(x.view(x.shape[0], -1))\n",
        "  \n",
        "  def log_probs(self, obs_var, acs_var, metrics=None):\n",
        "    dist = self._get_action_distribution(obs_var)\n",
        "    log_probs = dist.log_prob(acs_var)\n",
        "    log_probs = log_probs.squeeze()  # [batch, 1] -> [batch]\n",
        "    return log_probs\n",
        "  \n",
        "  def _get_action_distribution(self, obs_var):\n",
        "    logits = self(obs_var)\n",
        "    dist = th.distributions.Categorical(logits=logits)\n",
        "    return dist\n",
        "  \n",
        "  def get_action(self, obs_np):\n",
        "    obs_var = util.to_tensor(obs_np)\n",
        "    dist = self._get_action_distribution(obs_var.unsqueeze(0))\n",
        "    ac = dist.sample().squeeze(0)\n",
        "    out_np = util.to_numpy(ac)\n",
        "    return out_np\n",
        "\n",
        "actor = Actor().to(device)"
      ],
      "execution_count": 0,
      "outputs": [
        {
          "output_type": "stream",
          "text": [
            "Input shape: (32, 32, 1)\n",
            "Heatmap shape: (4, 4, 1)\n"
          ],
          "name": "stdout"
        }
      ]
    },
    {
      "metadata": {
        "id": "ps4PpFtjOb1M",
        "colab_type": "code",
        "outputId": "9c81ba6d-c281-44f6-9735-7dbcc4251dbe",
        "colab": {
          "base_uri": "https://localhost:8080/",
          "height": 74
        }
      },
      "cell_type": "code",
      "source": [
        "obs = th.rand((1, 1, 32, 32)).to(device)\n",
        "actor(obs)"
      ],
      "execution_count": 0,
      "outputs": [
        {
          "output_type": "execute_result",
          "data": {
            "text/plain": [
              "tensor([[-2.8461, -3.1342, -3.0645, -3.2041, -2.9614, -3.0136, -2.7436, -2.2936,\n",
              "         -2.6979, -1.8994, -2.7294, -2.8076, -3.0575, -2.9127, -2.8294, -3.1695]],\n",
              "       device='cuda:0', grad_fn=<LogSoftmaxBackward>)"
            ]
          },
          "metadata": {
            "tags": []
          },
          "execution_count": 36
        }
      ]
    },
    {
      "metadata": {
        "id": "BFU1eeg8O4ep",
        "colab_type": "code",
        "outputId": "a6f0bd2a-2d11-451d-fb4b-43c5571f2403",
        "colab": {
          "base_uri": "https://localhost:8080/",
          "height": 36
        }
      },
      "cell_type": "code",
      "source": [
        "actor.get_action(util.to_numpy(obs[0]))"
      ],
      "execution_count": 0,
      "outputs": [
        {
          "output_type": "execute_result",
          "data": {
            "text/plain": [
              "array(15)"
            ]
          },
          "metadata": {
            "tags": []
          },
          "execution_count": 44
        }
      ]
    },
    {
      "metadata": {
        "id": "TG3AA94nTko-",
        "colab_type": "code",
        "outputId": "27b21cf6-243e-419e-fd6e-c280e21f6f20",
        "colab": {
          "base_uri": "https://localhost:8080/",
          "height": 36
        }
      },
      "cell_type": "code",
      "source": [
        "actor.log_probs(obs, util.to_tensor([[2]]))"
      ],
      "execution_count": 0,
      "outputs": [
        {
          "output_type": "execute_result",
          "data": {
            "text/plain": [
              "tensor(-3.0645, device='cuda:0', grad_fn=<SqueezeBackward0>)"
            ]
          },
          "metadata": {
            "tags": []
          },
          "execution_count": 41
        }
      ]
    },
    {
      "metadata": {
        "id": "y2loddtGR9Pc",
        "colab_type": "code",
        "colab": {}
      },
      "cell_type": "code",
      "source": [
        "# Patch model.\n",
        "patch_model = CNN(num_classes).to(device)"
      ],
      "execution_count": 0,
      "outputs": []
    },
    {
      "metadata": {
        "id": "deCNG0iPP1P5",
        "colab_type": "code",
        "colab": {}
      },
      "cell_type": "code",
      "source": [
        "from rl.core.algs import policy\n",
        "\n",
        "pg = policy.PolicyGradient(actor)"
      ],
      "execution_count": 0,
      "outputs": []
    },
    {
      "metadata": {
        "id": "ZPBEn0VkSbai",
        "colab_type": "code",
        "colab": {}
      },
      "cell_type": "code",
      "source": [
        "from rl.core.envs import image_world\n",
        "\n",
        "class ImageWorldEnvironment:\n",
        "  def __init__(self, image_world_env):\n",
        "    self.env = image_world_env\n",
        "  \n",
        "  def reset(self):\n",
        "    return self.env.reset()\n",
        "    \n",
        "  def sample_rollouts(self, policy, batch_size):\n",
        "    \"\"\"\n",
        "    episodes = []\n",
        "    env_need_reset = True\n",
        "    episode_i = 0\n",
        "    steps = 0\n",
        "    while True:\n",
        "      if env_need_reset:\n",
        "        if batch_size and steps >= batch_size:\n",
        "          break\n",
        "        episode_i += 1\n",
        "        episode = []\n",
        "        episodes.append(episode)\n",
        "        ob = self.env.reset()\n",
        "      if render:\n",
        "        self.env.render()\n",
        "      ac = policy(ob)\n",
        "      ob, r, env_need_reset, _ = self.env.step(ac)\n",
        "      episode.append(SAR(ob, ac, r))\n",
        "      steps += 1\n",
        "    \"\"\"  \n",
        "    for ep in batch_size // 2:\n",
        "      minimap = self.env.reset()\n",
        "      ac = policy(minimap)\n",
        "      ac = self.encode_action(window=ac)\n",
        "   \n",
        "    return episodes\n",
        "  \n",
        "  def encode_action(self, window=None, prediction=None):\n",
        "    assert window or prediction\n",
        "    assert not (window and prediction)\n",
        "    \n",
        "    if window:\n",
        "      w = int(math.sqrt(window.shape[-1]))\n",
        "      \n"
      ],
      "execution_count": 0,
      "outputs": []
    },
    {
      "metadata": {
        "id": "ircl6QxuOwNh",
        "colab_type": "text"
      },
      "cell_type": "markdown",
      "source": [
        "## Train"
      ]
    },
    {
      "metadata": {
        "id": "votDXSLhR8Be",
        "colab_type": "text"
      },
      "cell_type": "markdown",
      "source": [
        "## Test"
      ]
    },
    {
      "metadata": {
        "id": "yEuasDWblPD1",
        "colab_type": "text"
      },
      "cell_type": "markdown",
      "source": [
        "## Visualize"
      ]
    },
    {
      "metadata": {
        "id": "Qi6OMFR0lP-g",
        "colab_type": "code",
        "colab": {}
      },
      "cell_type": "code",
      "source": [
        "with th.no_grad():\n",
        "  images, labels = next(iter(test_loader))\n",
        "  images, labels = images.to(device), labels.to(device, dtype=th.long)\n",
        "  preds = model(images)"
      ],
      "execution_count": 0,
      "outputs": []
    },
    {
      "metadata": {
        "id": "k4w5-ifTnY2h",
        "colab_type": "code",
        "outputId": "9c0241d9-675f-443e-daa2-8387ae43f6ea",
        "colab": {
          "base_uri": "https://localhost:8080/",
          "height": 346
        }
      },
      "cell_type": "code",
      "source": [
        "show_image(images[0].cpu())\n",
        "print(labels[0], th.argmax(preds[0]))\n",
        "print(preds[0])"
      ],
      "execution_count": 0,
      "outputs": [
        {
          "output_type": "stream",
          "text": [
            "tensor(7, device='cuda:0') tensor(7, device='cuda:0')\n",
            "tensor([-65.1824, -17.0377, -18.4109, -23.8195, -17.5708, -14.8207, -17.6504,\n",
            "         13.5137,  -7.6158, -12.6516, -13.4251, -16.3913, -18.0062,  -9.7191,\n",
            "        -31.7705, -22.9673, -44.8392, -66.1163, -88.2574], device='cuda:0')\n"
          ],
          "name": "stdout"
        },
        {
          "output_type": "display_data",
          "data": {
            "text/plain": [
              "<matplotlib.figure.Figure at 0x7f5cc03226a0>"
            ],
            "image/png": "[encoded data removed]"
          },
          "metadata": {
            "tags": []
          }
        }
      ]
    },
    {
      "metadata": {
        "id": "OxfPTbFgoIjo",
        "colab_type": "code",
        "outputId": "e3618d50-9fe1-4441-d337-c5287ff329b9",
        "colab": {
          "base_uri": "https://localhost:8080/",
          "height": 346
        }
      },
      "cell_type": "code",
      "source": [
        "show_image(images[-1].cpu())\n",
        "print(labels[-1], th.argmax(preds[-1]))\n",
        "print(preds[-1])"
      ],
      "execution_count": 0,
      "outputs": [
        {
          "output_type": "stream",
          "text": [
            "tensor(11, device='cuda:0') tensor(11, device='cuda:0')\n",
            "tensor([-69.5024, -49.4482, -36.4089, -27.7180, -23.8961, -16.9660, -12.2554,\n",
            "        -14.4462, -15.4553,  -9.9069,  -8.2601,  10.7134,  -6.8387,  -5.3839,\n",
            "        -16.5228, -12.9464,  -6.7946,  -5.1531,  -6.4700], device='cuda:0')\n"
          ],
          "name": "stdout"
        },
        {
          "output_type": "display_data",
          "data": {
            "text/plain": [
              "<matplotlib.figure.Figure at 0x7f5cc038da58>"
            ],
            "image/png": "[encoded data removed]"
          },
          "metadata": {
            "tags": []
          }
        }
      ]
    },
    {
      "metadata": {
        "id": "kWadwB94Wyqe",
        "colab_type": "text"
      },
      "cell_type": "markdown",
      "source": [
        "## Save model"
      ]
    },
    {
      "metadata": {
        "id": "7JzujefLWyGn",
        "colab_type": "code",
        "colab": {}
      },
      "cell_type": "code",
      "source": [
        "th.save(model.state_dict(), '/tmp/synthetic_mnist_conv.ckpt')"
      ],
      "execution_count": 0,
      "outputs": []
    }
  ]
}